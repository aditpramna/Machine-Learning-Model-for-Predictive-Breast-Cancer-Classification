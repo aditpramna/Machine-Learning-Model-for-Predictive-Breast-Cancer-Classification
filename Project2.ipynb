{
  "cells": [
    {
      "cell_type": "markdown",
      "metadata": {},
      "source": [
        "link hugging face = https://huggingface.co/spaces/Aditpramna/Milestone2_Aditpramna\n",
        "\n",
        "Jika anda ingin mencoba menggunakan model saya ini.Silahkan klik link diatas!"
      ]
    },
    {
      "cell_type": "markdown",
      "metadata": {
        "id": "lEPDBbGsFmCA"
      },
      "source": [
        "# Perkenalan"
      ]
    },
    {
      "cell_type": "markdown",
      "metadata": {
        "id": "d6DrqbTPFrXo"
      },
      "source": [
        "```\n",
        "===========================================\n",
        "Milestone 2\n",
        "\n",
        "Nama = Aditya Pramana Putra\n",
        "Batch = HCK-007\n",
        "\n",
        "Tujuan projek ini adalah untuk membuat model prediksi pasien yang tidak terkena kanker dan terkena kanker payudarah di RS.IDA KARTINI.\n",
        "===========================================\n",
        "\n",
        "```\n"
      ]
    },
    {
      "cell_type": "markdown",
      "metadata": {
        "id": "-v7Fu7l0F-h6"
      },
      "source": [
        "### Kamus data\n",
        "\n",
        "\n",
        "- id (int64): Ini adalah kolom yang berisi ID unik untuk setiap data dalam dataset. ID ini digunakan untuk tujuan identifikasi dan pengindeksan data.\n",
        "\n",
        "- diagnosis (object): Ini adalah kolom yang berisi diagnosis dari setiap kasus. Diagnosis ini bisa berisi 'M' untuk malignant (kanker) atau 'B' untuk benign (Non kanker). Ini adalah kolom target yang akan digunakan dalam analisis atau pemodelan untuk memprediksi jenis kanker.\n",
        "\n",
        "- radius_mean (float64): Ini adalah rata-rata jari-jari sel pada gambaran mikroskopis. Ini adalah salah satu fitur yang menggambarkan ukuran sel secara keseluruhan.\n",
        "\n",
        "- texture_mean (float64): Ini adalah rata-rata nilai tekstur sel. Ini mengukur variasi intensitas warna pada gambar sel.\n",
        "\n",
        "- perimeter_mean (float64): Ini adalah rata-rata panjang perimeter (keliling) sel. Ini mengukur panjang total dari batas sel.\n",
        "\n",
        "- area_mean (float64): Ini adalah rata-rata luas area sel. Ini mengukur ukuran bidang sel.\n",
        "\n",
        "- smoothness_mean (float64): Ini adalah rata-rata kehalusan permukaan sel. Ini mengukur sejauh mana permukaan sel terlihat halus atau kasar.\n",
        "\n",
        "- compactness_mean (float64): Ini adalah rata-rata kompakitas sel. Ini mengukur sejauh mana sel cenderung mengelompok atau kompak.\n",
        "\n",
        "- concavity_mean (float64): Ini adalah rata-rata konkavitas sel. Ini mengukur sejauh mana sel memiliki cekungan atau kedalaman konkav.\n",
        "\n",
        "- concave points_mean (float64): Ini adalah rata-rata jumlah titik konkav pada sel. Ini mengukur jumlah titik konkav pada sel.\n",
        "\n",
        "- symmetry_mean (float64): Ini adalah rata-rata simetri sel. Ini mengukur sejauh mana sel terlihat simetris.\n",
        "\n",
        "- fractal_dimension_mean (float64): Ini adalah rata-rata dimensi fraktal sel. Ini adalah ukuran kompleksitas sel yang bersifat fraktal.\n",
        "\n",
        "- radius_se (float64): Ini adalah standar error dari jari-jari sel. Ini mengukur ketidakpastian atau variasi dalam pengukuran jari-jari sel.\n",
        "\n",
        "- texture_se (float64): Ini adalah standar error dari nilai tekstur sel. Ini mengukur ketidakpastian dalam pengukuran tekstur sel.\n",
        "\n",
        "- perimeter_se (float64): Ini adalah standar error dari panjang perimeter (keliling) sel. Ini mengukur ketidakpastian dalam pengukuran panjang perimeter.\n",
        "\n",
        "- area_se (float64): Ini adalah standar error dari luas area sel. Ini mengukur ketidakpastian dalam pengukuran luas area.\n",
        "\n",
        "- smoothness_se (float64): Ini adalah standar error dari kehalusan permukaan sel. Ini mengukur ketidakpastian dalam pengukuran kehalusan permukaan.\n",
        "\n",
        "- compactness_se (float64): Ini adalah standar error dari kompakitas sel. Ini mengukur ketidakpastian dalam pengukuran kompakitas.\n",
        "\n",
        "- concavity_se (float64): Ini adalah standar error dari konkavitas sel. Ini mengukur ketidakpastian dalam pengukuran konkavitas.\n",
        "\n",
        "- concave points_se (float64): Ini adalah standar error dari jumlah titik konkav pada sel. Ini mengukur ketidakpastian dalam pengukuran jumlah titik konkav.\n",
        "\n",
        "- symmetry_se (float64): Ini adalah standar error dari simetri sel. Ini mengukur ketidakpastian dalam pengukuran simetri.\n",
        "\n",
        "- fractal_dimension_se (float64): Ini adalah standar error dari dimensi fraktal sel. Ini mengukur ketidakpastian dalam pengukuran dimensi fraktal.\n",
        "\n",
        "- radius_worst (float64): Ini adalah \"Worst\" (terburuk) nilai jari-jari sel dari berbagai sampel. Ini adalah nilai terburuk yang diukur dari berbagai pengamatan.\n",
        "\n",
        "- texture_worst (float64): Ini adalah \"Worst\" (terburuk) nilai tekstur sel dari berbagai sampel. Ini adalah nilai terburuk yang diukur dari berbagai pengamatan.\n",
        "\n",
        "- perimeter_worst (float64): Ini adalah \"Worst\" (terburuk) nilai panjang perimeter (keliling) sel dari berbagai sampel. Ini adalah nilai terburuk yang diukur dari berbagai pengamatan.\n",
        "\n",
        "- area_worst (float64): Ini adalah \"Worst\" (terburuk) nilai luas area sel dari berbagai sampel. Ini adalah nilai terburuk yang diukur dari berbagai pengamatan.\n",
        "\n",
        "- smoothness_worst (float64): Ini adalah \"Worst\" (terburuk) nilai kehalusan permukaan sel dari berbagai sampel. Ini adalah nilai terburuk yang diukur dari berbagai pengamatan.\n",
        "\n",
        "- compactness_worst (float64): Ini adalah \"Worst\" (terburuk) nilai kompakitas sel dari berbagai sampel. Ini adalah nilai terburuk yang diukur dari berbagai pengamatan.\n",
        "\n",
        "- concavity_worst (float64): Ini adalah \"Worst\" (terburuk) nilai konkavitas sel dari berbagai sampel. Ini adalah nilai terburuk yang diukur dari berbagai pengamatan.\n",
        "\n",
        "- concave points_worst (float64): Ini adalah \"Worst\" (terburuk) jumlah titik konkav pada sel dari berbagai sampel. Ini adalah nilai terburuk yang diukur dari berbagai pengamatan.\n",
        "\n",
        "- symmetry_worst (float64): Ini adalah \"Worst\" (terburuk) nilai simetri sel dari berbagai sampel. Ini adalah nilai terburuk yang diukur dari berbagai pengamatan.\n",
        "\n",
        "- fractal_dimension_worst (float64): Ini adalah \"Worst\" (terburuk) nilai dimensi fraktal sel dari berbagai sampel. Ini adalah nilai terburuk yang diukur dari berbagai pengamatan."
      ]
    },
    {
      "cell_type": "markdown",
      "metadata": {},
      "source": [
        "### Background\n",
        "\n",
        "\n",
        "Kanker payudara adalah kanker yang paling umum terjadi pada wanita di dunia. Penyakit ini menyumbang 25% dari seluruh kasus kanker, dan mempengaruhi lebih dari 2,1 Juta orang pada tahun 2015 saja. Ini dimulai ketika sel-sel di payudara mulai tumbuh di luar kendali. Sel-sel ini biasanya membentuk tumor yang terlihat melalui X-ray atau dirasakan sebagai benjolan di area payudara.\n",
        "\n",
        "Tantangan utama dalam pendeteksiannya adalah bagaimana mengklasifikasikan tumor menjadi ganas (kanker) atau jinak (non-kanker). Kami meminta Anda menyelesaikan analisis klasifikasi tumor ini menggunakan pembelajaran mesin dan Kumpulan Data Kanker Payudara Wisconsin (Diagnostik).\n",
        "\n",
        "\"Objektif dari proyek ini adalah untuk mengembangkan model klasifikasi tumor payudara menggunakan pembelajaran mesin yang dapat mencapai akurasi pengklasifikasian di atas 95% pada dataset pengujian dalam waktu 6 bulan. Model ini akan membantu dalam diagnosis dini kanker payudara dan akan disiapkan untuk integrasi klinis dalam waktu 1 tahun.\""
      ]
    },
    {
      "cell_type": "markdown",
      "metadata": {
        "id": "OZ44B9bSGJhu"
      },
      "source": [
        "### Problem Statement\n",
        "\n",
        "\n",
        "Tujuan dari proyek ini adalah untuk mengembangkan model pembelajaran mesin yang dapat mengklasifikasikan tumor payudara menjadi ganas (kanker) atau jinak (non-kanker) berdasarkan fitur-fitur dari gambar kanker payudara. Tujuan ini diukur dengan mencapai akurasi tinggi dalam mengklasifikasikan tumor, dengan target akurasi di atas 95% pada dataset pengujian. Tujuan ini dapat dicapai dengan menggunakan data medis dan teknik pembelajaran mesin yang tepat. Solusi ini sangat relevan karena dapat membantu dalam diagnosis dini kanker payudara, yang memiliki dampak kesehatan yang serius. Tujuan ini diharapkan akan selesai dalam waktu 6 bulan dan dapat digunakan secara praktis dalam waktu 1 tahun untuk mendukung pekerjaan para profesional medis dalam diagnosis kanker payudara.\n"
      ]
    },
    {
      "cell_type": "markdown",
      "metadata": {
        "id": "aqYNuA4sGcvq"
      },
      "source": [
        "# Import Libraries"
      ]
    },
    {
      "cell_type": "code",
      "execution_count": 1,
      "metadata": {
        "id": "yZIJ4yktGe9z"
      },
      "outputs": [],
      "source": [
        "# Untuk membaca dan membuat dataframe\n",
        "import pandas as pd\n",
        "\n",
        "# Mempersiapkan array untuk menghitung perhitungan matematika\n",
        "import numpy as np\n",
        "\n",
        "# Untuk membuat visualisasi data pada EDA\n",
        "import seaborn as sns\n",
        "import matplotlib.pyplot as plt\n",
        "\n",
        "# Untuk menyimpan model\n",
        "import pickle\n",
        "\n",
        "# Untuk memeriksa distribusi data\n",
        "from scipy import stats\n",
        "\n",
        "# Untuk membagi data train dan split dalam seleksi model\n",
        "from sklearn.model_selection import train_test_split\n",
        "\n",
        "# method untuk memasukan/imputasi nilai kedalam missing value\n",
        "from sklearn.impute import SimpleImputer\n",
        "\n",
        "# Untuk melakukan preprocessing fitur transformasi\n",
        "from sklearn.preprocessing import MinMaxScaler\n",
        "\n",
        "# Dimensionality Reduction menggunakan PCA\n",
        "from sklearn.decomposition import PCA\n",
        "\n",
        "# Untuk melakukan pengecekan variabel yang mempunyai multikolinearity\n",
        "from statsmodels.stats.outliers_influence import variance_inflation_factor\n",
        "\n",
        "# Untuk model evaluation\n",
        "from sklearn.metrics import classification_report, confusion_matrix,ConfusionMatrixDisplay, f1_score, accuracy_score, precision_score, recall_score,roc_curve, roc_auc_score\n",
        "\n",
        "# membuat model KNN\n",
        "from sklearn.neighbors import KNeighborsClassifier\n",
        "\n",
        "# membuat model SVM\n",
        "from sklearn.svm import SVC\n",
        "\n",
        "# Membuat model DecisionTree\n",
        "from sklearn.tree import DecisionTreeClassifier\n",
        "\n",
        "# Membuat model Random Forrest dan AdaBoost\n",
        "from sklearn.ensemble import RandomForestClassifier,AdaBoostClassifier\n",
        "\n",
        "from sklearn.model_selection import cross_val_score\n",
        "\n",
        "# Melakukan hyperparameter tuning\n",
        "from sklearn.model_selection import RandomizedSearchCV,learning_curve\n",
        "\n",
        "# Membuat Pipeline\n",
        "from sklearn.pipeline import Pipeline\n",
        "from sklearn.compose import ColumnTransformer\n",
        "\n",
        "#Untuk mengabaikan fitur peringatan\n",
        "import warnings\n",
        "warnings.filterwarnings('ignore')"
      ]
    },
    {
      "cell_type": "markdown",
      "metadata": {
        "id": "RYFUz7BZGnA3"
      },
      "source": [
        "# Data loading"
      ]
    },
    {
      "cell_type": "code",
      "execution_count": 2,
      "metadata": {
        "id": "JR9GcNeDGitx"
      },
      "outputs": [],
      "source": [
        "# Membaca file csv yang sudah kita download\n",
        "data1 = pd.read_csv('breast-cancer.csv')\n",
        "\n",
        "# Mengcopy data untuk dan data1 untuk explorasi data\n",
        "data  = data1.copy()"
      ]
    },
    {
      "cell_type": "code",
      "execution_count": 3,
      "metadata": {},
      "outputs": [
        {
          "data": {
            "text/html": [
              "<div>\n",
              "<style scoped>\n",
              "    .dataframe tbody tr th:only-of-type {\n",
              "        vertical-align: middle;\n",
              "    }\n",
              "\n",
              "    .dataframe tbody tr th {\n",
              "        vertical-align: top;\n",
              "    }\n",
              "\n",
              "    .dataframe thead th {\n",
              "        text-align: right;\n",
              "    }\n",
              "</style>\n",
              "<table border=\"1\" class=\"dataframe\">\n",
              "  <thead>\n",
              "    <tr style=\"text-align: right;\">\n",
              "      <th></th>\n",
              "      <th>id</th>\n",
              "      <th>diagnosis</th>\n",
              "      <th>radius_mean</th>\n",
              "      <th>texture_mean</th>\n",
              "      <th>perimeter_mean</th>\n",
              "      <th>area_mean</th>\n",
              "      <th>smoothness_mean</th>\n",
              "      <th>compactness_mean</th>\n",
              "      <th>concavity_mean</th>\n",
              "      <th>concave points_mean</th>\n",
              "      <th>...</th>\n",
              "      <th>radius_worst</th>\n",
              "      <th>texture_worst</th>\n",
              "      <th>perimeter_worst</th>\n",
              "      <th>area_worst</th>\n",
              "      <th>smoothness_worst</th>\n",
              "      <th>compactness_worst</th>\n",
              "      <th>concavity_worst</th>\n",
              "      <th>concave points_worst</th>\n",
              "      <th>symmetry_worst</th>\n",
              "      <th>fractal_dimension_worst</th>\n",
              "    </tr>\n",
              "  </thead>\n",
              "  <tbody>\n",
              "    <tr>\n",
              "      <th>0</th>\n",
              "      <td>842302</td>\n",
              "      <td>M</td>\n",
              "      <td>17.99</td>\n",
              "      <td>10.38</td>\n",
              "      <td>122.80</td>\n",
              "      <td>1001.0</td>\n",
              "      <td>0.11840</td>\n",
              "      <td>0.27760</td>\n",
              "      <td>0.3001</td>\n",
              "      <td>0.14710</td>\n",
              "      <td>...</td>\n",
              "      <td>25.38</td>\n",
              "      <td>17.33</td>\n",
              "      <td>184.60</td>\n",
              "      <td>2019.0</td>\n",
              "      <td>0.1622</td>\n",
              "      <td>0.6656</td>\n",
              "      <td>0.7119</td>\n",
              "      <td>0.2654</td>\n",
              "      <td>0.4601</td>\n",
              "      <td>0.11890</td>\n",
              "    </tr>\n",
              "    <tr>\n",
              "      <th>1</th>\n",
              "      <td>842517</td>\n",
              "      <td>M</td>\n",
              "      <td>20.57</td>\n",
              "      <td>17.77</td>\n",
              "      <td>132.90</td>\n",
              "      <td>1326.0</td>\n",
              "      <td>0.08474</td>\n",
              "      <td>0.07864</td>\n",
              "      <td>0.0869</td>\n",
              "      <td>0.07017</td>\n",
              "      <td>...</td>\n",
              "      <td>24.99</td>\n",
              "      <td>23.41</td>\n",
              "      <td>158.80</td>\n",
              "      <td>1956.0</td>\n",
              "      <td>0.1238</td>\n",
              "      <td>0.1866</td>\n",
              "      <td>0.2416</td>\n",
              "      <td>0.1860</td>\n",
              "      <td>0.2750</td>\n",
              "      <td>0.08902</td>\n",
              "    </tr>\n",
              "    <tr>\n",
              "      <th>2</th>\n",
              "      <td>84300903</td>\n",
              "      <td>M</td>\n",
              "      <td>19.69</td>\n",
              "      <td>21.25</td>\n",
              "      <td>130.00</td>\n",
              "      <td>1203.0</td>\n",
              "      <td>0.10960</td>\n",
              "      <td>0.15990</td>\n",
              "      <td>0.1974</td>\n",
              "      <td>0.12790</td>\n",
              "      <td>...</td>\n",
              "      <td>23.57</td>\n",
              "      <td>25.53</td>\n",
              "      <td>152.50</td>\n",
              "      <td>1709.0</td>\n",
              "      <td>0.1444</td>\n",
              "      <td>0.4245</td>\n",
              "      <td>0.4504</td>\n",
              "      <td>0.2430</td>\n",
              "      <td>0.3613</td>\n",
              "      <td>0.08758</td>\n",
              "    </tr>\n",
              "    <tr>\n",
              "      <th>3</th>\n",
              "      <td>84348301</td>\n",
              "      <td>M</td>\n",
              "      <td>11.42</td>\n",
              "      <td>20.38</td>\n",
              "      <td>77.58</td>\n",
              "      <td>386.1</td>\n",
              "      <td>0.14250</td>\n",
              "      <td>0.28390</td>\n",
              "      <td>0.2414</td>\n",
              "      <td>0.10520</td>\n",
              "      <td>...</td>\n",
              "      <td>14.91</td>\n",
              "      <td>26.50</td>\n",
              "      <td>98.87</td>\n",
              "      <td>567.7</td>\n",
              "      <td>0.2098</td>\n",
              "      <td>0.8663</td>\n",
              "      <td>0.6869</td>\n",
              "      <td>0.2575</td>\n",
              "      <td>0.6638</td>\n",
              "      <td>0.17300</td>\n",
              "    </tr>\n",
              "    <tr>\n",
              "      <th>4</th>\n",
              "      <td>84358402</td>\n",
              "      <td>M</td>\n",
              "      <td>20.29</td>\n",
              "      <td>14.34</td>\n",
              "      <td>135.10</td>\n",
              "      <td>1297.0</td>\n",
              "      <td>0.10030</td>\n",
              "      <td>0.13280</td>\n",
              "      <td>0.1980</td>\n",
              "      <td>0.10430</td>\n",
              "      <td>...</td>\n",
              "      <td>22.54</td>\n",
              "      <td>16.67</td>\n",
              "      <td>152.20</td>\n",
              "      <td>1575.0</td>\n",
              "      <td>0.1374</td>\n",
              "      <td>0.2050</td>\n",
              "      <td>0.4000</td>\n",
              "      <td>0.1625</td>\n",
              "      <td>0.2364</td>\n",
              "      <td>0.07678</td>\n",
              "    </tr>\n",
              "  </tbody>\n",
              "</table>\n",
              "<p>5 rows × 32 columns</p>\n",
              "</div>"
            ],
            "text/plain": [
              "         id diagnosis  radius_mean  texture_mean  perimeter_mean  area_mean  \\\n",
              "0    842302         M        17.99         10.38          122.80     1001.0   \n",
              "1    842517         M        20.57         17.77          132.90     1326.0   \n",
              "2  84300903         M        19.69         21.25          130.00     1203.0   \n",
              "3  84348301         M        11.42         20.38           77.58      386.1   \n",
              "4  84358402         M        20.29         14.34          135.10     1297.0   \n",
              "\n",
              "   smoothness_mean  compactness_mean  concavity_mean  concave points_mean  \\\n",
              "0          0.11840           0.27760          0.3001              0.14710   \n",
              "1          0.08474           0.07864          0.0869              0.07017   \n",
              "2          0.10960           0.15990          0.1974              0.12790   \n",
              "3          0.14250           0.28390          0.2414              0.10520   \n",
              "4          0.10030           0.13280          0.1980              0.10430   \n",
              "\n",
              "   ...  radius_worst  texture_worst  perimeter_worst  area_worst  \\\n",
              "0  ...         25.38          17.33           184.60      2019.0   \n",
              "1  ...         24.99          23.41           158.80      1956.0   \n",
              "2  ...         23.57          25.53           152.50      1709.0   \n",
              "3  ...         14.91          26.50            98.87       567.7   \n",
              "4  ...         22.54          16.67           152.20      1575.0   \n",
              "\n",
              "   smoothness_worst  compactness_worst  concavity_worst  concave points_worst  \\\n",
              "0            0.1622             0.6656           0.7119                0.2654   \n",
              "1            0.1238             0.1866           0.2416                0.1860   \n",
              "2            0.1444             0.4245           0.4504                0.2430   \n",
              "3            0.2098             0.8663           0.6869                0.2575   \n",
              "4            0.1374             0.2050           0.4000                0.1625   \n",
              "\n",
              "   symmetry_worst  fractal_dimension_worst  \n",
              "0          0.4601                  0.11890  \n",
              "1          0.2750                  0.08902  \n",
              "2          0.3613                  0.08758  \n",
              "3          0.6638                  0.17300  \n",
              "4          0.2364                  0.07678  \n",
              "\n",
              "[5 rows x 32 columns]"
            ]
          },
          "execution_count": 3,
          "metadata": {},
          "output_type": "execute_result"
        }
      ],
      "source": [
        "# Menampilkan data 10 teratas\n",
        "data1.head(5)"
      ]
    },
    {
      "cell_type": "code",
      "execution_count": 4,
      "metadata": {},
      "outputs": [
        {
          "data": {
            "text/html": [
              "<div>\n",
              "<style scoped>\n",
              "    .dataframe tbody tr th:only-of-type {\n",
              "        vertical-align: middle;\n",
              "    }\n",
              "\n",
              "    .dataframe tbody tr th {\n",
              "        vertical-align: top;\n",
              "    }\n",
              "\n",
              "    .dataframe thead th {\n",
              "        text-align: right;\n",
              "    }\n",
              "</style>\n",
              "<table border=\"1\" class=\"dataframe\">\n",
              "  <thead>\n",
              "    <tr style=\"text-align: right;\">\n",
              "      <th></th>\n",
              "      <th>id</th>\n",
              "      <th>diagnosis</th>\n",
              "      <th>radius_mean</th>\n",
              "      <th>texture_mean</th>\n",
              "      <th>perimeter_mean</th>\n",
              "      <th>area_mean</th>\n",
              "      <th>smoothness_mean</th>\n",
              "      <th>compactness_mean</th>\n",
              "      <th>concavity_mean</th>\n",
              "      <th>concave points_mean</th>\n",
              "      <th>...</th>\n",
              "      <th>radius_worst</th>\n",
              "      <th>texture_worst</th>\n",
              "      <th>perimeter_worst</th>\n",
              "      <th>area_worst</th>\n",
              "      <th>smoothness_worst</th>\n",
              "      <th>compactness_worst</th>\n",
              "      <th>concavity_worst</th>\n",
              "      <th>concave points_worst</th>\n",
              "      <th>symmetry_worst</th>\n",
              "      <th>fractal_dimension_worst</th>\n",
              "    </tr>\n",
              "  </thead>\n",
              "  <tbody>\n",
              "    <tr>\n",
              "      <th>564</th>\n",
              "      <td>926424</td>\n",
              "      <td>M</td>\n",
              "      <td>21.56</td>\n",
              "      <td>22.39</td>\n",
              "      <td>142.00</td>\n",
              "      <td>1479.0</td>\n",
              "      <td>0.11100</td>\n",
              "      <td>0.11590</td>\n",
              "      <td>0.24390</td>\n",
              "      <td>0.13890</td>\n",
              "      <td>...</td>\n",
              "      <td>25.450</td>\n",
              "      <td>26.40</td>\n",
              "      <td>166.10</td>\n",
              "      <td>2027.0</td>\n",
              "      <td>0.14100</td>\n",
              "      <td>0.21130</td>\n",
              "      <td>0.4107</td>\n",
              "      <td>0.2216</td>\n",
              "      <td>0.2060</td>\n",
              "      <td>0.07115</td>\n",
              "    </tr>\n",
              "    <tr>\n",
              "      <th>565</th>\n",
              "      <td>926682</td>\n",
              "      <td>M</td>\n",
              "      <td>20.13</td>\n",
              "      <td>28.25</td>\n",
              "      <td>131.20</td>\n",
              "      <td>1261.0</td>\n",
              "      <td>0.09780</td>\n",
              "      <td>0.10340</td>\n",
              "      <td>0.14400</td>\n",
              "      <td>0.09791</td>\n",
              "      <td>...</td>\n",
              "      <td>23.690</td>\n",
              "      <td>38.25</td>\n",
              "      <td>155.00</td>\n",
              "      <td>1731.0</td>\n",
              "      <td>0.11660</td>\n",
              "      <td>0.19220</td>\n",
              "      <td>0.3215</td>\n",
              "      <td>0.1628</td>\n",
              "      <td>0.2572</td>\n",
              "      <td>0.06637</td>\n",
              "    </tr>\n",
              "    <tr>\n",
              "      <th>566</th>\n",
              "      <td>926954</td>\n",
              "      <td>M</td>\n",
              "      <td>16.60</td>\n",
              "      <td>28.08</td>\n",
              "      <td>108.30</td>\n",
              "      <td>858.1</td>\n",
              "      <td>0.08455</td>\n",
              "      <td>0.10230</td>\n",
              "      <td>0.09251</td>\n",
              "      <td>0.05302</td>\n",
              "      <td>...</td>\n",
              "      <td>18.980</td>\n",
              "      <td>34.12</td>\n",
              "      <td>126.70</td>\n",
              "      <td>1124.0</td>\n",
              "      <td>0.11390</td>\n",
              "      <td>0.30940</td>\n",
              "      <td>0.3403</td>\n",
              "      <td>0.1418</td>\n",
              "      <td>0.2218</td>\n",
              "      <td>0.07820</td>\n",
              "    </tr>\n",
              "    <tr>\n",
              "      <th>567</th>\n",
              "      <td>927241</td>\n",
              "      <td>M</td>\n",
              "      <td>20.60</td>\n",
              "      <td>29.33</td>\n",
              "      <td>140.10</td>\n",
              "      <td>1265.0</td>\n",
              "      <td>0.11780</td>\n",
              "      <td>0.27700</td>\n",
              "      <td>0.35140</td>\n",
              "      <td>0.15200</td>\n",
              "      <td>...</td>\n",
              "      <td>25.740</td>\n",
              "      <td>39.42</td>\n",
              "      <td>184.60</td>\n",
              "      <td>1821.0</td>\n",
              "      <td>0.16500</td>\n",
              "      <td>0.86810</td>\n",
              "      <td>0.9387</td>\n",
              "      <td>0.2650</td>\n",
              "      <td>0.4087</td>\n",
              "      <td>0.12400</td>\n",
              "    </tr>\n",
              "    <tr>\n",
              "      <th>568</th>\n",
              "      <td>92751</td>\n",
              "      <td>B</td>\n",
              "      <td>7.76</td>\n",
              "      <td>24.54</td>\n",
              "      <td>47.92</td>\n",
              "      <td>181.0</td>\n",
              "      <td>0.05263</td>\n",
              "      <td>0.04362</td>\n",
              "      <td>0.00000</td>\n",
              "      <td>0.00000</td>\n",
              "      <td>...</td>\n",
              "      <td>9.456</td>\n",
              "      <td>30.37</td>\n",
              "      <td>59.16</td>\n",
              "      <td>268.6</td>\n",
              "      <td>0.08996</td>\n",
              "      <td>0.06444</td>\n",
              "      <td>0.0000</td>\n",
              "      <td>0.0000</td>\n",
              "      <td>0.2871</td>\n",
              "      <td>0.07039</td>\n",
              "    </tr>\n",
              "  </tbody>\n",
              "</table>\n",
              "<p>5 rows × 32 columns</p>\n",
              "</div>"
            ],
            "text/plain": [
              "         id diagnosis  radius_mean  texture_mean  perimeter_mean  area_mean  \\\n",
              "564  926424         M        21.56         22.39          142.00     1479.0   \n",
              "565  926682         M        20.13         28.25          131.20     1261.0   \n",
              "566  926954         M        16.60         28.08          108.30      858.1   \n",
              "567  927241         M        20.60         29.33          140.10     1265.0   \n",
              "568   92751         B         7.76         24.54           47.92      181.0   \n",
              "\n",
              "     smoothness_mean  compactness_mean  concavity_mean  concave points_mean  \\\n",
              "564          0.11100           0.11590         0.24390              0.13890   \n",
              "565          0.09780           0.10340         0.14400              0.09791   \n",
              "566          0.08455           0.10230         0.09251              0.05302   \n",
              "567          0.11780           0.27700         0.35140              0.15200   \n",
              "568          0.05263           0.04362         0.00000              0.00000   \n",
              "\n",
              "     ...  radius_worst  texture_worst  perimeter_worst  area_worst  \\\n",
              "564  ...        25.450          26.40           166.10      2027.0   \n",
              "565  ...        23.690          38.25           155.00      1731.0   \n",
              "566  ...        18.980          34.12           126.70      1124.0   \n",
              "567  ...        25.740          39.42           184.60      1821.0   \n",
              "568  ...         9.456          30.37            59.16       268.6   \n",
              "\n",
              "     smoothness_worst  compactness_worst  concavity_worst  \\\n",
              "564           0.14100            0.21130           0.4107   \n",
              "565           0.11660            0.19220           0.3215   \n",
              "566           0.11390            0.30940           0.3403   \n",
              "567           0.16500            0.86810           0.9387   \n",
              "568           0.08996            0.06444           0.0000   \n",
              "\n",
              "     concave points_worst  symmetry_worst  fractal_dimension_worst  \n",
              "564                0.2216          0.2060                  0.07115  \n",
              "565                0.1628          0.2572                  0.06637  \n",
              "566                0.1418          0.2218                  0.07820  \n",
              "567                0.2650          0.4087                  0.12400  \n",
              "568                0.0000          0.2871                  0.07039  \n",
              "\n",
              "[5 rows x 32 columns]"
            ]
          },
          "execution_count": 4,
          "metadata": {},
          "output_type": "execute_result"
        }
      ],
      "source": [
        "# Menampilkan data 5 terbawah\n",
        "data1.tail(5)"
      ]
    },
    {
      "cell_type": "code",
      "execution_count": 5,
      "metadata": {
        "colab": {
          "base_uri": "https://localhost:8080/"
        },
        "id": "NQVbbmF9Gplm",
        "outputId": "9da46373-15ae-4e46-8785-3a00c9e264ca"
      },
      "outputs": [
        {
          "name": "stdout",
          "output_type": "stream",
          "text": [
            "<class 'pandas.core.frame.DataFrame'>\n",
            "RangeIndex: 569 entries, 0 to 568\n",
            "Data columns (total 32 columns):\n",
            " #   Column                   Non-Null Count  Dtype  \n",
            "---  ------                   --------------  -----  \n",
            " 0   id                       569 non-null    int64  \n",
            " 1   diagnosis                569 non-null    object \n",
            " 2   radius_mean              569 non-null    float64\n",
            " 3   texture_mean             569 non-null    float64\n",
            " 4   perimeter_mean           569 non-null    float64\n",
            " 5   area_mean                569 non-null    float64\n",
            " 6   smoothness_mean          569 non-null    float64\n",
            " 7   compactness_mean         569 non-null    float64\n",
            " 8   concavity_mean           569 non-null    float64\n",
            " 9   concave points_mean      569 non-null    float64\n",
            " 10  symmetry_mean            569 non-null    float64\n",
            " 11  fractal_dimension_mean   569 non-null    float64\n",
            " 12  radius_se                569 non-null    float64\n",
            " 13  texture_se               569 non-null    float64\n",
            " 14  perimeter_se             569 non-null    float64\n",
            " 15  area_se                  569 non-null    float64\n",
            " 16  smoothness_se            569 non-null    float64\n",
            " 17  compactness_se           569 non-null    float64\n",
            " 18  concavity_se             569 non-null    float64\n",
            " 19  concave points_se        569 non-null    float64\n",
            " 20  symmetry_se              569 non-null    float64\n",
            " 21  fractal_dimension_se     569 non-null    float64\n",
            " 22  radius_worst             569 non-null    float64\n",
            " 23  texture_worst            569 non-null    float64\n",
            " 24  perimeter_worst          569 non-null    float64\n",
            " 25  area_worst               569 non-null    float64\n",
            " 26  smoothness_worst         569 non-null    float64\n",
            " 27  compactness_worst        569 non-null    float64\n",
            " 28  concavity_worst          569 non-null    float64\n",
            " 29  concave points_worst     569 non-null    float64\n",
            " 30  symmetry_worst           569 non-null    float64\n",
            " 31  fractal_dimension_worst  569 non-null    float64\n",
            "dtypes: float64(30), int64(1), object(1)\n",
            "memory usage: 142.4+ KB\n"
          ]
        }
      ],
      "source": [
        "# Melihat informasi data\n",
        "data1.info()"
      ]
    },
    {
      "cell_type": "markdown",
      "metadata": {
        "id": "taNWzfHCG0FM"
      },
      "source": [
        "Terlihat bedasarkan informasi data bahwa:\n",
        "- Data tidak mempunyai missing value (NAN).\n",
        "- Nama kolom data sudah sesuai semuanya.\n",
        "- Data type sudah sesuai semuanya.\n",
        "- Kolom 'id' tidak saya pakai untuk menghindari high cardinality"
      ]
    },
    {
      "cell_type": "code",
      "execution_count": 6,
      "metadata": {},
      "outputs": [],
      "source": [
        "# drop data 'id' karena saya tidak membutuhkannya\n",
        "data1 = data1.drop(columns = 'id')"
      ]
    },
    {
      "cell_type": "code",
      "execution_count": 7,
      "metadata": {
        "colab": {
          "base_uri": "https://localhost:8080/"
        },
        "id": "hDFIfzEYGxoa",
        "outputId": "c0d22415-7131-47cb-d4cb-e512c1d1a104"
      },
      "outputs": [
        {
          "data": {
            "text/plain": [
              "(569, 31)"
            ]
          },
          "execution_count": 7,
          "metadata": {},
          "output_type": "execute_result"
        }
      ],
      "source": [
        "# Melihat volume data\n",
        "data1.shape"
      ]
    },
    {
      "cell_type": "markdown",
      "metadata": {
        "id": "5S4bTJJFG6Q6"
      },
      "source": [
        "Terlihat bahwa data kita mempunyai 569 baris dan 32 kolom."
      ]
    },
    {
      "cell_type": "markdown",
      "metadata": {
        "id": "znf46yciHCdM"
      },
      "source": [
        "# Exploratory Data Analysis (EDA)"
      ]
    },
    {
      "cell_type": "markdown",
      "metadata": {
        "id": "rSAtW1Yg7vmO"
      },
      "source": [
        "### Check Duplikat data"
      ]
    },
    {
      "cell_type": "code",
      "execution_count": 8,
      "metadata": {
        "colab": {
          "base_uri": "https://localhost:8080/"
        },
        "id": "rQfBELaPe8Ax",
        "outputId": "82c21d42-912b-4dda-b115-04f0cdbe2bca"
      },
      "outputs": [
        {
          "data": {
            "text/plain": [
              "0"
            ]
          },
          "execution_count": 8,
          "metadata": {},
          "output_type": "execute_result"
        }
      ],
      "source": [
        "# Memeriksa jumlah data yang duplikat\n",
        "data1.duplicated().sum()"
      ]
    },
    {
      "cell_type": "markdown",
      "metadata": {},
      "source": [
        "Tidak terdapat data duplikat"
      ]
    },
    {
      "cell_type": "code",
      "execution_count": 9,
      "metadata": {
        "colab": {
          "base_uri": "https://localhost:8080/",
          "height": 161
        },
        "id": "eTch5HkKfD6d",
        "outputId": "3520ea14-c797-4476-ed78-c82cc58ff087"
      },
      "outputs": [
        {
          "data": {
            "text/html": [
              "<div>\n",
              "<style scoped>\n",
              "    .dataframe tbody tr th:only-of-type {\n",
              "        vertical-align: middle;\n",
              "    }\n",
              "\n",
              "    .dataframe tbody tr th {\n",
              "        vertical-align: top;\n",
              "    }\n",
              "\n",
              "    .dataframe thead th {\n",
              "        text-align: right;\n",
              "    }\n",
              "</style>\n",
              "<table border=\"1\" class=\"dataframe\">\n",
              "  <thead>\n",
              "    <tr style=\"text-align: right;\">\n",
              "      <th></th>\n",
              "      <th>diagnosis</th>\n",
              "      <th>radius_mean</th>\n",
              "      <th>texture_mean</th>\n",
              "      <th>perimeter_mean</th>\n",
              "      <th>area_mean</th>\n",
              "      <th>smoothness_mean</th>\n",
              "      <th>compactness_mean</th>\n",
              "      <th>concavity_mean</th>\n",
              "      <th>concave points_mean</th>\n",
              "      <th>symmetry_mean</th>\n",
              "      <th>...</th>\n",
              "      <th>radius_worst</th>\n",
              "      <th>texture_worst</th>\n",
              "      <th>perimeter_worst</th>\n",
              "      <th>area_worst</th>\n",
              "      <th>smoothness_worst</th>\n",
              "      <th>compactness_worst</th>\n",
              "      <th>concavity_worst</th>\n",
              "      <th>concave points_worst</th>\n",
              "      <th>symmetry_worst</th>\n",
              "      <th>fractal_dimension_worst</th>\n",
              "    </tr>\n",
              "  </thead>\n",
              "  <tbody>\n",
              "  </tbody>\n",
              "</table>\n",
              "<p>0 rows × 31 columns</p>\n",
              "</div>"
            ],
            "text/plain": [
              "Empty DataFrame\n",
              "Columns: [diagnosis, radius_mean, texture_mean, perimeter_mean, area_mean, smoothness_mean, compactness_mean, concavity_mean, concave points_mean, symmetry_mean, fractal_dimension_mean, radius_se, texture_se, perimeter_se, area_se, smoothness_se, compactness_se, concavity_se, concave points_se, symmetry_se, fractal_dimension_se, radius_worst, texture_worst, perimeter_worst, area_worst, smoothness_worst, compactness_worst, concavity_worst, concave points_worst, symmetry_worst, fractal_dimension_worst]\n",
              "Index: []\n",
              "\n",
              "[0 rows x 31 columns]"
            ]
          },
          "execution_count": 9,
          "metadata": {},
          "output_type": "execute_result"
        }
      ],
      "source": [
        "# Ingin melihat data apa yang duplikat\n",
        "data1[data1.duplicated(keep = False)]"
      ]
    },
    {
      "cell_type": "markdown",
      "metadata": {},
      "source": [
        "saya ingin memeriksa apakah data duplikat semua isi .Ternyata data tidak mempunyai duplikat data"
      ]
    },
    {
      "cell_type": "markdown",
      "metadata": {
        "id": "MjjZMSFW7z4w"
      },
      "source": [
        "### Check Missing value"
      ]
    },
    {
      "cell_type": "code",
      "execution_count": 10,
      "metadata": {
        "colab": {
          "base_uri": "https://localhost:8080/"
        },
        "id": "E_6gf6OKfLzA",
        "outputId": "b49bcf22-f2fe-4012-8f71-dc73c421dcc1"
      },
      "outputs": [
        {
          "data": {
            "text/plain": [
              "diagnosis                  0\n",
              "radius_mean                0\n",
              "texture_mean               0\n",
              "perimeter_mean             0\n",
              "area_mean                  0\n",
              "smoothness_mean            0\n",
              "compactness_mean           0\n",
              "concavity_mean             0\n",
              "concave points_mean        0\n",
              "symmetry_mean              0\n",
              "fractal_dimension_mean     0\n",
              "radius_se                  0\n",
              "texture_se                 0\n",
              "perimeter_se               0\n",
              "area_se                    0\n",
              "smoothness_se              0\n",
              "compactness_se             0\n",
              "concavity_se               0\n",
              "concave points_se          0\n",
              "symmetry_se                0\n",
              "fractal_dimension_se       0\n",
              "radius_worst               0\n",
              "texture_worst              0\n",
              "perimeter_worst            0\n",
              "area_worst                 0\n",
              "smoothness_worst           0\n",
              "compactness_worst          0\n",
              "concavity_worst            0\n",
              "concave points_worst       0\n",
              "symmetry_worst             0\n",
              "fractal_dimension_worst    0\n",
              "dtype: int64"
            ]
          },
          "execution_count": 10,
          "metadata": {},
          "output_type": "execute_result"
        }
      ],
      "source": [
        "data1.isnull().sum()"
      ]
    },
    {
      "cell_type": "markdown",
      "metadata": {},
      "source": [
        "Data tidak ada missing value.\n",
        "Jika ada Missing Values, saya akan mencari apakah missing value tersebut MCAR, MAR atau MNAR.Dan saya akan hitung data yang hilang persentasenya."
      ]
    },
    {
      "cell_type": "markdown",
      "metadata": {
        "id": "Ot9qNqqrHdvy"
      },
      "source": [
        "### Handling Cardinality\n",
        "\n",
        "Melihat data yang high cardinality dengan memeriksa nilai unique dari masing-masing kolom kategorikal."
      ]
    },
    {
      "cell_type": "code",
      "execution_count": 11,
      "metadata": {},
      "outputs": [
        {
          "name": "stdout",
          "output_type": "stream",
          "text": [
            "Nama kolom : diagnosis\n",
            "2\n",
            "\n",
            "\n",
            "Nama kolom : radius_mean\n",
            "456\n",
            "\n",
            "\n",
            "Nama kolom : texture_mean\n",
            "479\n",
            "\n",
            "\n",
            "Nama kolom : perimeter_mean\n",
            "522\n",
            "\n",
            "\n",
            "Nama kolom : area_mean\n",
            "539\n",
            "\n",
            "\n",
            "Nama kolom : smoothness_mean\n",
            "474\n",
            "\n",
            "\n",
            "Nama kolom : compactness_mean\n",
            "537\n",
            "\n",
            "\n",
            "Nama kolom : concavity_mean\n",
            "537\n",
            "\n",
            "\n",
            "Nama kolom : concave points_mean\n",
            "542\n",
            "\n",
            "\n",
            "Nama kolom : symmetry_mean\n",
            "432\n",
            "\n",
            "\n",
            "Nama kolom : fractal_dimension_mean\n",
            "499\n",
            "\n",
            "\n",
            "Nama kolom : radius_se\n",
            "540\n",
            "\n",
            "\n",
            "Nama kolom : texture_se\n",
            "519\n",
            "\n",
            "\n",
            "Nama kolom : perimeter_se\n",
            "533\n",
            "\n",
            "\n",
            "Nama kolom : area_se\n",
            "528\n",
            "\n",
            "\n",
            "Nama kolom : smoothness_se\n",
            "547\n",
            "\n",
            "\n",
            "Nama kolom : compactness_se\n",
            "541\n",
            "\n",
            "\n",
            "Nama kolom : concavity_se\n",
            "533\n",
            "\n",
            "\n",
            "Nama kolom : concave points_se\n",
            "507\n",
            "\n",
            "\n",
            "Nama kolom : symmetry_se\n",
            "498\n",
            "\n",
            "\n",
            "Nama kolom : fractal_dimension_se\n",
            "545\n",
            "\n",
            "\n",
            "Nama kolom : radius_worst\n",
            "457\n",
            "\n",
            "\n",
            "Nama kolom : texture_worst\n",
            "511\n",
            "\n",
            "\n",
            "Nama kolom : perimeter_worst\n",
            "514\n",
            "\n",
            "\n",
            "Nama kolom : area_worst\n",
            "544\n",
            "\n",
            "\n",
            "Nama kolom : smoothness_worst\n",
            "411\n",
            "\n",
            "\n",
            "Nama kolom : compactness_worst\n",
            "529\n",
            "\n",
            "\n",
            "Nama kolom : concavity_worst\n",
            "539\n",
            "\n",
            "\n",
            "Nama kolom : concave points_worst\n",
            "492\n",
            "\n",
            "\n",
            "Nama kolom : symmetry_worst\n",
            "500\n",
            "\n",
            "\n",
            "Nama kolom : fractal_dimension_worst\n",
            "535\n",
            "\n",
            "\n"
          ]
        }
      ],
      "source": [
        "for i in data1.columns:\n",
        "    print('Nama kolom :',i)\n",
        "    print(data1[i].nunique())\n",
        "    print('\\n')"
      ]
    },
    {
      "cell_type": "markdown",
      "metadata": {},
      "source": [
        "**Pengecekan isi data yang anomali**"
      ]
    },
    {
      "cell_type": "code",
      "execution_count": 12,
      "metadata": {},
      "outputs": [
        {
          "name": "stdout",
          "output_type": "stream",
          "text": [
            "Nama kolom : diagnosis\n",
            "B    357\n",
            "M    212\n",
            "Name: diagnosis, dtype: int64\n",
            "\n",
            "\n",
            "Nama kolom : radius_mean\n",
            "12.34    4\n",
            "11.71    3\n",
            "12.46    3\n",
            "13.05    3\n",
            "10.26    3\n",
            "        ..\n",
            "12.23    1\n",
            "14.45    1\n",
            "19.18    1\n",
            "18.08    1\n",
            "7.76     1\n",
            "Name: radius_mean, Length: 456, dtype: int64\n",
            "\n",
            "\n",
            "Nama kolom : texture_mean\n",
            "20.52    3\n",
            "16.85    3\n",
            "16.84    3\n",
            "19.83    3\n",
            "14.93    3\n",
            "        ..\n",
            "18.58    1\n",
            "15.11    1\n",
            "22.41    1\n",
            "14.92    1\n",
            "24.54    1\n",
            "Name: texture_mean, Length: 479, dtype: int64\n",
            "\n",
            "\n",
            "Nama kolom : perimeter_mean\n",
            "82.61     3\n",
            "87.76     3\n",
            "134.70    3\n",
            "93.97     2\n",
            "82.69     2\n",
            "         ..\n",
            "127.50    1\n",
            "90.63     1\n",
            "82.53     1\n",
            "100.40    1\n",
            "47.92     1\n",
            "Name: perimeter_mean, Length: 522, dtype: int64\n",
            "\n",
            "\n",
            "Nama kolom : area_mean\n",
            "512.2     3\n",
            "1075.0    2\n",
            "582.7     2\n",
            "399.8     2\n",
            "641.2     2\n",
            "         ..\n",
            "507.4     1\n",
            "609.9     1\n",
            "463.7     1\n",
            "428.9     1\n",
            "181.0     1\n",
            "Name: area_mean, Length: 539, dtype: int64\n",
            "\n",
            "\n",
            "Nama kolom : smoothness_mean\n",
            "0.10070    5\n",
            "0.11500    4\n",
            "0.10540    4\n",
            "0.10750    4\n",
            "0.10630    3\n",
            "          ..\n",
            "0.08876    1\n",
            "0.09965    1\n",
            "0.13230    1\n",
            "0.08968    1\n",
            "0.05263    1\n",
            "Name: smoothness_mean, Length: 474, dtype: int64\n",
            "\n",
            "\n",
            "Nama kolom : compactness_mean\n",
            "0.11470    3\n",
            "0.12060    3\n",
            "0.07698    2\n",
            "0.05743    2\n",
            "0.03834    2\n",
            "          ..\n",
            "0.05562    1\n",
            "0.06141    1\n",
            "0.04695    1\n",
            "0.10520    1\n",
            "0.04362    1\n",
            "Name: compactness_mean, Length: 537, dtype: int64\n",
            "\n",
            "\n",
            "Nama kolom : concavity_mean\n",
            "0.000000    13\n",
            "0.120400     3\n",
            "0.111500     2\n",
            "0.033440     2\n",
            "0.110300     2\n",
            "            ..\n",
            "0.065930     1\n",
            "0.248700     1\n",
            "0.287100     1\n",
            "0.009193     1\n",
            "0.351400     1\n",
            "Name: concavity_mean, Length: 537, dtype: int64\n",
            "\n",
            "\n",
            "Nama kolom : concave points_mean\n",
            "0.00000    13\n",
            "0.02864     3\n",
            "0.14710     2\n",
            "0.05778     2\n",
            "0.02272     2\n",
            "           ..\n",
            "0.02361     1\n",
            "0.05189     1\n",
            "0.14960     1\n",
            "0.18780     1\n",
            "0.15200     1\n",
            "Name: concave points_mean, Length: 542, dtype: int64\n",
            "\n",
            "\n",
            "Nama kolom : symmetry_mean\n",
            "0.1714    4\n",
            "0.1769    4\n",
            "0.1893    4\n",
            "0.1601    4\n",
            "0.1717    4\n",
            "         ..\n",
            "0.2251    1\n",
            "0.2200    1\n",
            "0.1979    1\n",
            "0.1950    1\n",
            "0.1587    1\n",
            "Name: symmetry_mean, Length: 432, dtype: int64\n",
            "\n",
            "\n",
            "Nama kolom : fractal_dimension_mean\n",
            "0.06113    3\n",
            "0.05913    3\n",
            "0.05907    3\n",
            "0.05667    3\n",
            "0.06782    3\n",
            "          ..\n",
            "0.05234    1\n",
            "0.06323    1\n",
            "0.08116    1\n",
            "0.05975    1\n",
            "0.07016    1\n",
            "Name: fractal_dimension_mean, Length: 499, dtype: int64\n",
            "\n",
            "\n",
            "Nama kolom : radius_se\n",
            "0.2860    3\n",
            "0.2204    3\n",
            "0.2684    2\n",
            "0.2239    2\n",
            "0.1601    2\n",
            "         ..\n",
            "0.6298    1\n",
            "0.8361    1\n",
            "0.2889    1\n",
            "0.1731    1\n",
            "0.3857    1\n",
            "Name: radius_se, Length: 540, dtype: int64\n",
            "\n",
            "\n",
            "Nama kolom : texture_se\n",
            "1.1500    3\n",
            "1.3500    3\n",
            "1.2680    3\n",
            "0.8561    3\n",
            "1.0160    2\n",
            "         ..\n",
            "0.7655    1\n",
            "0.4757    1\n",
            "0.4956    1\n",
            "0.7629    1\n",
            "1.5950    1\n",
            "Name: texture_se, Length: 519, dtype: int64\n",
            "\n",
            "\n",
            "Nama kolom : perimeter_se\n",
            "1.778    4\n",
            "1.243    2\n",
            "2.569    2\n",
            "2.183    2\n",
            "3.008    2\n",
            "        ..\n",
            "2.112    1\n",
            "1.687    1\n",
            "1.011    1\n",
            "1.742    1\n",
            "2.548    1\n",
            "Name: perimeter_se, Length: 533, dtype: int64\n",
            "\n",
            "\n",
            "Nama kolom : area_se\n",
            "16.97    3\n",
            "17.67    3\n",
            "16.64    3\n",
            "18.54    3\n",
            "20.98    2\n",
            "        ..\n",
            "26.43    1\n",
            "22.77    1\n",
            "40.98    1\n",
            "81.46    1\n",
            "19.15    1\n",
            "Name: area_se, Length: 528, dtype: int64\n",
            "\n",
            "\n",
            "Nama kolom : smoothness_se\n",
            "0.006399    2\n",
            "0.010520    2\n",
            "0.012910    2\n",
            "0.007189    2\n",
            "0.005298    2\n",
            "           ..\n",
            "0.006905    1\n",
            "0.002866    1\n",
            "0.014390    1\n",
            "0.003290    1\n",
            "0.006522    1\n",
            "Name: smoothness_se, Length: 547, dtype: int64\n",
            "\n",
            "\n",
            "Nama kolom : compactness_se\n",
            "0.01812    3\n",
            "0.02310    3\n",
            "0.01104    3\n",
            "0.02431    2\n",
            "0.01203    2\n",
            "          ..\n",
            "0.01200    1\n",
            "0.03728    1\n",
            "0.02263    1\n",
            "0.04759    1\n",
            "0.00466    1\n",
            "Name: compactness_se, Length: 541, dtype: int64\n",
            "\n",
            "\n",
            "Nama kolom : concavity_se\n",
            "0.000000    13\n",
            "0.016520     2\n",
            "0.016980     2\n",
            "0.026810     2\n",
            "0.035760     2\n",
            "            ..\n",
            "0.015560     1\n",
            "0.019780     1\n",
            "0.001597     1\n",
            "0.017740     1\n",
            "0.071170     1\n",
            "Name: concavity_se, Length: 533, dtype: int64\n",
            "\n",
            "\n",
            "Nama kolom : concave points_se\n",
            "0.00000    13\n",
            "0.01167     3\n",
            "0.01110     3\n",
            "0.01499     3\n",
            "0.01004     2\n",
            "           ..\n",
            "0.00842     1\n",
            "0.01883     1\n",
            "0.01321     1\n",
            "0.01757     1\n",
            "0.01664     1\n",
            "Name: concave points_se, Length: 507, dtype: int64\n",
            "\n",
            "\n",
            "Nama kolom : symmetry_se\n",
            "0.01344    4\n",
            "0.02045    3\n",
            "0.01884    3\n",
            "0.01647    3\n",
            "0.01870    3\n",
            "          ..\n",
            "0.02538    1\n",
            "0.01172    1\n",
            "0.01613    1\n",
            "0.01682    1\n",
            "0.02676    1\n",
            "Name: symmetry_se, Length: 498, dtype: int64\n",
            "\n",
            "\n",
            "Nama kolom : fractal_dimension_se\n",
            "0.004005    2\n",
            "0.003224    2\n",
            "0.004560    2\n",
            "0.005667    2\n",
            "0.001892    2\n",
            "           ..\n",
            "0.001988    1\n",
            "0.001671    1\n",
            "0.001087    1\n",
            "0.003470    1\n",
            "0.006185    1\n",
            "Name: fractal_dimension_se, Length: 545, dtype: int64\n",
            "\n",
            "\n",
            "Nama kolom : radius_worst\n",
            "12.360    5\n",
            "13.340    4\n",
            "13.500    4\n",
            "12.840    3\n",
            "15.140    3\n",
            "         ..\n",
            "15.740    1\n",
            "11.870    1\n",
            "17.800    1\n",
            "12.370    1\n",
            "9.456     1\n",
            "Name: radius_worst, Length: 457, dtype: int64\n",
            "\n",
            "\n",
            "Nama kolom : texture_worst\n",
            "27.26    3\n",
            "17.70    3\n",
            "16.93    2\n",
            "30.50    2\n",
            "23.17    2\n",
            "        ..\n",
            "32.06    1\n",
            "24.70    1\n",
            "22.00    1\n",
            "39.34    1\n",
            "30.37    1\n",
            "Name: texture_worst, Length: 511, dtype: int64\n",
            "\n",
            "\n",
            "Nama kolom : perimeter_worst\n",
            "117.70    3\n",
            "105.90    3\n",
            "101.70    3\n",
            "184.60    2\n",
            "106.40    2\n",
            "         ..\n",
            "79.57     1\n",
            "84.42     1\n",
            "139.20    1\n",
            "75.39     1\n",
            "59.16     1\n",
            "Name: perimeter_worst, Length: 514, dtype: int64\n",
            "\n",
            "\n",
            "Nama kolom : area_worst\n",
            "472.4     2\n",
            "1210.0    2\n",
            "826.4     2\n",
            "402.8     2\n",
            "1750.0    2\n",
            "         ..\n",
            "579.5     1\n",
            "762.4     1\n",
            "521.5     1\n",
            "1410.0    1\n",
            "268.6     1\n",
            "Name: area_worst, Length: 544, dtype: int64\n",
            "\n",
            "\n",
            "Nama kolom : smoothness_worst\n",
            "0.13470    4\n",
            "0.12750    4\n",
            "0.12230    4\n",
            "0.14010    4\n",
            "0.12340    4\n",
            "          ..\n",
            "0.22260    1\n",
            "0.13810    1\n",
            "0.14290    1\n",
            "0.13220    1\n",
            "0.08996    1\n",
            "Name: smoothness_worst, Length: 411, dtype: int64\n",
            "\n",
            "\n",
            "Nama kolom : compactness_worst\n",
            "0.34160    3\n",
            "0.14860    3\n",
            "0.21700    2\n",
            "0.09866    2\n",
            "0.22640    2\n",
            "          ..\n",
            "0.24450    1\n",
            "0.10190    1\n",
            "0.32990    1\n",
            "0.16100    1\n",
            "0.06444    1\n",
            "Name: compactness_worst, Length: 529, dtype: int64\n",
            "\n",
            "\n",
            "Nama kolom : concavity_worst\n",
            "0.00000    13\n",
            "0.45040     3\n",
            "0.13770     3\n",
            "0.18040     2\n",
            "0.18110     2\n",
            "           ..\n",
            "0.00692     1\n",
            "0.16480     1\n",
            "0.29020     1\n",
            "0.67800     1\n",
            "0.93870     1\n",
            "Name: concavity_worst, Length: 539, dtype: int64\n",
            "\n",
            "\n",
            "Nama kolom : concave points_worst\n",
            "0.00000    13\n",
            "0.05556     3\n",
            "0.06296     3\n",
            "0.12180     3\n",
            "0.07431     3\n",
            "           ..\n",
            "0.15410     1\n",
            "0.29030     1\n",
            "0.26880     1\n",
            "0.03990     1\n",
            "0.26500     1\n",
            "Name: concave points_worst, Length: 492, dtype: int64\n",
            "\n",
            "\n",
            "Nama kolom : symmetry_worst\n",
            "0.2226    3\n",
            "0.2369    3\n",
            "0.2972    3\n",
            "0.3196    3\n",
            "0.3109    3\n",
            "         ..\n",
            "0.3024    1\n",
            "0.3000    1\n",
            "0.3215    1\n",
            "0.1909    1\n",
            "0.4087    1\n",
            "Name: symmetry_worst, Length: 500, dtype: int64\n",
            "\n",
            "\n",
            "Nama kolom : fractal_dimension_worst\n",
            "0.07427    3\n",
            "0.09026    2\n",
            "0.12970    2\n",
            "0.08174    2\n",
            "0.10550    2\n",
            "          ..\n",
            "0.06938    1\n",
            "0.07697    1\n",
            "0.09772    1\n",
            "0.08631    1\n",
            "0.07039    1\n",
            "Name: fractal_dimension_worst, Length: 535, dtype: int64\n",
            "\n",
            "\n"
          ]
        }
      ],
      "source": [
        "for i in data1.columns:\n",
        "    print('Nama kolom :',i)\n",
        "    print(data1[i].value_counts())\n",
        "    print('\\n')"
      ]
    },
    {
      "cell_type": "markdown",
      "metadata": {},
      "source": [
        "Terlihat bahwa tidak ada data yang anomali.Dalam hal semua isi data keseluruhan termasuk data numerikal jadi saya membutuhkan semua informasi dari semua kolom ini."
      ]
    },
    {
      "cell_type": "markdown",
      "metadata": {
        "id": "1_s9L4GMHmxn"
      },
      "source": [
        "#### Data Kategorikal"
      ]
    },
    {
      "cell_type": "code",
      "execution_count": 13,
      "metadata": {
        "colab": {
          "base_uri": "https://localhost:8080/"
        },
        "id": "NcO2nOTTHAed",
        "outputId": "4f474a90-1671-4635-e368-7adca2cef3fe"
      },
      "outputs": [
        {
          "name": "stdout",
          "output_type": "stream",
          "text": [
            "cardinality kolom diagnosis: 2\n"
          ]
        }
      ],
      "source": [
        "# Membuat variabel baru untuk menampung kolom-kolom kategorikal\n",
        "cols_cat= data1[['diagnosis']]\n",
        "                 \n",
        "for i in cols_cat.columns:\n",
        "    print(f'cardinality kolom {i}:', cols_cat[i].nunique())"
      ]
    },
    {
      "cell_type": "markdown",
      "metadata": {},
      "source": [
        "Penjelasan :\n",
        "\n",
        "karena nilai kategori nya hanya mempunyai 2 nilai dan ini adalah nilan biner maka saya akan mengubah isi dari kolom sesuai dengan kamus data yaitu untuk M adalah pasien yang terkena kanker dan B adalah pasien yang tidak terkena kanker."
      ]
    },
    {
      "cell_type": "code",
      "execution_count": 14,
      "metadata": {
        "colab": {
          "base_uri": "https://localhost:8080/"
        },
        "id": "cy7_a2MFIhdb",
        "outputId": "b6227e80-243d-4529-ad47-025fb73ad4fa"
      },
      "outputs": [],
      "source": [
        "# Membuat fungsi untuk mengubah isi nilai pada kolom diagnosis.\n",
        "def encoding(diagnosis):\n",
        "    if diagnosis == 'M': # set conditional diagnosis kanker\n",
        "        return 1\n",
        "    else:\n",
        "        return 0 # set if not conditional above 'tidak kanker'"
      ]
    },
    {
      "cell_type": "code",
      "execution_count": 15,
      "metadata": {},
      "outputs": [],
      "source": [
        "# Memasukan kondisi kedalam kolom baru\n",
        "data1['diagnosis'] = data1['diagnosis'].apply(encoding)"
      ]
    },
    {
      "cell_type": "markdown",
      "metadata": {},
      "source": [
        "Penjelasan :\n",
        "\n",
        "Terlihat bahwa kolom diagnosis sudah menjadi biner dengan nilai 1 = pasien terkena kanker dan 0 = pasien tidak terkena kanker."
      ]
    },
    {
      "cell_type": "markdown",
      "metadata": {},
      "source": [
        "### Statistika deskriptif"
      ]
    },
    {
      "cell_type": "code",
      "execution_count": 94,
      "metadata": {},
      "outputs": [
        {
          "data": {
            "text/html": [
              "<div>\n",
              "<style scoped>\n",
              "    .dataframe tbody tr th:only-of-type {\n",
              "        vertical-align: middle;\n",
              "    }\n",
              "\n",
              "    .dataframe tbody tr th {\n",
              "        vertical-align: top;\n",
              "    }\n",
              "\n",
              "    .dataframe thead th {\n",
              "        text-align: right;\n",
              "    }\n",
              "</style>\n",
              "<table border=\"1\" class=\"dataframe\">\n",
              "  <thead>\n",
              "    <tr style=\"text-align: right;\">\n",
              "      <th></th>\n",
              "      <th>count</th>\n",
              "      <th>mean</th>\n",
              "      <th>std</th>\n",
              "      <th>min</th>\n",
              "      <th>25%</th>\n",
              "      <th>50%</th>\n",
              "      <th>75%</th>\n",
              "      <th>max</th>\n",
              "    </tr>\n",
              "  </thead>\n",
              "  <tbody>\n",
              "    <tr>\n",
              "      <th>diagnosis</th>\n",
              "      <td>569.0</td>\n",
              "      <td>0.372583</td>\n",
              "      <td>0.483918</td>\n",
              "      <td>0.000000</td>\n",
              "      <td>0.000000</td>\n",
              "      <td>0.000000</td>\n",
              "      <td>1.000000</td>\n",
              "      <td>1.00000</td>\n",
              "    </tr>\n",
              "    <tr>\n",
              "      <th>radius_mean</th>\n",
              "      <td>569.0</td>\n",
              "      <td>14.127292</td>\n",
              "      <td>3.524049</td>\n",
              "      <td>6.981000</td>\n",
              "      <td>11.700000</td>\n",
              "      <td>13.370000</td>\n",
              "      <td>15.780000</td>\n",
              "      <td>28.11000</td>\n",
              "    </tr>\n",
              "    <tr>\n",
              "      <th>texture_mean</th>\n",
              "      <td>569.0</td>\n",
              "      <td>19.289649</td>\n",
              "      <td>4.301036</td>\n",
              "      <td>9.710000</td>\n",
              "      <td>16.170000</td>\n",
              "      <td>18.840000</td>\n",
              "      <td>21.800000</td>\n",
              "      <td>39.28000</td>\n",
              "    </tr>\n",
              "    <tr>\n",
              "      <th>perimeter_mean</th>\n",
              "      <td>569.0</td>\n",
              "      <td>91.969033</td>\n",
              "      <td>24.298981</td>\n",
              "      <td>43.790000</td>\n",
              "      <td>75.170000</td>\n",
              "      <td>86.240000</td>\n",
              "      <td>104.100000</td>\n",
              "      <td>188.50000</td>\n",
              "    </tr>\n",
              "    <tr>\n",
              "      <th>area_mean</th>\n",
              "      <td>569.0</td>\n",
              "      <td>654.889104</td>\n",
              "      <td>351.914129</td>\n",
              "      <td>143.500000</td>\n",
              "      <td>420.300000</td>\n",
              "      <td>551.100000</td>\n",
              "      <td>782.700000</td>\n",
              "      <td>2501.00000</td>\n",
              "    </tr>\n",
              "    <tr>\n",
              "      <th>smoothness_mean</th>\n",
              "      <td>569.0</td>\n",
              "      <td>0.096360</td>\n",
              "      <td>0.014064</td>\n",
              "      <td>0.052630</td>\n",
              "      <td>0.086370</td>\n",
              "      <td>0.095870</td>\n",
              "      <td>0.105300</td>\n",
              "      <td>0.16340</td>\n",
              "    </tr>\n",
              "    <tr>\n",
              "      <th>compactness_mean</th>\n",
              "      <td>569.0</td>\n",
              "      <td>0.104341</td>\n",
              "      <td>0.052813</td>\n",
              "      <td>0.019380</td>\n",
              "      <td>0.064920</td>\n",
              "      <td>0.092630</td>\n",
              "      <td>0.130400</td>\n",
              "      <td>0.34540</td>\n",
              "    </tr>\n",
              "    <tr>\n",
              "      <th>concavity_mean</th>\n",
              "      <td>569.0</td>\n",
              "      <td>0.088799</td>\n",
              "      <td>0.079720</td>\n",
              "      <td>0.000000</td>\n",
              "      <td>0.029560</td>\n",
              "      <td>0.061540</td>\n",
              "      <td>0.130700</td>\n",
              "      <td>0.42680</td>\n",
              "    </tr>\n",
              "    <tr>\n",
              "      <th>concave points_mean</th>\n",
              "      <td>569.0</td>\n",
              "      <td>0.048919</td>\n",
              "      <td>0.038803</td>\n",
              "      <td>0.000000</td>\n",
              "      <td>0.020310</td>\n",
              "      <td>0.033500</td>\n",
              "      <td>0.074000</td>\n",
              "      <td>0.20120</td>\n",
              "    </tr>\n",
              "    <tr>\n",
              "      <th>symmetry_mean</th>\n",
              "      <td>569.0</td>\n",
              "      <td>0.181162</td>\n",
              "      <td>0.027414</td>\n",
              "      <td>0.106000</td>\n",
              "      <td>0.161900</td>\n",
              "      <td>0.179200</td>\n",
              "      <td>0.195700</td>\n",
              "      <td>0.30400</td>\n",
              "    </tr>\n",
              "    <tr>\n",
              "      <th>fractal_dimension_mean</th>\n",
              "      <td>569.0</td>\n",
              "      <td>0.062798</td>\n",
              "      <td>0.007060</td>\n",
              "      <td>0.049960</td>\n",
              "      <td>0.057700</td>\n",
              "      <td>0.061540</td>\n",
              "      <td>0.066120</td>\n",
              "      <td>0.09744</td>\n",
              "    </tr>\n",
              "    <tr>\n",
              "      <th>radius_se</th>\n",
              "      <td>569.0</td>\n",
              "      <td>0.405172</td>\n",
              "      <td>0.277313</td>\n",
              "      <td>0.111500</td>\n",
              "      <td>0.232400</td>\n",
              "      <td>0.324200</td>\n",
              "      <td>0.478900</td>\n",
              "      <td>2.87300</td>\n",
              "    </tr>\n",
              "    <tr>\n",
              "      <th>texture_se</th>\n",
              "      <td>569.0</td>\n",
              "      <td>1.216853</td>\n",
              "      <td>0.551648</td>\n",
              "      <td>0.360200</td>\n",
              "      <td>0.833900</td>\n",
              "      <td>1.108000</td>\n",
              "      <td>1.474000</td>\n",
              "      <td>4.88500</td>\n",
              "    </tr>\n",
              "    <tr>\n",
              "      <th>perimeter_se</th>\n",
              "      <td>569.0</td>\n",
              "      <td>2.866059</td>\n",
              "      <td>2.021855</td>\n",
              "      <td>0.757000</td>\n",
              "      <td>1.606000</td>\n",
              "      <td>2.287000</td>\n",
              "      <td>3.357000</td>\n",
              "      <td>21.98000</td>\n",
              "    </tr>\n",
              "    <tr>\n",
              "      <th>area_se</th>\n",
              "      <td>569.0</td>\n",
              "      <td>40.337079</td>\n",
              "      <td>45.491006</td>\n",
              "      <td>6.802000</td>\n",
              "      <td>17.850000</td>\n",
              "      <td>24.530000</td>\n",
              "      <td>45.190000</td>\n",
              "      <td>542.20000</td>\n",
              "    </tr>\n",
              "    <tr>\n",
              "      <th>smoothness_se</th>\n",
              "      <td>569.0</td>\n",
              "      <td>0.007041</td>\n",
              "      <td>0.003003</td>\n",
              "      <td>0.001713</td>\n",
              "      <td>0.005169</td>\n",
              "      <td>0.006380</td>\n",
              "      <td>0.008146</td>\n",
              "      <td>0.03113</td>\n",
              "    </tr>\n",
              "    <tr>\n",
              "      <th>compactness_se</th>\n",
              "      <td>569.0</td>\n",
              "      <td>0.025478</td>\n",
              "      <td>0.017908</td>\n",
              "      <td>0.002252</td>\n",
              "      <td>0.013080</td>\n",
              "      <td>0.020450</td>\n",
              "      <td>0.032450</td>\n",
              "      <td>0.13540</td>\n",
              "    </tr>\n",
              "    <tr>\n",
              "      <th>concavity_se</th>\n",
              "      <td>569.0</td>\n",
              "      <td>0.031894</td>\n",
              "      <td>0.030186</td>\n",
              "      <td>0.000000</td>\n",
              "      <td>0.015090</td>\n",
              "      <td>0.025890</td>\n",
              "      <td>0.042050</td>\n",
              "      <td>0.39600</td>\n",
              "    </tr>\n",
              "    <tr>\n",
              "      <th>concave points_se</th>\n",
              "      <td>569.0</td>\n",
              "      <td>0.011796</td>\n",
              "      <td>0.006170</td>\n",
              "      <td>0.000000</td>\n",
              "      <td>0.007638</td>\n",
              "      <td>0.010930</td>\n",
              "      <td>0.014710</td>\n",
              "      <td>0.05279</td>\n",
              "    </tr>\n",
              "    <tr>\n",
              "      <th>symmetry_se</th>\n",
              "      <td>569.0</td>\n",
              "      <td>0.020542</td>\n",
              "      <td>0.008266</td>\n",
              "      <td>0.007882</td>\n",
              "      <td>0.015160</td>\n",
              "      <td>0.018730</td>\n",
              "      <td>0.023480</td>\n",
              "      <td>0.07895</td>\n",
              "    </tr>\n",
              "    <tr>\n",
              "      <th>fractal_dimension_se</th>\n",
              "      <td>569.0</td>\n",
              "      <td>0.003795</td>\n",
              "      <td>0.002646</td>\n",
              "      <td>0.000895</td>\n",
              "      <td>0.002248</td>\n",
              "      <td>0.003187</td>\n",
              "      <td>0.004558</td>\n",
              "      <td>0.02984</td>\n",
              "    </tr>\n",
              "    <tr>\n",
              "      <th>radius_worst</th>\n",
              "      <td>569.0</td>\n",
              "      <td>16.269190</td>\n",
              "      <td>4.833242</td>\n",
              "      <td>7.930000</td>\n",
              "      <td>13.010000</td>\n",
              "      <td>14.970000</td>\n",
              "      <td>18.790000</td>\n",
              "      <td>36.04000</td>\n",
              "    </tr>\n",
              "    <tr>\n",
              "      <th>texture_worst</th>\n",
              "      <td>569.0</td>\n",
              "      <td>25.677223</td>\n",
              "      <td>6.146258</td>\n",
              "      <td>12.020000</td>\n",
              "      <td>21.080000</td>\n",
              "      <td>25.410000</td>\n",
              "      <td>29.720000</td>\n",
              "      <td>49.54000</td>\n",
              "    </tr>\n",
              "    <tr>\n",
              "      <th>perimeter_worst</th>\n",
              "      <td>569.0</td>\n",
              "      <td>107.261213</td>\n",
              "      <td>33.602542</td>\n",
              "      <td>50.410000</td>\n",
              "      <td>84.110000</td>\n",
              "      <td>97.660000</td>\n",
              "      <td>125.400000</td>\n",
              "      <td>251.20000</td>\n",
              "    </tr>\n",
              "    <tr>\n",
              "      <th>area_worst</th>\n",
              "      <td>569.0</td>\n",
              "      <td>880.583128</td>\n",
              "      <td>569.356993</td>\n",
              "      <td>185.200000</td>\n",
              "      <td>515.300000</td>\n",
              "      <td>686.500000</td>\n",
              "      <td>1084.000000</td>\n",
              "      <td>4254.00000</td>\n",
              "    </tr>\n",
              "    <tr>\n",
              "      <th>smoothness_worst</th>\n",
              "      <td>569.0</td>\n",
              "      <td>0.132369</td>\n",
              "      <td>0.022832</td>\n",
              "      <td>0.071170</td>\n",
              "      <td>0.116600</td>\n",
              "      <td>0.131300</td>\n",
              "      <td>0.146000</td>\n",
              "      <td>0.22260</td>\n",
              "    </tr>\n",
              "    <tr>\n",
              "      <th>compactness_worst</th>\n",
              "      <td>569.0</td>\n",
              "      <td>0.254265</td>\n",
              "      <td>0.157336</td>\n",
              "      <td>0.027290</td>\n",
              "      <td>0.147200</td>\n",
              "      <td>0.211900</td>\n",
              "      <td>0.339100</td>\n",
              "      <td>1.05800</td>\n",
              "    </tr>\n",
              "    <tr>\n",
              "      <th>concavity_worst</th>\n",
              "      <td>569.0</td>\n",
              "      <td>0.272188</td>\n",
              "      <td>0.208624</td>\n",
              "      <td>0.000000</td>\n",
              "      <td>0.114500</td>\n",
              "      <td>0.226700</td>\n",
              "      <td>0.382900</td>\n",
              "      <td>1.25200</td>\n",
              "    </tr>\n",
              "    <tr>\n",
              "      <th>concave points_worst</th>\n",
              "      <td>569.0</td>\n",
              "      <td>0.114606</td>\n",
              "      <td>0.065732</td>\n",
              "      <td>0.000000</td>\n",
              "      <td>0.064930</td>\n",
              "      <td>0.099930</td>\n",
              "      <td>0.161400</td>\n",
              "      <td>0.29100</td>\n",
              "    </tr>\n",
              "    <tr>\n",
              "      <th>symmetry_worst</th>\n",
              "      <td>569.0</td>\n",
              "      <td>0.290076</td>\n",
              "      <td>0.061867</td>\n",
              "      <td>0.156500</td>\n",
              "      <td>0.250400</td>\n",
              "      <td>0.282200</td>\n",
              "      <td>0.317900</td>\n",
              "      <td>0.66380</td>\n",
              "    </tr>\n",
              "    <tr>\n",
              "      <th>fractal_dimension_worst</th>\n",
              "      <td>569.0</td>\n",
              "      <td>0.083946</td>\n",
              "      <td>0.018061</td>\n",
              "      <td>0.055040</td>\n",
              "      <td>0.071460</td>\n",
              "      <td>0.080040</td>\n",
              "      <td>0.092080</td>\n",
              "      <td>0.20750</td>\n",
              "    </tr>\n",
              "  </tbody>\n",
              "</table>\n",
              "</div>"
            ],
            "text/plain": [
              "                         count        mean         std         min  \\\n",
              "diagnosis                569.0    0.372583    0.483918    0.000000   \n",
              "radius_mean              569.0   14.127292    3.524049    6.981000   \n",
              "texture_mean             569.0   19.289649    4.301036    9.710000   \n",
              "perimeter_mean           569.0   91.969033   24.298981   43.790000   \n",
              "area_mean                569.0  654.889104  351.914129  143.500000   \n",
              "smoothness_mean          569.0    0.096360    0.014064    0.052630   \n",
              "compactness_mean         569.0    0.104341    0.052813    0.019380   \n",
              "concavity_mean           569.0    0.088799    0.079720    0.000000   \n",
              "concave points_mean      569.0    0.048919    0.038803    0.000000   \n",
              "symmetry_mean            569.0    0.181162    0.027414    0.106000   \n",
              "fractal_dimension_mean   569.0    0.062798    0.007060    0.049960   \n",
              "radius_se                569.0    0.405172    0.277313    0.111500   \n",
              "texture_se               569.0    1.216853    0.551648    0.360200   \n",
              "perimeter_se             569.0    2.866059    2.021855    0.757000   \n",
              "area_se                  569.0   40.337079   45.491006    6.802000   \n",
              "smoothness_se            569.0    0.007041    0.003003    0.001713   \n",
              "compactness_se           569.0    0.025478    0.017908    0.002252   \n",
              "concavity_se             569.0    0.031894    0.030186    0.000000   \n",
              "concave points_se        569.0    0.011796    0.006170    0.000000   \n",
              "symmetry_se              569.0    0.020542    0.008266    0.007882   \n",
              "fractal_dimension_se     569.0    0.003795    0.002646    0.000895   \n",
              "radius_worst             569.0   16.269190    4.833242    7.930000   \n",
              "texture_worst            569.0   25.677223    6.146258   12.020000   \n",
              "perimeter_worst          569.0  107.261213   33.602542   50.410000   \n",
              "area_worst               569.0  880.583128  569.356993  185.200000   \n",
              "smoothness_worst         569.0    0.132369    0.022832    0.071170   \n",
              "compactness_worst        569.0    0.254265    0.157336    0.027290   \n",
              "concavity_worst          569.0    0.272188    0.208624    0.000000   \n",
              "concave points_worst     569.0    0.114606    0.065732    0.000000   \n",
              "symmetry_worst           569.0    0.290076    0.061867    0.156500   \n",
              "fractal_dimension_worst  569.0    0.083946    0.018061    0.055040   \n",
              "\n",
              "                                25%         50%          75%         max  \n",
              "diagnosis                  0.000000    0.000000     1.000000     1.00000  \n",
              "radius_mean               11.700000   13.370000    15.780000    28.11000  \n",
              "texture_mean              16.170000   18.840000    21.800000    39.28000  \n",
              "perimeter_mean            75.170000   86.240000   104.100000   188.50000  \n",
              "area_mean                420.300000  551.100000   782.700000  2501.00000  \n",
              "smoothness_mean            0.086370    0.095870     0.105300     0.16340  \n",
              "compactness_mean           0.064920    0.092630     0.130400     0.34540  \n",
              "concavity_mean             0.029560    0.061540     0.130700     0.42680  \n",
              "concave points_mean        0.020310    0.033500     0.074000     0.20120  \n",
              "symmetry_mean              0.161900    0.179200     0.195700     0.30400  \n",
              "fractal_dimension_mean     0.057700    0.061540     0.066120     0.09744  \n",
              "radius_se                  0.232400    0.324200     0.478900     2.87300  \n",
              "texture_se                 0.833900    1.108000     1.474000     4.88500  \n",
              "perimeter_se               1.606000    2.287000     3.357000    21.98000  \n",
              "area_se                   17.850000   24.530000    45.190000   542.20000  \n",
              "smoothness_se              0.005169    0.006380     0.008146     0.03113  \n",
              "compactness_se             0.013080    0.020450     0.032450     0.13540  \n",
              "concavity_se               0.015090    0.025890     0.042050     0.39600  \n",
              "concave points_se          0.007638    0.010930     0.014710     0.05279  \n",
              "symmetry_se                0.015160    0.018730     0.023480     0.07895  \n",
              "fractal_dimension_se       0.002248    0.003187     0.004558     0.02984  \n",
              "radius_worst              13.010000   14.970000    18.790000    36.04000  \n",
              "texture_worst             21.080000   25.410000    29.720000    49.54000  \n",
              "perimeter_worst           84.110000   97.660000   125.400000   251.20000  \n",
              "area_worst               515.300000  686.500000  1084.000000  4254.00000  \n",
              "smoothness_worst           0.116600    0.131300     0.146000     0.22260  \n",
              "compactness_worst          0.147200    0.211900     0.339100     1.05800  \n",
              "concavity_worst            0.114500    0.226700     0.382900     1.25200  \n",
              "concave points_worst       0.064930    0.099930     0.161400     0.29100  \n",
              "symmetry_worst             0.250400    0.282200     0.317900     0.66380  \n",
              "fractal_dimension_worst    0.071460    0.080040     0.092080     0.20750  "
            ]
          },
          "execution_count": 94,
          "metadata": {},
          "output_type": "execute_result"
        }
      ],
      "source": [
        "# Membuat list data numerikal saja.\n",
        "data1.describe().T"
      ]
    },
    {
      "cell_type": "markdown",
      "metadata": {},
      "source": [
        "Penjelasan :\n",
        "\n",
        "\n",
        "- Kelas Diagnosis: Data ini mengandung informasi tentang diagnosis kanker payudara, dengan dua kelas yaitu 0 (non-kanker) dan 1 (kanker). Insight pertama adalah distribusi kelas, di mana sebagian besar sampel adalah non-kanker (nilai min, 25%, 50%, dan 75% adalah 0), sementara sejumlah kecil adalah kanker (nilai maks adalah 1). Hal ini menunjukkan bahwa dataset ini mungkin tidak seimbang (imbalance class), yang perlu diperhatikan saat membangun model klasifikasi.\n",
        "\n",
        "- Variabilitas Fitur: Terdapat berbagai fitur yang mengukur karakteristik sel-sel kanker payudara, seperti radius, tekstur, perimeter, area, dan banyak lainnya. Dalam deskripsi data, kita dapat melihat statistik seperti rata-rata (mean), standar deviasi (std), nilai minimum (min), kuartil bawah (25%), median (50%), kuartil atas (75%), dan nilai maksimum (max) untuk setiap fitur. Ini mengindikasikan variasi yang signifikan dalam fitur-fitur ini, yang penting dalam analisis dan pemodelan.\n",
        "\n",
        "- Standar Error: Dataset juga mencakup informasi tentang standar error untuk beberapa fitur, seperti radius, tekstur, perimeter, dan lainnya. Standar error adalah ukuran seberapa konsisten pengukuran tersebut, dan dapat menjadi informasi penting dalam mengukur keakuratan pengukuran medis.\n",
        "\n",
        "- Variasi pada Tingkat Mean, Standar Error, dan Terburuk: Setiap fitur diukur pada tiga tingkat: mean, standar error, dan terburuk. Ini menggambarkan bagaimana karakteristik sel-sel kanker payudara berubah pada tingkat yang berbeda dan dapat memberikan wawasan tentang bagaimana pengukuran ini berkorelasi dengan diagnosis.\n",
        "\n",
        "- Rentang Nilai: Nilai-nilai dalam dataset ini memiliki rentang yang cukup luas, terutama untuk beberapa fitur seperti area_worst dan perimeter_worst. Hal ini menunjukkan variasi ekstrem dalam beberapa kasus, yang mungkin mengandung informasi penting untuk diagnosis.\n",
        "\n",
        "- Perbedaan Tingkat Kehalusan (Smoothness) dan Kompakitas (Compactness): Statistik seperti mean, standar deviasi, dan kuartil menggambarkan sejauh mana sel-sel kanker payudara memiliki tingkat kehalusan dan kompakitas yang berbeda. Ini mungkin menjadi fitur-fitur penting dalam klasifikasi kanker."
      ]
    },
    {
      "cell_type": "markdown",
      "metadata": {},
      "source": [
        "### Visualisai data"
      ]
    },
    {
      "cell_type": "code",
      "execution_count": 96,
      "metadata": {},
      "outputs": [
        {
          "data": {
            "image/png": "[encoded data removed]",
            "text/plain": [
              "<Figure size 1700x500 with 2 Axes>"
            ]
          },
          "metadata": {},
          "output_type": "display_data"
        }
      ],
      "source": [
        "# Membuat subplot dengan 1 barplot dan 1 pie chart\n",
        "f, ax = plt.subplots(1, 2, figsize=(17, 5))\n",
        "\n",
        "# Membuat pie chart\n",
        "data1.diagnosis.value_counts().plot.pie(autopct='%1.1f%%', ax=ax[0], label=\"\")\n",
        "\n",
        "# Membuat barplot\n",
        "sns.countplot(data=data1, x='diagnosis', ax=ax[1])\n",
        "\n",
        "# Menambahkan nilai pada barplot\n",
        "for p in ax[1].patches:\n",
        "    ax[1].annotate(f'{p.get_height()}', (p.get_x() + p.get_width() / 2., p.get_height()), ha='center', va='center', fontsize=12, color='black', xytext=(0, 5), textcoords='offset points')\n",
        "\n",
        "plt.show()\n"
      ]
    },
    {
      "cell_type": "code",
      "execution_count": 19,
      "metadata": {},
      "outputs": [
        {
          "data": {
            "text/plain": [
              "0    357\n",
              "1    212\n",
              "Name: diagnosis, dtype: int64"
            ]
          },
          "execution_count": 19,
          "metadata": {},
          "output_type": "execute_result"
        }
      ],
      "source": [
        "data1['diagnosis'].value_counts()"
      ]
    },
    {
      "cell_type": "markdown",
      "metadata": {},
      "source": [
        "Penjelasan:\n",
        "\n",
        "Terlihat pada data ini bahwa pasien normal lebih banyak dibandingkan pasien yang terkena kanker"
      ]
    },
    {
      "cell_type": "code",
      "execution_count": 154,
      "metadata": {},
      "outputs": [
        {
          "name": "stdout",
          "output_type": "stream",
          "text": [
            "Fitur-fitur dengan korelasi di atas 70% terhadap 'diagnosis':\n",
            "['diagnosis', 'radius_mean', 'perimeter_mean', 'area_mean', 'concave points_mean', 'radius_worst', 'perimeter_worst', 'area_worst', 'concave points_worst']\n"
          ]
        },
        {
          "data": {
            "image/png": "[encoded data removed]",
            "text/plain": [
              "<Figure size 1200x800 with 2 Axes>"
            ]
          },
          "metadata": {},
          "output_type": "display_data"
        }
      ],
      "source": [
        "def select_high_correlation_features(data, target_column, threshold=0.7):\n",
        "    # Ambil kolom target dan fitur-fitur numerik\n",
        "    numeric_features = data.select_dtypes(include=['number'])\n",
        "    \n",
        "    # Hitung korelasi antara fitur-fitur numerik dan kolom target\n",
        "    correlation_matrix = numeric_features.corrwith(data[target_column])\n",
        "    \n",
        "    # Filter fitur yang memiliki korelasi di atas threshold\n",
        "    high_correlation_features = correlation_matrix[abs(correlation_matrix) > threshold]\n",
        "    \n",
        "    return high_correlation_features.index.tolist()\n",
        "\n",
        "# Contoh penggunaan fungsi\n",
        "selected_features = select_high_correlation_features(data1, 'diagnosis', 0.7)\n",
        "print(\"Fitur-fitur dengan korelasi di atas 70% terhadap 'diagnosis':\")\n",
        "print(selected_features)\n",
        "\n",
        "# Buat heatmap korelasi antara fitur-fitur terpilih dan 'diagnosis'\n",
        "plt.figure(figsize=(12, 8))\n",
        "correlation_matrix = data1[selected_features + ['diagnosis']].corr()\n",
        "sns.heatmap(correlation_matrix, annot=True, fmt='.2f', cmap='coolwarm')\n",
        "plt.title('Korelasi antara Fitur-fitur Terpilih dan Kolom Target (diagnosis)')\n",
        "plt.show()\n"
      ]
    },
    {
      "cell_type": "markdown",
      "metadata": {},
      "source": [
        "Penjelasan:\n",
        "\n",
        "Fitur - fitur ini 'diagnosis', 'radius_mean', 'perimeter_mean', 'area_mean', 'concave points_mean', 'radius_worst', 'perimeter_worst', 'area_worst', 'concave points_worst' mempunyai hubungan yang sangat besar terhadap diagnosis pasien.Maka saya akan melihat karakteristik dari fitur fitur ini."
      ]
    },
    {
      "cell_type": "code",
      "execution_count": 144,
      "metadata": {},
      "outputs": [
        {
          "data": {
            "image/png": "[encoded data removed]",
            "text/plain": [
              "<Figure size 640x480 with 1 Axes>"
            ]
          },
          "metadata": {},
          "output_type": "display_data"
        }
      ],
      "source": [
        "# Membuat fungsi barplot\n",
        "\n",
        "def plot_mean_bar(data, x_col, y_col, title, x_label, y_label):\n",
        "    # Group data by x_col and calculate the mean of y_col\n",
        "    grouped_data = data.groupby([x_col]).agg({y_col: 'mean'})\n",
        "\n",
        "    # Create a barplot\n",
        "    grouped_data.plot(kind='bar')\n",
        "\n",
        "    # Add labels and title\n",
        "    plt.xlabel(x_label)\n",
        "    plt.ylabel(y_label)\n",
        "    plt.title(title)\n",
        "\n",
        "    # Show the plot\n",
        "    plt.show()\n",
        "\n",
        "# Example usage of the function\n",
        "plot_mean_bar(data1, 'diagnosis', 'concave points_worst', 'Mean of concave points_worst by diagnosis', 'diagnosis', 'Mean concave points_worst')\n"
      ]
    },
    {
      "cell_type": "code",
      "execution_count": 133,
      "metadata": {},
      "outputs": [
        {
          "data": {
            "text/html": [
              "<div>\n",
              "<style scoped>\n",
              "    .dataframe tbody tr th:only-of-type {\n",
              "        vertical-align: middle;\n",
              "    }\n",
              "\n",
              "    .dataframe tbody tr th {\n",
              "        vertical-align: top;\n",
              "    }\n",
              "\n",
              "    .dataframe thead th {\n",
              "        text-align: right;\n",
              "    }\n",
              "</style>\n",
              "<table border=\"1\" class=\"dataframe\">\n",
              "  <thead>\n",
              "    <tr style=\"text-align: right;\">\n",
              "      <th></th>\n",
              "      <th>concave points_worst</th>\n",
              "    </tr>\n",
              "    <tr>\n",
              "      <th>diagnosis</th>\n",
              "      <th></th>\n",
              "    </tr>\n",
              "  </thead>\n",
              "  <tbody>\n",
              "    <tr>\n",
              "      <th>0</th>\n",
              "      <td>0.074444</td>\n",
              "    </tr>\n",
              "    <tr>\n",
              "      <th>1</th>\n",
              "      <td>0.182237</td>\n",
              "    </tr>\n",
              "  </tbody>\n",
              "</table>\n",
              "</div>"
            ],
            "text/plain": [
              "           concave points_worst\n",
              "diagnosis                      \n",
              "0                      0.074444\n",
              "1                      0.182237"
            ]
          },
          "execution_count": 133,
          "metadata": {},
          "output_type": "execute_result"
        }
      ],
      "source": [
        "data1.groupby(['diagnosis']).agg({'concave points_worst': 'mean'})"
      ]
    },
    {
      "cell_type": "code",
      "execution_count": 145,
      "metadata": {},
      "outputs": [
        {
          "data": {
            "image/png": "[encoded data removed]",
            "text/plain": [
              "<Figure size 640x480 with 1 Axes>"
            ]
          },
          "metadata": {},
          "output_type": "display_data"
        }
      ],
      "source": [
        "plot_mean_bar(data1, 'diagnosis', 'area_worst', 'Mean of area_worst by diagnosis', 'diagnosis', 'Mean area_worst')"
      ]
    },
    {
      "cell_type": "code",
      "execution_count": 134,
      "metadata": {},
      "outputs": [
        {
          "data": {
            "text/html": [
              "<div>\n",
              "<style scoped>\n",
              "    .dataframe tbody tr th:only-of-type {\n",
              "        vertical-align: middle;\n",
              "    }\n",
              "\n",
              "    .dataframe tbody tr th {\n",
              "        vertical-align: top;\n",
              "    }\n",
              "\n",
              "    .dataframe thead th {\n",
              "        text-align: right;\n",
              "    }\n",
              "</style>\n",
              "<table border=\"1\" class=\"dataframe\">\n",
              "  <thead>\n",
              "    <tr style=\"text-align: right;\">\n",
              "      <th></th>\n",
              "      <th>area_worst</th>\n",
              "    </tr>\n",
              "    <tr>\n",
              "      <th>diagnosis</th>\n",
              "      <th></th>\n",
              "    </tr>\n",
              "  </thead>\n",
              "  <tbody>\n",
              "    <tr>\n",
              "      <th>0</th>\n",
              "      <td>558.899440</td>\n",
              "    </tr>\n",
              "    <tr>\n",
              "      <th>1</th>\n",
              "      <td>1422.286321</td>\n",
              "    </tr>\n",
              "  </tbody>\n",
              "</table>\n",
              "</div>"
            ],
            "text/plain": [
              "            area_worst\n",
              "diagnosis             \n",
              "0           558.899440\n",
              "1          1422.286321"
            ]
          },
          "execution_count": 134,
          "metadata": {},
          "output_type": "execute_result"
        }
      ],
      "source": [
        "data1.groupby(['diagnosis']).agg({'area_worst': 'mean'})"
      ]
    },
    {
      "cell_type": "code",
      "execution_count": 146,
      "metadata": {},
      "outputs": [
        {
          "data": {
            "image/png": "[encoded data removed]",
            "text/plain": [
              "<Figure size 640x480 with 1 Axes>"
            ]
          },
          "metadata": {},
          "output_type": "display_data"
        }
      ],
      "source": [
        "plot_mean_bar(data1, 'diagnosis', 'perimeter_worst', 'Mean of perimeter_worst by diagnosis', 'diagnosis', 'Mean perimeter_worst')"
      ]
    },
    {
      "cell_type": "code",
      "execution_count": 136,
      "metadata": {},
      "outputs": [
        {
          "data": {
            "text/html": [
              "<div>\n",
              "<style scoped>\n",
              "    .dataframe tbody tr th:only-of-type {\n",
              "        vertical-align: middle;\n",
              "    }\n",
              "\n",
              "    .dataframe tbody tr th {\n",
              "        vertical-align: top;\n",
              "    }\n",
              "\n",
              "    .dataframe thead th {\n",
              "        text-align: right;\n",
              "    }\n",
              "</style>\n",
              "<table border=\"1\" class=\"dataframe\">\n",
              "  <thead>\n",
              "    <tr style=\"text-align: right;\">\n",
              "      <th></th>\n",
              "      <th>perimeter_worst</th>\n",
              "    </tr>\n",
              "    <tr>\n",
              "      <th>diagnosis</th>\n",
              "      <th></th>\n",
              "    </tr>\n",
              "  </thead>\n",
              "  <tbody>\n",
              "    <tr>\n",
              "      <th>0</th>\n",
              "      <td>87.005938</td>\n",
              "    </tr>\n",
              "    <tr>\n",
              "      <th>1</th>\n",
              "      <td>141.370330</td>\n",
              "    </tr>\n",
              "  </tbody>\n",
              "</table>\n",
              "</div>"
            ],
            "text/plain": [
              "           perimeter_worst\n",
              "diagnosis                 \n",
              "0                87.005938\n",
              "1               141.370330"
            ]
          },
          "execution_count": 136,
          "metadata": {},
          "output_type": "execute_result"
        }
      ],
      "source": [
        "data1.groupby(['diagnosis']).agg({'perimeter_worst': 'mean'})"
      ]
    },
    {
      "cell_type": "code",
      "execution_count": 147,
      "metadata": {},
      "outputs": [
        {
          "data": {
            "image/png": "[encoded data removed]",
            "text/plain": [
              "<Figure size 640x480 with 1 Axes>"
            ]
          },
          "metadata": {},
          "output_type": "display_data"
        }
      ],
      "source": [
        "plot_mean_bar(data1, 'diagnosis', 'radius_worst', 'Mean of radius_worst by diagnosis', 'diagnosis', 'Mean radius_worst')"
      ]
    },
    {
      "cell_type": "code",
      "execution_count": 138,
      "metadata": {},
      "outputs": [
        {
          "data": {
            "text/html": [
              "<div>\n",
              "<style scoped>\n",
              "    .dataframe tbody tr th:only-of-type {\n",
              "        vertical-align: middle;\n",
              "    }\n",
              "\n",
              "    .dataframe tbody tr th {\n",
              "        vertical-align: top;\n",
              "    }\n",
              "\n",
              "    .dataframe thead th {\n",
              "        text-align: right;\n",
              "    }\n",
              "</style>\n",
              "<table border=\"1\" class=\"dataframe\">\n",
              "  <thead>\n",
              "    <tr style=\"text-align: right;\">\n",
              "      <th></th>\n",
              "      <th>radius_worst</th>\n",
              "    </tr>\n",
              "    <tr>\n",
              "      <th>diagnosis</th>\n",
              "      <th></th>\n",
              "    </tr>\n",
              "  </thead>\n",
              "  <tbody>\n",
              "    <tr>\n",
              "      <th>0</th>\n",
              "      <td>13.379801</td>\n",
              "    </tr>\n",
              "    <tr>\n",
              "      <th>1</th>\n",
              "      <td>21.134811</td>\n",
              "    </tr>\n",
              "  </tbody>\n",
              "</table>\n",
              "</div>"
            ],
            "text/plain": [
              "           radius_worst\n",
              "diagnosis              \n",
              "0             13.379801\n",
              "1             21.134811"
            ]
          },
          "execution_count": 138,
          "metadata": {},
          "output_type": "execute_result"
        }
      ],
      "source": [
        "data1.groupby(['diagnosis']).agg({'radius_worst': 'mean'})"
      ]
    },
    {
      "cell_type": "code",
      "execution_count": 148,
      "metadata": {},
      "outputs": [
        {
          "data": {
            "image/png": "[encoded data removed]",
            "text/plain": [
              "<Figure size 640x480 with 1 Axes>"
            ]
          },
          "metadata": {},
          "output_type": "display_data"
        }
      ],
      "source": [
        "plot_mean_bar(data1, 'diagnosis', 'concave points_mean', 'Mean of concave points_mean by diagnosis', 'diagnosis', 'Mean concave points_mean')"
      ]
    },
    {
      "cell_type": "code",
      "execution_count": 141,
      "metadata": {},
      "outputs": [
        {
          "data": {
            "text/html": [
              "<div>\n",
              "<style scoped>\n",
              "    .dataframe tbody tr th:only-of-type {\n",
              "        vertical-align: middle;\n",
              "    }\n",
              "\n",
              "    .dataframe tbody tr th {\n",
              "        vertical-align: top;\n",
              "    }\n",
              "\n",
              "    .dataframe thead th {\n",
              "        text-align: right;\n",
              "    }\n",
              "</style>\n",
              "<table border=\"1\" class=\"dataframe\">\n",
              "  <thead>\n",
              "    <tr style=\"text-align: right;\">\n",
              "      <th></th>\n",
              "      <th>concave points_mean</th>\n",
              "    </tr>\n",
              "    <tr>\n",
              "      <th>diagnosis</th>\n",
              "      <th></th>\n",
              "    </tr>\n",
              "  </thead>\n",
              "  <tbody>\n",
              "    <tr>\n",
              "      <th>0</th>\n",
              "      <td>0.025717</td>\n",
              "    </tr>\n",
              "    <tr>\n",
              "      <th>1</th>\n",
              "      <td>0.087990</td>\n",
              "    </tr>\n",
              "  </tbody>\n",
              "</table>\n",
              "</div>"
            ],
            "text/plain": [
              "           concave points_mean\n",
              "diagnosis                     \n",
              "0                     0.025717\n",
              "1                     0.087990"
            ]
          },
          "execution_count": 141,
          "metadata": {},
          "output_type": "execute_result"
        }
      ],
      "source": [
        "data1.groupby(['diagnosis']).agg({'concave points_mean': 'mean'})"
      ]
    },
    {
      "cell_type": "code",
      "execution_count": 149,
      "metadata": {},
      "outputs": [
        {
          "data": {
            "image/png": "[encoded data removed]",
            "text/plain": [
              "<Figure size 640x480 with 1 Axes>"
            ]
          },
          "metadata": {},
          "output_type": "display_data"
        }
      ],
      "source": [
        "plot_mean_bar(data1, 'diagnosis', 'area_mean', 'Mean of area_mean by diagnosis', 'diagnosis', 'Mean area_mean')"
      ]
    },
    {
      "cell_type": "code",
      "execution_count": 143,
      "metadata": {},
      "outputs": [
        {
          "data": {
            "text/html": [
              "<div>\n",
              "<style scoped>\n",
              "    .dataframe tbody tr th:only-of-type {\n",
              "        vertical-align: middle;\n",
              "    }\n",
              "\n",
              "    .dataframe tbody tr th {\n",
              "        vertical-align: top;\n",
              "    }\n",
              "\n",
              "    .dataframe thead th {\n",
              "        text-align: right;\n",
              "    }\n",
              "</style>\n",
              "<table border=\"1\" class=\"dataframe\">\n",
              "  <thead>\n",
              "    <tr style=\"text-align: right;\">\n",
              "      <th></th>\n",
              "      <th>area_mean</th>\n",
              "    </tr>\n",
              "    <tr>\n",
              "      <th>diagnosis</th>\n",
              "      <th></th>\n",
              "    </tr>\n",
              "  </thead>\n",
              "  <tbody>\n",
              "    <tr>\n",
              "      <th>0</th>\n",
              "      <td>462.790196</td>\n",
              "    </tr>\n",
              "    <tr>\n",
              "      <th>1</th>\n",
              "      <td>978.376415</td>\n",
              "    </tr>\n",
              "  </tbody>\n",
              "</table>\n",
              "</div>"
            ],
            "text/plain": [
              "            area_mean\n",
              "diagnosis            \n",
              "0          462.790196\n",
              "1          978.376415"
            ]
          },
          "execution_count": 143,
          "metadata": {},
          "output_type": "execute_result"
        }
      ],
      "source": [
        "data1.groupby(['diagnosis']).agg({'area_mean': 'mean'})"
      ]
    },
    {
      "cell_type": "code",
      "execution_count": 150,
      "metadata": {},
      "outputs": [
        {
          "data": {
            "image/png": "[encoded data removed]",
            "text/plain": [
              "<Figure size 640x480 with 1 Axes>"
            ]
          },
          "metadata": {},
          "output_type": "display_data"
        }
      ],
      "source": [
        "plot_mean_bar(data1, 'diagnosis', 'perimeter_mean', 'Mean of perimeter_mean by diagnosis', 'diagnosis', 'Mean perimeter_mean')"
      ]
    },
    {
      "cell_type": "code",
      "execution_count": 151,
      "metadata": {},
      "outputs": [
        {
          "data": {
            "text/html": [
              "<div>\n",
              "<style scoped>\n",
              "    .dataframe tbody tr th:only-of-type {\n",
              "        vertical-align: middle;\n",
              "    }\n",
              "\n",
              "    .dataframe tbody tr th {\n",
              "        vertical-align: top;\n",
              "    }\n",
              "\n",
              "    .dataframe thead th {\n",
              "        text-align: right;\n",
              "    }\n",
              "</style>\n",
              "<table border=\"1\" class=\"dataframe\">\n",
              "  <thead>\n",
              "    <tr style=\"text-align: right;\">\n",
              "      <th></th>\n",
              "      <th>perimeter_mean</th>\n",
              "    </tr>\n",
              "    <tr>\n",
              "      <th>diagnosis</th>\n",
              "      <th></th>\n",
              "    </tr>\n",
              "  </thead>\n",
              "  <tbody>\n",
              "    <tr>\n",
              "      <th>0</th>\n",
              "      <td>78.075406</td>\n",
              "    </tr>\n",
              "    <tr>\n",
              "      <th>1</th>\n",
              "      <td>115.365377</td>\n",
              "    </tr>\n",
              "  </tbody>\n",
              "</table>\n",
              "</div>"
            ],
            "text/plain": [
              "           perimeter_mean\n",
              "diagnosis                \n",
              "0               78.075406\n",
              "1              115.365377"
            ]
          },
          "execution_count": 151,
          "metadata": {},
          "output_type": "execute_result"
        }
      ],
      "source": [
        "data1.groupby(['diagnosis']).agg({'perimeter_mean': 'mean'})"
      ]
    },
    {
      "cell_type": "code",
      "execution_count": 152,
      "metadata": {},
      "outputs": [
        {
          "data": {
            "image/png": "[encoded data removed]",
            "text/plain": [
              "<Figure size 640x480 with 1 Axes>"
            ]
          },
          "metadata": {},
          "output_type": "display_data"
        }
      ],
      "source": [
        "plot_mean_bar(data1, 'diagnosis', 'radius_mean', 'Mean of radius_mean by diagnosis', 'diagnosis', 'Mean radius_mean')"
      ]
    },
    {
      "cell_type": "code",
      "execution_count": 153,
      "metadata": {},
      "outputs": [
        {
          "data": {
            "text/html": [
              "<div>\n",
              "<style scoped>\n",
              "    .dataframe tbody tr th:only-of-type {\n",
              "        vertical-align: middle;\n",
              "    }\n",
              "\n",
              "    .dataframe tbody tr th {\n",
              "        vertical-align: top;\n",
              "    }\n",
              "\n",
              "    .dataframe thead th {\n",
              "        text-align: right;\n",
              "    }\n",
              "</style>\n",
              "<table border=\"1\" class=\"dataframe\">\n",
              "  <thead>\n",
              "    <tr style=\"text-align: right;\">\n",
              "      <th></th>\n",
              "      <th>radius_mean</th>\n",
              "    </tr>\n",
              "    <tr>\n",
              "      <th>diagnosis</th>\n",
              "      <th></th>\n",
              "    </tr>\n",
              "  </thead>\n",
              "  <tbody>\n",
              "    <tr>\n",
              "      <th>0</th>\n",
              "      <td>12.146524</td>\n",
              "    </tr>\n",
              "    <tr>\n",
              "      <th>1</th>\n",
              "      <td>17.462830</td>\n",
              "    </tr>\n",
              "  </tbody>\n",
              "</table>\n",
              "</div>"
            ],
            "text/plain": [
              "           radius_mean\n",
              "diagnosis             \n",
              "0            12.146524\n",
              "1            17.462830"
            ]
          },
          "execution_count": 153,
          "metadata": {},
          "output_type": "execute_result"
        }
      ],
      "source": [
        "data1.groupby(['diagnosis']).agg({'radius_mean': 'mean'})"
      ]
    },
    {
      "cell_type": "markdown",
      "metadata": {},
      "source": [
        "### Overall Kesimpulan  dan Rekomendasi dari EDA"
      ]
    },
    {
      "cell_type": "markdown",
      "metadata": {},
      "source": [
        "- concave points_worst: Rata-rata \"concave points_worst\" pada kasus 1 (kanker) jauh lebih tinggi dibandingkan dengan kasus 0 (non-kanker). Ini mengindikasikan bahwa fitur ini dapat digunakan sebagai penanda penting dalam klasifikasi kanker payudara.\n",
        "\n",
        "- area_worst: Rata-rata \"area_worst\" pada kasus 1 (kanker) juga signifikan lebih tinggi dibandingkan dengan kasus 0 (non-kanker). Luas area ini mungkin berkaitan dengan ukuran tumor dan dapat digunakan dalam diagnosis.\n",
        "\n",
        "- perimeter_worst: \"perimeter_worst\" juga menunjukkan perbedaan yang signifikan antara kedua kelompok. Ini dapat menunjukkan adanya perbedaan dalam bentuk dan ukuran tumor antara kanker dan non-kanker.\n",
        "\n",
        "- radius_worst: \"radius_worst\" menunjukkan perbedaan yang signifikan antara kasus 0 dan 1, menunjukkan perbedaan dalam ukuran tumor.\n",
        "\n",
        "- concave points_mean: Fitur ini juga menunjukkan perbedaan yang cukup besar antara kedua kelompok. Ini menandakan bahwa \"concave points_mean\" mungkin memiliki nilai diagnostik dalam klasifikasi kanker payudara.\n",
        "\n",
        "- area_mean: Rata-rata \"area_mean\" pada kasus 1 (kanker) jauh lebih tinggi dibandingkan dengan kasus 0 (non-kanker). Ini mengindikasikan bahwa ukuran area tumor dapat menjadi faktor penting dalam diagnosis.\n",
        "\n",
        "- perimeter_mean: \"perimeter_mean\" juga menunjukkan perbedaan yang signifikan antara kedua kelompok. Ini berkaitan dengan bentuk dan ukuran tumor.\n",
        "\n",
        "- radius_mean: \"radius_mean\" menunjukkan perbedaan yang signifikan antara kasus 0 dan 1, menunjukkan perbedaan dalam ukuran tumor.\n",
        "\n",
        "Kesimpulan:\n",
        "\n",
        "Fitur-fitur seperti \"concave points_worst,\" \"area_worst,\" \"perimeter_worst,\" \"radius_worst,\" \"concave points_mean,\" \"area_mean,\" \"perimeter_mean,\" dan \"radius_mean\" memiliki perbedaan yang signifikan antara kanker dan non-kanker. Oleh karena itu, mereka dapat digunakan sebagai indikator penting dalam diagnosis kanker payudara.\n",
        "Analisis lebih lanjut, termasuk pemodelan statistik dan pembelajaran mesin, dapat digunakan untuk mengembangkan model klasifikasi yang lebih akurat berdasarkan fitur-fitur ini.\n",
        "Penting untuk bekerja sama dengan profesional medis dan ahli onkologi untuk memahami lebih dalam dampak klinis dari perbedaan dalam fitur-fitur ini dan bagaimana mereka dapat digunakan dalam praktik medis untuk diagnosis dini dan pengobatan kanker payudara.\n",
        "\n"
      ]
    },
    {
      "cell_type": "markdown",
      "metadata": {
        "id": "gL4tBc678S4z"
      },
      "source": [
        "# Feature Engineering"
      ]
    },
    {
      "cell_type": "markdown",
      "metadata": {
        "id": "vlhuphM27wDr"
      },
      "source": [
        "### Data preprocessing"
      ]
    },
    {
      "cell_type": "code",
      "execution_count": 20,
      "metadata": {
        "id": "bB_54sb93gdn"
      },
      "outputs": [],
      "source": [
        "# Membagi data fitur dan data target\n",
        "X= data1.drop('diagnosis', axis=1) #fitur\n",
        "y= data1['diagnosis'] #target"
      ]
    },
    {
      "cell_type": "code",
      "execution_count": 21,
      "metadata": {},
      "outputs": [],
      "source": [
        "# Split resampled data into training and testing sets\n",
        "\n",
        "X_train, X_test, y_train, y_test = train_test_split(X, \n",
        "                                                    y, \n",
        "                                                    test_size=0.2, \n",
        "                                                    random_state=7, \n",
        "                                                    stratify=y)"
      ]
    },
    {
      "cell_type": "markdown",
      "metadata": {},
      "source": [
        "Saya memutuskan dengan komposisi 80% train dan 20% test.Karena ukuran data pada dataset ini terlalu sedikit."
      ]
    },
    {
      "cell_type": "code",
      "execution_count": 22,
      "metadata": {
        "colab": {
          "base_uri": "https://localhost:8080/"
        },
        "id": "61faEbHj78hk",
        "outputId": "9afe5211-83a3-4ae2-bed8-e41aa7fd64cb"
      },
      "outputs": [
        {
          "name": "stdout",
          "output_type": "stream",
          "text": [
            "Train Size :  (455, 30)\n",
            "Test Size  :  (114, 30)\n",
            "Train Size :  (455,)\n",
            "Test Size  :  (114,)\n"
          ]
        }
      ],
      "source": [
        "# cetak ukuran data\n",
        "print('Train Size : ', X_train.shape)\n",
        "print('Test Size  : ', X_test.shape)\n",
        "print('Train Size : ', y_train.shape)\n",
        "print('Test Size  : ', y_test.shape)"
      ]
    },
    {
      "cell_type": "code",
      "execution_count": 23,
      "metadata": {},
      "outputs": [],
      "source": [
        "# handling imbalance data dengan teknik resampled SMOTE\n",
        "from imblearn.over_sampling import SMOTE\n",
        "rus = SMOTE(random_state=7)\n",
        "X_train,y_train  = rus.fit_resample(X_train, y_train)"
      ]
    },
    {
      "cell_type": "markdown",
      "metadata": {
        "id": "4BJXIqId8WP0"
      },
      "source": [
        "### Data transformation"
      ]
    },
    {
      "cell_type": "markdown",
      "metadata": {},
      "source": [
        "#### Handling Outlier"
      ]
    },
    {
      "cell_type": "markdown",
      "metadata": {
        "id": "ledxpdrNoyeo"
      },
      "source": [
        "Penjelasan:\n",
        "\n",
        "- Saya tidak melakukan handling outlier karena informasi pada saya ini sangat dibutuhkan untuk melihat karakteristik pasien yang terkena kanker payudarah.Untuk mengatasi hal ini Saya memutuskan memakai metode scaling karena minmaxscaler itu metodenya lebih kuat terhadap outlier dibanding standardscaler dan gak butuh asumsi data terdistribusi normal."
      ]
    },
    {
      "cell_type": "markdown",
      "metadata": {
        "id": "yZ-KwpgZ84Ei"
      },
      "source": [
        "#### Scaling"
      ]
    },
    {
      "cell_type": "markdown",
      "metadata": {},
      "source": [
        "- Saya memutuskan memakai metode scaling karena minmaxscaler itu metodenya lebih kuat terhadap outlier dibanding standardscaler dan gak butuh asumsi data terdistribusi normal.Tetapi kalau standardscaler dia sensitif sama outlier."
      ]
    },
    {
      "cell_type": "code",
      "execution_count": 28,
      "metadata": {},
      "outputs": [],
      "source": [
        "# Pengakalan agar nilai scaler saya berbentuk dataframe\n",
        "list = X_train.columns"
      ]
    },
    {
      "cell_type": "code",
      "execution_count": 29,
      "metadata": {
        "id": "yu-PXXzf8x6a"
      },
      "outputs": [],
      "source": [
        "# karena distribusi tidak normal jadi saya pakai metode MinMaxScaler\n",
        "scaler = MinMaxScaler()\n",
        "scaled_train = scaler.fit_transform(X_train[list])\n",
        "scaled_test = scaler.transform(X_test[list])"
      ]
    },
    {
      "cell_type": "markdown",
      "metadata": {
        "id": "UkhDnXy3sYft"
      },
      "source": [
        "#### Encoding\n",
        "\n",
        "Saya tidak melakukan encoding karena fitur saya tidak mempunyai data kategorikal."
      ]
    },
    {
      "cell_type": "markdown",
      "metadata": {},
      "source": [
        "# PCA"
      ]
    },
    {
      "cell_type": "markdown",
      "metadata": {},
      "source": [
        "Penjelasan :\n",
        "\n",
        "- Fitur yang saya pakai itu sangat penting,karena fitur yang saya punya adalah fitur-fitur digunakan untuk menggambarkan karakteristik sel-sel yang dianalisis dalam kanker payudara.\n",
        "\n",
        "- Untuk mengatasi masalah multicollinearity dalam konteks model klasifikasi, langkah-langkah yang akan saya ambil meliputi pemilihan fitur yang lebih hati-hati,dengan  menggunakan teknik reduksi dimensi seperti pemrosesan berbasis PCA (Principal Component Analysis) untuk mengurangi ketergantungan variabel. Tujuannya adalah untuk memastikan model klasifikasi yang lebih stabil dan memiliki interpretasi yang lebih baik."
      ]
    },
    {
      "cell_type": "code",
      "execution_count": 30,
      "metadata": {},
      "outputs": [
        {
          "data": {
            "text/html": [
              "<style>#sk-container-id-1 {color: black;}#sk-container-id-1 pre{padding: 0;}#sk-container-id-1 div.sk-toggleable {background-color: white;}#sk-container-id-1 label.sk-toggleable__label {cursor: pointer;display: block;width: 100%;margin-bottom: 0;padding: 0.3em;box-sizing: border-box;text-align: center;}#sk-container-id-1 label.sk-toggleable__label-arrow:before {content: \"▸\";float: left;margin-right: 0.25em;color: #696969;}#sk-container-id-1 label.sk-toggleable__label-arrow:hover:before {color: black;}#sk-container-id-1 div.sk-estimator:hover label.sk-toggleable__label-arrow:before {color: black;}#sk-container-id-1 div.sk-toggleable__content {max-height: 0;max-width: 0;overflow: hidden;text-align: left;background-color: #f0f8ff;}#sk-container-id-1 div.sk-toggleable__content pre {margin: 0.2em;color: black;border-radius: 0.25em;background-color: #f0f8ff;}#sk-container-id-1 input.sk-toggleable__control:checked~div.sk-toggleable__content {max-height: 200px;max-width: 100%;overflow: auto;}#sk-container-id-1 input.sk-toggleable__control:checked~label.sk-toggleable__label-arrow:before {content: \"▾\";}#sk-container-id-1 div.sk-estimator input.sk-toggleable__control:checked~label.sk-toggleable__label {background-color: #d4ebff;}#sk-container-id-1 div.sk-label input.sk-toggleable__control:checked~label.sk-toggleable__label {background-color: #d4ebff;}#sk-container-id-1 input.sk-hidden--visually {border: 0;clip: rect(1px 1px 1px 1px);clip: rect(1px, 1px, 1px, 1px);height: 1px;margin: -1px;overflow: hidden;padding: 0;position: absolute;width: 1px;}#sk-container-id-1 div.sk-estimator {font-family: monospace;background-color: #f0f8ff;border: 1px dotted black;border-radius: 0.25em;box-sizing: border-box;margin-bottom: 0.5em;}#sk-container-id-1 div.sk-estimator:hover {background-color: #d4ebff;}#sk-container-id-1 div.sk-parallel-item::after {content: \"\";width: 100%;border-bottom: 1px solid gray;flex-grow: 1;}#sk-container-id-1 div.sk-label:hover label.sk-toggleable__label {background-color: #d4ebff;}#sk-container-id-1 div.sk-serial::before {content: \"\";position: absolute;border-left: 1px solid gray;box-sizing: border-box;top: 0;bottom: 0;left: 50%;z-index: 0;}#sk-container-id-1 div.sk-serial {display: flex;flex-direction: column;align-items: center;background-color: white;padding-right: 0.2em;padding-left: 0.2em;position: relative;}#sk-container-id-1 div.sk-item {position: relative;z-index: 1;}#sk-container-id-1 div.sk-parallel {display: flex;align-items: stretch;justify-content: center;background-color: white;position: relative;}#sk-container-id-1 div.sk-item::before, #sk-container-id-1 div.sk-parallel-item::before {content: \"\";position: absolute;border-left: 1px solid gray;box-sizing: border-box;top: 0;bottom: 0;left: 50%;z-index: -1;}#sk-container-id-1 div.sk-parallel-item {display: flex;flex-direction: column;z-index: 1;position: relative;background-color: white;}#sk-container-id-1 div.sk-parallel-item:first-child::after {align-self: flex-end;width: 50%;}#sk-container-id-1 div.sk-parallel-item:last-child::after {align-self: flex-start;width: 50%;}#sk-container-id-1 div.sk-parallel-item:only-child::after {width: 0;}#sk-container-id-1 div.sk-dashed-wrapped {border: 1px dashed gray;margin: 0 0.4em 0.5em 0.4em;box-sizing: border-box;padding-bottom: 0.4em;background-color: white;}#sk-container-id-1 div.sk-label label {font-family: monospace;font-weight: bold;display: inline-block;line-height: 1.2em;}#sk-container-id-1 div.sk-label-container {text-align: center;}#sk-container-id-1 div.sk-container {/* jupyter's `normalize.less` sets `[hidden] { display: none; }` but bootstrap.min.css set `[hidden] { display: none !important; }` so we also need the `!important` here to be able to override the default hidden behavior on the sphinx rendered scikit-learn.org. See: https://github.com/scikit-learn/scikit-learn/issues/21755 */display: inline-block !important;position: relative;}#sk-container-id-1 div.sk-text-repr-fallback {display: none;}</style><div id=\"sk-container-id-1\" class=\"sk-top-container\"><div class=\"sk-text-repr-fallback\"><pre>PCA()</pre><b>In a Jupyter environment, please rerun this cell to show the HTML representation or trust the notebook. <br />On GitHub, the HTML representation is unable to render, please try loading this page with nbviewer.org.</b></div><div class=\"sk-container\" hidden><div class=\"sk-item\"><div class=\"sk-estimator sk-toggleable\"><input class=\"sk-toggleable__control sk-hidden--visually\" id=\"sk-estimator-id-1\" type=\"checkbox\" checked><label for=\"sk-estimator-id-1\" class=\"sk-toggleable__label sk-toggleable__label-arrow\">PCA</label><div class=\"sk-toggleable__content\"><pre>PCA()</pre></div></div></div></div></div>"
            ],
            "text/plain": [
              "PCA()"
            ]
          },
          "execution_count": 30,
          "metadata": {},
          "output_type": "execute_result"
        }
      ],
      "source": [
        "# Membuat objek PCA\n",
        "pca = PCA()\n",
        "\n",
        "# Melakukan fit transform pada data\n",
        "pca.fit(scaled_train)"
      ]
    },
    {
      "cell_type": "code",
      "execution_count": 31,
      "metadata": {},
      "outputs": [
        {
          "data": {
            "text/plain": [
              "Text(0, 0.5, 'Eigenvalues')"
            ]
          },
          "execution_count": 31,
          "metadata": {},
          "output_type": "execute_result"
        },
        {
          "data": {
            "image/png": "[encoded data removed]",
            "text/plain": [
              "<Figure size 1500x500 with 2 Axes>"
            ]
          },
          "metadata": {},
          "output_type": "display_data"
        }
      ],
      "source": [
        "# Membuat plot Kumulatif dari Rasio Varians yang Dijelaskan\n",
        "plt.figure(figsize=(15, 5))\n",
        "plt.subplot(1, 2, 1)\n",
        "plt.grid()\n",
        "plt.plot(range(1, 31), np.cumsum(pca.explained_variance_ratio_ * 100))\n",
        "plt.xlabel('Number of components')\n",
        "plt.ylabel('Explained Variance Ratio - Cummulative')\n",
        "\n",
        "# Plot the Eigenvalues\n",
        "plt.subplot(1, 2, 2)\n",
        "plt.grid()\n",
        "plt.plot(range(1, 31), pca.explained_variance_ )\n",
        "plt.xlabel('Number of components')\n",
        "plt.ylabel('Eigenvalues')"
      ]
    },
    {
      "cell_type": "code",
      "execution_count": 32,
      "metadata": {},
      "outputs": [
        {
          "data": {
            "text/plain": [
              "6"
            ]
          },
          "execution_count": 32,
          "metadata": {},
          "output_type": "execute_result"
        }
      ],
      "source": [
        "\n",
        "cumsum = np.cumsum(pca.explained_variance_ratio_)\n",
        "num_features = np.argmax(cumsum >= 0.90) + 1\n",
        "num_features"
      ]
    },
    {
      "cell_type": "code",
      "execution_count": 33,
      "metadata": {},
      "outputs": [],
      "source": [
        "# Mari kita latih model dengan 95% informasi kumpulan data asli\n",
        "\n",
        "pca_comp = PCA(n_components=6,svd_solver='randomized')\n",
        "\n",
        "scaled_pca_train = pca_comp.fit_transform(scaled_train)\n",
        "scaled_pca_test = pca_comp.fit_transform(scaled_test)"
      ]
    },
    {
      "cell_type": "markdown",
      "metadata": {},
      "source": [
        "Pejelasan:\n",
        "\n",
        "Dari 30 kolom yang saya punya saya mereduksi kolom tersebut menjadi 6 komponen yang memuat 95% informasi dari 30 kolom saya sebelumnya.\n",
        "\n"
      ]
    },
    {
      "cell_type": "markdown",
      "metadata": {},
      "source": [
        "# Preprocessing"
      ]
    },
    {
      "cell_type": "markdown",
      "metadata": {},
      "source": [
        "### Pipeline\n",
        "\n",
        "Membuat pipeline untuk memudahkan saya dalam melakukan data inference pada file P1M2_Aditya_PramanaP_Inf.ipynb"
      ]
    },
    {
      "cell_type": "code",
      "execution_count": 34,
      "metadata": {},
      "outputs": [],
      "source": [
        "# Membuat pipeline dengan SMOTE, scaler, dan PCA\n",
        "pipeline_preprocess = Pipeline([  # Menambahkan SMOTE ke pipeline\n",
        "    ('scaler', MinMaxScaler()),\n",
        "    ('pca', PCA(n_components=6)),\n",
        "    \n",
        "])\n",
        "\n",
        "# Melakukan transformasi data menggunakan pipeline\n",
        "num_tr = pipeline_preprocess.fit_transform(X_train, y_train)"
      ]
    },
    {
      "cell_type": "markdown",
      "metadata": {
        "id": "oClWl5VWWO-C"
      },
      "source": [
        "# Model Definition"
      ]
    },
    {
      "cell_type": "markdown",
      "metadata": {},
      "source": [
        "- Pemilihan klasifikasi: \n",
        "\n",
        "Klasifikasi Positif (Nilai 1): Kasus kanker payudara (ganas).\n",
        "Klasifikasi Negatif (Nilai 0): Kasus non-kanker payudara (jinak).\n",
        "\n",
        "- Pilihan Metrik Evaluasi:\n",
        "\n",
        "Karena kita ingin fokus pada kemampuan model dalam mengidentifikasi kasus kanker payudara (klasifikasi positif), kita akan memilih metrik evaluasi yang memprioritaskan recall atau true positive rate (sensitivitas). Recall mengukur sejauh mana model dapat mengidentifikasi semua kasus kanker payudara yang sebenarnya.\n",
        "\n",
        "Selain itu, kita juga ingin meminimalkan false negative (FN), karena mengidentifikasi kasus kanker payudara yang sebenarnya sebagai non-kanker (FN) dapat memiliki dampak kesehatan yang serius.\n",
        "\n",
        "Dalam konteks prediksi kanker payudara, penting untuk mengutamakan sensitivitas model, yang mengukur kemampuan model dalam mendeteksi kanker payudara yang sebenarnya (klasifikasi positif), bahkan jika ini menyebabkan peningkatan dalam false positives (kasus non-kanker yang salah diklasifikasikan sebagai kanker). Sensitivitas yang tinggi akan membantu dalam diagnosis dini dan pengobatan yang lebih efektif. "
      ]
    },
    {
      "cell_type": "markdown",
      "metadata": {},
      "source": [
        "## KNN"
      ]
    },
    {
      "cell_type": "code",
      "execution_count": 35,
      "metadata": {},
      "outputs": [
        {
          "data": {
            "text/html": [
              "<style>#sk-container-id-2 {color: black;}#sk-container-id-2 pre{padding: 0;}#sk-container-id-2 div.sk-toggleable {background-color: white;}#sk-container-id-2 label.sk-toggleable__label {cursor: pointer;display: block;width: 100%;margin-bottom: 0;padding: 0.3em;box-sizing: border-box;text-align: center;}#sk-container-id-2 label.sk-toggleable__label-arrow:before {content: \"▸\";float: left;margin-right: 0.25em;color: #696969;}#sk-container-id-2 label.sk-toggleable__label-arrow:hover:before {color: black;}#sk-container-id-2 div.sk-estimator:hover label.sk-toggleable__label-arrow:before {color: black;}#sk-container-id-2 div.sk-toggleable__content {max-height: 0;max-width: 0;overflow: hidden;text-align: left;background-color: #f0f8ff;}#sk-container-id-2 div.sk-toggleable__content pre {margin: 0.2em;color: black;border-radius: 0.25em;background-color: #f0f8ff;}#sk-container-id-2 input.sk-toggleable__control:checked~div.sk-toggleable__content {max-height: 200px;max-width: 100%;overflow: auto;}#sk-container-id-2 input.sk-toggleable__control:checked~label.sk-toggleable__label-arrow:before {content: \"▾\";}#sk-container-id-2 div.sk-estimator input.sk-toggleable__control:checked~label.sk-toggleable__label {background-color: #d4ebff;}#sk-container-id-2 div.sk-label input.sk-toggleable__control:checked~label.sk-toggleable__label {background-color: #d4ebff;}#sk-container-id-2 input.sk-hidden--visually {border: 0;clip: rect(1px 1px 1px 1px);clip: rect(1px, 1px, 1px, 1px);height: 1px;margin: -1px;overflow: hidden;padding: 0;position: absolute;width: 1px;}#sk-container-id-2 div.sk-estimator {font-family: monospace;background-color: #f0f8ff;border: 1px dotted black;border-radius: 0.25em;box-sizing: border-box;margin-bottom: 0.5em;}#sk-container-id-2 div.sk-estimator:hover {background-color: #d4ebff;}#sk-container-id-2 div.sk-parallel-item::after {content: \"\";width: 100%;border-bottom: 1px solid gray;flex-grow: 1;}#sk-container-id-2 div.sk-label:hover label.sk-toggleable__label {background-color: #d4ebff;}#sk-container-id-2 div.sk-serial::before {content: \"\";position: absolute;border-left: 1px solid gray;box-sizing: border-box;top: 0;bottom: 0;left: 50%;z-index: 0;}#sk-container-id-2 div.sk-serial {display: flex;flex-direction: column;align-items: center;background-color: white;padding-right: 0.2em;padding-left: 0.2em;position: relative;}#sk-container-id-2 div.sk-item {position: relative;z-index: 1;}#sk-container-id-2 div.sk-parallel {display: flex;align-items: stretch;justify-content: center;background-color: white;position: relative;}#sk-container-id-2 div.sk-item::before, #sk-container-id-2 div.sk-parallel-item::before {content: \"\";position: absolute;border-left: 1px solid gray;box-sizing: border-box;top: 0;bottom: 0;left: 50%;z-index: -1;}#sk-container-id-2 div.sk-parallel-item {display: flex;flex-direction: column;z-index: 1;position: relative;background-color: white;}#sk-container-id-2 div.sk-parallel-item:first-child::after {align-self: flex-end;width: 50%;}#sk-container-id-2 div.sk-parallel-item:last-child::after {align-self: flex-start;width: 50%;}#sk-container-id-2 div.sk-parallel-item:only-child::after {width: 0;}#sk-container-id-2 div.sk-dashed-wrapped {border: 1px dashed gray;margin: 0 0.4em 0.5em 0.4em;box-sizing: border-box;padding-bottom: 0.4em;background-color: white;}#sk-container-id-2 div.sk-label label {font-family: monospace;font-weight: bold;display: inline-block;line-height: 1.2em;}#sk-container-id-2 div.sk-label-container {text-align: center;}#sk-container-id-2 div.sk-container {/* jupyter's `normalize.less` sets `[hidden] { display: none; }` but bootstrap.min.css set `[hidden] { display: none !important; }` so we also need the `!important` here to be able to override the default hidden behavior on the sphinx rendered scikit-learn.org. See: https://github.com/scikit-learn/scikit-learn/issues/21755 */display: inline-block !important;position: relative;}#sk-container-id-2 div.sk-text-repr-fallback {display: none;}</style><div id=\"sk-container-id-2\" class=\"sk-top-container\"><div class=\"sk-text-repr-fallback\"><pre>KNeighborsClassifier()</pre><b>In a Jupyter environment, please rerun this cell to show the HTML representation or trust the notebook. <br />On GitHub, the HTML representation is unable to render, please try loading this page with nbviewer.org.</b></div><div class=\"sk-container\" hidden><div class=\"sk-item\"><div class=\"sk-estimator sk-toggleable\"><input class=\"sk-toggleable__control sk-hidden--visually\" id=\"sk-estimator-id-2\" type=\"checkbox\" checked><label for=\"sk-estimator-id-2\" class=\"sk-toggleable__label sk-toggleable__label-arrow\">KNeighborsClassifier</label><div class=\"sk-toggleable__content\"><pre>KNeighborsClassifier()</pre></div></div></div></div></div>"
            ],
            "text/plain": [
              "KNeighborsClassifier()"
            ]
          },
          "execution_count": 35,
          "metadata": {},
          "output_type": "execute_result"
        }
      ],
      "source": [
        "# baseline model\n",
        "knn_default = KNeighborsClassifier()\n",
        "knn_default.fit(scaled_pca_train, y_train)"
      ]
    },
    {
      "cell_type": "markdown",
      "metadata": {},
      "source": [
        "## Support Vektor Machine(SVM)"
      ]
    },
    {
      "cell_type": "code",
      "execution_count": 36,
      "metadata": {},
      "outputs": [
        {
          "data": {
            "text/html": [
              "<style>#sk-container-id-3 {color: black;}#sk-container-id-3 pre{padding: 0;}#sk-container-id-3 div.sk-toggleable {background-color: white;}#sk-container-id-3 label.sk-toggleable__label {cursor: pointer;display: block;width: 100%;margin-bottom: 0;padding: 0.3em;box-sizing: border-box;text-align: center;}#sk-container-id-3 label.sk-toggleable__label-arrow:before {content: \"▸\";float: left;margin-right: 0.25em;color: #696969;}#sk-container-id-3 label.sk-toggleable__label-arrow:hover:before {color: black;}#sk-container-id-3 div.sk-estimator:hover label.sk-toggleable__label-arrow:before {color: black;}#sk-container-id-3 div.sk-toggleable__content {max-height: 0;max-width: 0;overflow: hidden;text-align: left;background-color: #f0f8ff;}#sk-container-id-3 div.sk-toggleable__content pre {margin: 0.2em;color: black;border-radius: 0.25em;background-color: #f0f8ff;}#sk-container-id-3 input.sk-toggleable__control:checked~div.sk-toggleable__content {max-height: 200px;max-width: 100%;overflow: auto;}#sk-container-id-3 input.sk-toggleable__control:checked~label.sk-toggleable__label-arrow:before {content: \"▾\";}#sk-container-id-3 div.sk-estimator input.sk-toggleable__control:checked~label.sk-toggleable__label {background-color: #d4ebff;}#sk-container-id-3 div.sk-label input.sk-toggleable__control:checked~label.sk-toggleable__label {background-color: #d4ebff;}#sk-container-id-3 input.sk-hidden--visually {border: 0;clip: rect(1px 1px 1px 1px);clip: rect(1px, 1px, 1px, 1px);height: 1px;margin: -1px;overflow: hidden;padding: 0;position: absolute;width: 1px;}#sk-container-id-3 div.sk-estimator {font-family: monospace;background-color: #f0f8ff;border: 1px dotted black;border-radius: 0.25em;box-sizing: border-box;margin-bottom: 0.5em;}#sk-container-id-3 div.sk-estimator:hover {background-color: #d4ebff;}#sk-container-id-3 div.sk-parallel-item::after {content: \"\";width: 100%;border-bottom: 1px solid gray;flex-grow: 1;}#sk-container-id-3 div.sk-label:hover label.sk-toggleable__label {background-color: #d4ebff;}#sk-container-id-3 div.sk-serial::before {content: \"\";position: absolute;border-left: 1px solid gray;box-sizing: border-box;top: 0;bottom: 0;left: 50%;z-index: 0;}#sk-container-id-3 div.sk-serial {display: flex;flex-direction: column;align-items: center;background-color: white;padding-right: 0.2em;padding-left: 0.2em;position: relative;}#sk-container-id-3 div.sk-item {position: relative;z-index: 1;}#sk-container-id-3 div.sk-parallel {display: flex;align-items: stretch;justify-content: center;background-color: white;position: relative;}#sk-container-id-3 div.sk-item::before, #sk-container-id-3 div.sk-parallel-item::before {content: \"\";position: absolute;border-left: 1px solid gray;box-sizing: border-box;top: 0;bottom: 0;left: 50%;z-index: -1;}#sk-container-id-3 div.sk-parallel-item {display: flex;flex-direction: column;z-index: 1;position: relative;background-color: white;}#sk-container-id-3 div.sk-parallel-item:first-child::after {align-self: flex-end;width: 50%;}#sk-container-id-3 div.sk-parallel-item:last-child::after {align-self: flex-start;width: 50%;}#sk-container-id-3 div.sk-parallel-item:only-child::after {width: 0;}#sk-container-id-3 div.sk-dashed-wrapped {border: 1px dashed gray;margin: 0 0.4em 0.5em 0.4em;box-sizing: border-box;padding-bottom: 0.4em;background-color: white;}#sk-container-id-3 div.sk-label label {font-family: monospace;font-weight: bold;display: inline-block;line-height: 1.2em;}#sk-container-id-3 div.sk-label-container {text-align: center;}#sk-container-id-3 div.sk-container {/* jupyter's `normalize.less` sets `[hidden] { display: none; }` but bootstrap.min.css set `[hidden] { display: none !important; }` so we also need the `!important` here to be able to override the default hidden behavior on the sphinx rendered scikit-learn.org. See: https://github.com/scikit-learn/scikit-learn/issues/21755 */display: inline-block !important;position: relative;}#sk-container-id-3 div.sk-text-repr-fallback {display: none;}</style><div id=\"sk-container-id-3\" class=\"sk-top-container\"><div class=\"sk-text-repr-fallback\"><pre>SVC(probability=True, random_state=7)</pre><b>In a Jupyter environment, please rerun this cell to show the HTML representation or trust the notebook. <br />On GitHub, the HTML representation is unable to render, please try loading this page with nbviewer.org.</b></div><div class=\"sk-container\" hidden><div class=\"sk-item\"><div class=\"sk-estimator sk-toggleable\"><input class=\"sk-toggleable__control sk-hidden--visually\" id=\"sk-estimator-id-3\" type=\"checkbox\" checked><label for=\"sk-estimator-id-3\" class=\"sk-toggleable__label sk-toggleable__label-arrow\">SVC</label><div class=\"sk-toggleable__content\"><pre>SVC(probability=True, random_state=7)</pre></div></div></div></div></div>"
            ],
            "text/plain": [
              "SVC(probability=True, random_state=7)"
            ]
          },
          "execution_count": 36,
          "metadata": {},
          "output_type": "execute_result"
        }
      ],
      "source": [
        "# baseline model Support Vektor Machine\n",
        "svm_default = SVC(probability=True, random_state=7)\n",
        "svm_default.fit(scaled_pca_train, y_train)"
      ]
    },
    {
      "cell_type": "markdown",
      "metadata": {},
      "source": [
        "## Decision Tree"
      ]
    },
    {
      "cell_type": "code",
      "execution_count": 37,
      "metadata": {},
      "outputs": [
        {
          "data": {
            "text/html": [
              "<style>#sk-container-id-4 {color: black;}#sk-container-id-4 pre{padding: 0;}#sk-container-id-4 div.sk-toggleable {background-color: white;}#sk-container-id-4 label.sk-toggleable__label {cursor: pointer;display: block;width: 100%;margin-bottom: 0;padding: 0.3em;box-sizing: border-box;text-align: center;}#sk-container-id-4 label.sk-toggleable__label-arrow:before {content: \"▸\";float: left;margin-right: 0.25em;color: #696969;}#sk-container-id-4 label.sk-toggleable__label-arrow:hover:before {color: black;}#sk-container-id-4 div.sk-estimator:hover label.sk-toggleable__label-arrow:before {color: black;}#sk-container-id-4 div.sk-toggleable__content {max-height: 0;max-width: 0;overflow: hidden;text-align: left;background-color: #f0f8ff;}#sk-container-id-4 div.sk-toggleable__content pre {margin: 0.2em;color: black;border-radius: 0.25em;background-color: #f0f8ff;}#sk-container-id-4 input.sk-toggleable__control:checked~div.sk-toggleable__content {max-height: 200px;max-width: 100%;overflow: auto;}#sk-container-id-4 input.sk-toggleable__control:checked~label.sk-toggleable__label-arrow:before {content: \"▾\";}#sk-container-id-4 div.sk-estimator input.sk-toggleable__control:checked~label.sk-toggleable__label {background-color: #d4ebff;}#sk-container-id-4 div.sk-label input.sk-toggleable__control:checked~label.sk-toggleable__label {background-color: #d4ebff;}#sk-container-id-4 input.sk-hidden--visually {border: 0;clip: rect(1px 1px 1px 1px);clip: rect(1px, 1px, 1px, 1px);height: 1px;margin: -1px;overflow: hidden;padding: 0;position: absolute;width: 1px;}#sk-container-id-4 div.sk-estimator {font-family: monospace;background-color: #f0f8ff;border: 1px dotted black;border-radius: 0.25em;box-sizing: border-box;margin-bottom: 0.5em;}#sk-container-id-4 div.sk-estimator:hover {background-color: #d4ebff;}#sk-container-id-4 div.sk-parallel-item::after {content: \"\";width: 100%;border-bottom: 1px solid gray;flex-grow: 1;}#sk-container-id-4 div.sk-label:hover label.sk-toggleable__label {background-color: #d4ebff;}#sk-container-id-4 div.sk-serial::before {content: \"\";position: absolute;border-left: 1px solid gray;box-sizing: border-box;top: 0;bottom: 0;left: 50%;z-index: 0;}#sk-container-id-4 div.sk-serial {display: flex;flex-direction: column;align-items: center;background-color: white;padding-right: 0.2em;padding-left: 0.2em;position: relative;}#sk-container-id-4 div.sk-item {position: relative;z-index: 1;}#sk-container-id-4 div.sk-parallel {display: flex;align-items: stretch;justify-content: center;background-color: white;position: relative;}#sk-container-id-4 div.sk-item::before, #sk-container-id-4 div.sk-parallel-item::before {content: \"\";position: absolute;border-left: 1px solid gray;box-sizing: border-box;top: 0;bottom: 0;left: 50%;z-index: -1;}#sk-container-id-4 div.sk-parallel-item {display: flex;flex-direction: column;z-index: 1;position: relative;background-color: white;}#sk-container-id-4 div.sk-parallel-item:first-child::after {align-self: flex-end;width: 50%;}#sk-container-id-4 div.sk-parallel-item:last-child::after {align-self: flex-start;width: 50%;}#sk-container-id-4 div.sk-parallel-item:only-child::after {width: 0;}#sk-container-id-4 div.sk-dashed-wrapped {border: 1px dashed gray;margin: 0 0.4em 0.5em 0.4em;box-sizing: border-box;padding-bottom: 0.4em;background-color: white;}#sk-container-id-4 div.sk-label label {font-family: monospace;font-weight: bold;display: inline-block;line-height: 1.2em;}#sk-container-id-4 div.sk-label-container {text-align: center;}#sk-container-id-4 div.sk-container {/* jupyter's `normalize.less` sets `[hidden] { display: none; }` but bootstrap.min.css set `[hidden] { display: none !important; }` so we also need the `!important` here to be able to override the default hidden behavior on the sphinx rendered scikit-learn.org. See: https://github.com/scikit-learn/scikit-learn/issues/21755 */display: inline-block !important;position: relative;}#sk-container-id-4 div.sk-text-repr-fallback {display: none;}</style><div id=\"sk-container-id-4\" class=\"sk-top-container\"><div class=\"sk-text-repr-fallback\"><pre>DecisionTreeClassifier()</pre><b>In a Jupyter environment, please rerun this cell to show the HTML representation or trust the notebook. <br />On GitHub, the HTML representation is unable to render, please try loading this page with nbviewer.org.</b></div><div class=\"sk-container\" hidden><div class=\"sk-item\"><div class=\"sk-estimator sk-toggleable\"><input class=\"sk-toggleable__control sk-hidden--visually\" id=\"sk-estimator-id-4\" type=\"checkbox\" checked><label for=\"sk-estimator-id-4\" class=\"sk-toggleable__label sk-toggleable__label-arrow\">DecisionTreeClassifier</label><div class=\"sk-toggleable__content\"><pre>DecisionTreeClassifier()</pre></div></div></div></div></div>"
            ],
            "text/plain": [
              "DecisionTreeClassifier()"
            ]
          },
          "execution_count": 37,
          "metadata": {},
          "output_type": "execute_result"
        }
      ],
      "source": [
        "dt_default = DecisionTreeClassifier()\n",
        "dt_default.fit(scaled_pca_train, y_train)"
      ]
    },
    {
      "cell_type": "markdown",
      "metadata": {},
      "source": [
        "## Random Forest"
      ]
    },
    {
      "cell_type": "code",
      "execution_count": 38,
      "metadata": {},
      "outputs": [
        {
          "data": {
            "text/html": [
              "<style>#sk-container-id-5 {color: black;}#sk-container-id-5 pre{padding: 0;}#sk-container-id-5 div.sk-toggleable {background-color: white;}#sk-container-id-5 label.sk-toggleable__label {cursor: pointer;display: block;width: 100%;margin-bottom: 0;padding: 0.3em;box-sizing: border-box;text-align: center;}#sk-container-id-5 label.sk-toggleable__label-arrow:before {content: \"▸\";float: left;margin-right: 0.25em;color: #696969;}#sk-container-id-5 label.sk-toggleable__label-arrow:hover:before {color: black;}#sk-container-id-5 div.sk-estimator:hover label.sk-toggleable__label-arrow:before {color: black;}#sk-container-id-5 div.sk-toggleable__content {max-height: 0;max-width: 0;overflow: hidden;text-align: left;background-color: #f0f8ff;}#sk-container-id-5 div.sk-toggleable__content pre {margin: 0.2em;color: black;border-radius: 0.25em;background-color: #f0f8ff;}#sk-container-id-5 input.sk-toggleable__control:checked~div.sk-toggleable__content {max-height: 200px;max-width: 100%;overflow: auto;}#sk-container-id-5 input.sk-toggleable__control:checked~label.sk-toggleable__label-arrow:before {content: \"▾\";}#sk-container-id-5 div.sk-estimator input.sk-toggleable__control:checked~label.sk-toggleable__label {background-color: #d4ebff;}#sk-container-id-5 div.sk-label input.sk-toggleable__control:checked~label.sk-toggleable__label {background-color: #d4ebff;}#sk-container-id-5 input.sk-hidden--visually {border: 0;clip: rect(1px 1px 1px 1px);clip: rect(1px, 1px, 1px, 1px);height: 1px;margin: -1px;overflow: hidden;padding: 0;position: absolute;width: 1px;}#sk-container-id-5 div.sk-estimator {font-family: monospace;background-color: #f0f8ff;border: 1px dotted black;border-radius: 0.25em;box-sizing: border-box;margin-bottom: 0.5em;}#sk-container-id-5 div.sk-estimator:hover {background-color: #d4ebff;}#sk-container-id-5 div.sk-parallel-item::after {content: \"\";width: 100%;border-bottom: 1px solid gray;flex-grow: 1;}#sk-container-id-5 div.sk-label:hover label.sk-toggleable__label {background-color: #d4ebff;}#sk-container-id-5 div.sk-serial::before {content: \"\";position: absolute;border-left: 1px solid gray;box-sizing: border-box;top: 0;bottom: 0;left: 50%;z-index: 0;}#sk-container-id-5 div.sk-serial {display: flex;flex-direction: column;align-items: center;background-color: white;padding-right: 0.2em;padding-left: 0.2em;position: relative;}#sk-container-id-5 div.sk-item {position: relative;z-index: 1;}#sk-container-id-5 div.sk-parallel {display: flex;align-items: stretch;justify-content: center;background-color: white;position: relative;}#sk-container-id-5 div.sk-item::before, #sk-container-id-5 div.sk-parallel-item::before {content: \"\";position: absolute;border-left: 1px solid gray;box-sizing: border-box;top: 0;bottom: 0;left: 50%;z-index: -1;}#sk-container-id-5 div.sk-parallel-item {display: flex;flex-direction: column;z-index: 1;position: relative;background-color: white;}#sk-container-id-5 div.sk-parallel-item:first-child::after {align-self: flex-end;width: 50%;}#sk-container-id-5 div.sk-parallel-item:last-child::after {align-self: flex-start;width: 50%;}#sk-container-id-5 div.sk-parallel-item:only-child::after {width: 0;}#sk-container-id-5 div.sk-dashed-wrapped {border: 1px dashed gray;margin: 0 0.4em 0.5em 0.4em;box-sizing: border-box;padding-bottom: 0.4em;background-color: white;}#sk-container-id-5 div.sk-label label {font-family: monospace;font-weight: bold;display: inline-block;line-height: 1.2em;}#sk-container-id-5 div.sk-label-container {text-align: center;}#sk-container-id-5 div.sk-container {/* jupyter's `normalize.less` sets `[hidden] { display: none; }` but bootstrap.min.css set `[hidden] { display: none !important; }` so we also need the `!important` here to be able to override the default hidden behavior on the sphinx rendered scikit-learn.org. See: https://github.com/scikit-learn/scikit-learn/issues/21755 */display: inline-block !important;position: relative;}#sk-container-id-5 div.sk-text-repr-fallback {display: none;}</style><div id=\"sk-container-id-5\" class=\"sk-top-container\"><div class=\"sk-text-repr-fallback\"><pre>RandomForestClassifier()</pre><b>In a Jupyter environment, please rerun this cell to show the HTML representation or trust the notebook. <br />On GitHub, the HTML representation is unable to render, please try loading this page with nbviewer.org.</b></div><div class=\"sk-container\" hidden><div class=\"sk-item\"><div class=\"sk-estimator sk-toggleable\"><input class=\"sk-toggleable__control sk-hidden--visually\" id=\"sk-estimator-id-5\" type=\"checkbox\" checked><label for=\"sk-estimator-id-5\" class=\"sk-toggleable__label sk-toggleable__label-arrow\">RandomForestClassifier</label><div class=\"sk-toggleable__content\"><pre>RandomForestClassifier()</pre></div></div></div></div></div>"
            ],
            "text/plain": [
              "RandomForestClassifier()"
            ]
          },
          "execution_count": 38,
          "metadata": {},
          "output_type": "execute_result"
        }
      ],
      "source": [
        "rf_default = RandomForestClassifier()\n",
        "rf_default.fit(scaled_pca_train,y_train)"
      ]
    },
    {
      "cell_type": "markdown",
      "metadata": {},
      "source": [
        "## AdaBoost"
      ]
    },
    {
      "cell_type": "code",
      "execution_count": 39,
      "metadata": {},
      "outputs": [
        {
          "data": {
            "text/html": [
              "<style>#sk-container-id-6 {color: black;}#sk-container-id-6 pre{padding: 0;}#sk-container-id-6 div.sk-toggleable {background-color: white;}#sk-container-id-6 label.sk-toggleable__label {cursor: pointer;display: block;width: 100%;margin-bottom: 0;padding: 0.3em;box-sizing: border-box;text-align: center;}#sk-container-id-6 label.sk-toggleable__label-arrow:before {content: \"▸\";float: left;margin-right: 0.25em;color: #696969;}#sk-container-id-6 label.sk-toggleable__label-arrow:hover:before {color: black;}#sk-container-id-6 div.sk-estimator:hover label.sk-toggleable__label-arrow:before {color: black;}#sk-container-id-6 div.sk-toggleable__content {max-height: 0;max-width: 0;overflow: hidden;text-align: left;background-color: #f0f8ff;}#sk-container-id-6 div.sk-toggleable__content pre {margin: 0.2em;color: black;border-radius: 0.25em;background-color: #f0f8ff;}#sk-container-id-6 input.sk-toggleable__control:checked~div.sk-toggleable__content {max-height: 200px;max-width: 100%;overflow: auto;}#sk-container-id-6 input.sk-toggleable__control:checked~label.sk-toggleable__label-arrow:before {content: \"▾\";}#sk-container-id-6 div.sk-estimator input.sk-toggleable__control:checked~label.sk-toggleable__label {background-color: #d4ebff;}#sk-container-id-6 div.sk-label input.sk-toggleable__control:checked~label.sk-toggleable__label {background-color: #d4ebff;}#sk-container-id-6 input.sk-hidden--visually {border: 0;clip: rect(1px 1px 1px 1px);clip: rect(1px, 1px, 1px, 1px);height: 1px;margin: -1px;overflow: hidden;padding: 0;position: absolute;width: 1px;}#sk-container-id-6 div.sk-estimator {font-family: monospace;background-color: #f0f8ff;border: 1px dotted black;border-radius: 0.25em;box-sizing: border-box;margin-bottom: 0.5em;}#sk-container-id-6 div.sk-estimator:hover {background-color: #d4ebff;}#sk-container-id-6 div.sk-parallel-item::after {content: \"\";width: 100%;border-bottom: 1px solid gray;flex-grow: 1;}#sk-container-id-6 div.sk-label:hover label.sk-toggleable__label {background-color: #d4ebff;}#sk-container-id-6 div.sk-serial::before {content: \"\";position: absolute;border-left: 1px solid gray;box-sizing: border-box;top: 0;bottom: 0;left: 50%;z-index: 0;}#sk-container-id-6 div.sk-serial {display: flex;flex-direction: column;align-items: center;background-color: white;padding-right: 0.2em;padding-left: 0.2em;position: relative;}#sk-container-id-6 div.sk-item {position: relative;z-index: 1;}#sk-container-id-6 div.sk-parallel {display: flex;align-items: stretch;justify-content: center;background-color: white;position: relative;}#sk-container-id-6 div.sk-item::before, #sk-container-id-6 div.sk-parallel-item::before {content: \"\";position: absolute;border-left: 1px solid gray;box-sizing: border-box;top: 0;bottom: 0;left: 50%;z-index: -1;}#sk-container-id-6 div.sk-parallel-item {display: flex;flex-direction: column;z-index: 1;position: relative;background-color: white;}#sk-container-id-6 div.sk-parallel-item:first-child::after {align-self: flex-end;width: 50%;}#sk-container-id-6 div.sk-parallel-item:last-child::after {align-self: flex-start;width: 50%;}#sk-container-id-6 div.sk-parallel-item:only-child::after {width: 0;}#sk-container-id-6 div.sk-dashed-wrapped {border: 1px dashed gray;margin: 0 0.4em 0.5em 0.4em;box-sizing: border-box;padding-bottom: 0.4em;background-color: white;}#sk-container-id-6 div.sk-label label {font-family: monospace;font-weight: bold;display: inline-block;line-height: 1.2em;}#sk-container-id-6 div.sk-label-container {text-align: center;}#sk-container-id-6 div.sk-container {/* jupyter's `normalize.less` sets `[hidden] { display: none; }` but bootstrap.min.css set `[hidden] { display: none !important; }` so we also need the `!important` here to be able to override the default hidden behavior on the sphinx rendered scikit-learn.org. See: https://github.com/scikit-learn/scikit-learn/issues/21755 */display: inline-block !important;position: relative;}#sk-container-id-6 div.sk-text-repr-fallback {display: none;}</style><div id=\"sk-container-id-6\" class=\"sk-top-container\"><div class=\"sk-text-repr-fallback\"><pre>AdaBoostClassifier()</pre><b>In a Jupyter environment, please rerun this cell to show the HTML representation or trust the notebook. <br />On GitHub, the HTML representation is unable to render, please try loading this page with nbviewer.org.</b></div><div class=\"sk-container\" hidden><div class=\"sk-item\"><div class=\"sk-estimator sk-toggleable\"><input class=\"sk-toggleable__control sk-hidden--visually\" id=\"sk-estimator-id-6\" type=\"checkbox\" checked><label for=\"sk-estimator-id-6\" class=\"sk-toggleable__label sk-toggleable__label-arrow\">AdaBoostClassifier</label><div class=\"sk-toggleable__content\"><pre>AdaBoostClassifier()</pre></div></div></div></div></div>"
            ],
            "text/plain": [
              "AdaBoostClassifier()"
            ]
          },
          "execution_count": 39,
          "metadata": {},
          "output_type": "execute_result"
        }
      ],
      "source": [
        "AdaBoost_default = AdaBoostClassifier()\n",
        "AdaBoost_default.fit(scaled_pca_train,y_train)"
      ]
    },
    {
      "cell_type": "markdown",
      "metadata": {},
      "source": [
        "# Baseline model"
      ]
    },
    {
      "cell_type": "code",
      "execution_count": 40,
      "metadata": {},
      "outputs": [],
      "source": [
        "# Save Classification Report into a Dictionary\n",
        "all_reports = {}\n",
        "\n",
        "# Membuat fungsi untuk melihat performa report dari masing-masing model\n",
        "def performance_report(all_reports, y_train, y_pred_train, y_test, y_pred_test, name):\n",
        "  score_reports = {\n",
        "      'train - precision' : precision_score(y_train, y_pred_train),\n",
        "      'train - recall' : recall_score(y_train, y_pred_train),\n",
        "      'train - accuracy' : accuracy_score(y_train, y_pred_train),\n",
        "      'train - f1_score' : f1_score(y_train, y_pred_train),\n",
        "      'test - precision' : precision_score(y_test, y_pred_test),\n",
        "      'test - recall' : recall_score(y_test, y_pred_test),\n",
        "      'test - accuracy_score' : accuracy_score(y_test, y_pred_test),\n",
        "      'test - f1_score' : f1_score(y_test, y_pred_test)\n",
        "  }\n",
        "  all_reports[name] = score_reports\n",
        "  return all_reports"
      ]
    },
    {
      "cell_type": "markdown",
      "metadata": {},
      "source": [
        "## KNN"
      ]
    },
    {
      "cell_type": "code",
      "execution_count": 41,
      "metadata": {},
      "outputs": [],
      "source": [
        "y_train_predict_knn_default = knn_default.predict(scaled_pca_train)\n",
        "y_test_predict_knn_default = knn_default.predict(scaled_pca_test)"
      ]
    },
    {
      "cell_type": "code",
      "execution_count": 42,
      "metadata": {},
      "outputs": [
        {
          "name": "stdout",
          "output_type": "stream",
          "text": [
            "------Clasification Report KNN Train-------\n",
            "              precision    recall  f1-score   support\n",
            "\n",
            "           0       0.99      0.98      0.98       285\n",
            "           1       0.98      0.99      0.98       285\n",
            "\n",
            "    accuracy                           0.98       570\n",
            "   macro avg       0.98      0.98      0.98       570\n",
            "weighted avg       0.98      0.98      0.98       570\n",
            "\n",
            "\n",
            "------Clasification Report KNN Test-------\n",
            "              precision    recall  f1-score   support\n",
            "\n",
            "           0       0.95      0.86      0.91        72\n",
            "           1       0.80      0.93      0.86        42\n",
            "\n",
            "    accuracy                           0.89       114\n",
            "   macro avg       0.87      0.89      0.88       114\n",
            "weighted avg       0.90      0.89      0.89       114\n",
            "\n"
          ]
        }
      ],
      "source": [
        "print('------Clasification Report KNN Train-------')\n",
        "print(classification_report(y_train,y_train_predict_knn_default))\n",
        "\n",
        "print('')\n",
        "print('------Clasification Report KNN Test-------')\n",
        "print(classification_report(y_test,y_test_predict_knn_default))\n"
      ]
    },
    {
      "cell_type": "code",
      "execution_count": 43,
      "metadata": {},
      "outputs": [
        {
          "data": {
            "text/html": [
              "<div>\n",
              "<style scoped>\n",
              "    .dataframe tbody tr th:only-of-type {\n",
              "        vertical-align: middle;\n",
              "    }\n",
              "\n",
              "    .dataframe tbody tr th {\n",
              "        vertical-align: top;\n",
              "    }\n",
              "\n",
              "    .dataframe thead th {\n",
              "        text-align: right;\n",
              "    }\n",
              "</style>\n",
              "<table border=\"1\" class=\"dataframe\">\n",
              "  <thead>\n",
              "    <tr style=\"text-align: right;\">\n",
              "      <th></th>\n",
              "      <th>Baseline KNN (Default Hyperparameter)</th>\n",
              "    </tr>\n",
              "  </thead>\n",
              "  <tbody>\n",
              "    <tr>\n",
              "      <th>test - accuracy_score</th>\n",
              "      <td>0.885965</td>\n",
              "    </tr>\n",
              "    <tr>\n",
              "      <th>test - f1_score</th>\n",
              "      <td>0.857143</td>\n",
              "    </tr>\n",
              "    <tr>\n",
              "      <th>test - precision</th>\n",
              "      <td>0.795918</td>\n",
              "    </tr>\n",
              "    <tr>\n",
              "      <th>test - recall</th>\n",
              "      <td>0.928571</td>\n",
              "    </tr>\n",
              "    <tr>\n",
              "      <th>train - accuracy</th>\n",
              "      <td>0.984211</td>\n",
              "    </tr>\n",
              "    <tr>\n",
              "      <th>train - f1_score</th>\n",
              "      <td>0.984238</td>\n",
              "    </tr>\n",
              "    <tr>\n",
              "      <th>train - precision</th>\n",
              "      <td>0.982517</td>\n",
              "    </tr>\n",
              "    <tr>\n",
              "      <th>train - recall</th>\n",
              "      <td>0.985965</td>\n",
              "    </tr>\n",
              "  </tbody>\n",
              "</table>\n",
              "</div>"
            ],
            "text/plain": [
              "                       Baseline KNN (Default Hyperparameter)\n",
              "test - accuracy_score                               0.885965\n",
              "test - f1_score                                     0.857143\n",
              "test - precision                                    0.795918\n",
              "test - recall                                       0.928571\n",
              "train - accuracy                                    0.984211\n",
              "train - f1_score                                    0.984238\n",
              "train - precision                                   0.982517\n",
              "train - recall                                      0.985965"
            ]
          },
          "execution_count": 43,
          "metadata": {},
          "output_type": "execute_result"
        }
      ],
      "source": [
        "\n",
        "all_reports = performance_report(all_reports, y_train, y_train_predict_knn_default, y_test, y_test_predict_knn_default, 'Baseline KNN (Default Hyperparameter)')\n",
        "pd.DataFrame(all_reports)"
      ]
    },
    {
      "cell_type": "markdown",
      "metadata": {},
      "source": [
        "## SVM"
      ]
    },
    {
      "cell_type": "code",
      "execution_count": 44,
      "metadata": {},
      "outputs": [],
      "source": [
        "y_train_predict_svm_default = svm_default.predict(scaled_pca_train)\n",
        "y_test_predict_svm_default = svm_default.predict(scaled_pca_test)"
      ]
    },
    {
      "cell_type": "code",
      "execution_count": 45,
      "metadata": {},
      "outputs": [
        {
          "name": "stdout",
          "output_type": "stream",
          "text": [
            "------Clasification Report svm Train-------\n",
            "              precision    recall  f1-score   support\n",
            "\n",
            "           0       0.97      0.99      0.98       285\n",
            "           1       0.99      0.97      0.98       285\n",
            "\n",
            "    accuracy                           0.98       570\n",
            "   macro avg       0.98      0.98      0.98       570\n",
            "weighted avg       0.98      0.98      0.98       570\n",
            "\n",
            "\n",
            "------Clasification Report svm Test-------\n",
            "              precision    recall  f1-score   support\n",
            "\n",
            "           0       0.96      0.89      0.92        72\n",
            "           1       0.83      0.93      0.88        42\n",
            "\n",
            "    accuracy                           0.90       114\n",
            "   macro avg       0.89      0.91      0.90       114\n",
            "weighted avg       0.91      0.90      0.90       114\n",
            "\n"
          ]
        }
      ],
      "source": [
        "print('------Clasification Report svm Train-------')\n",
        "print(classification_report(y_train,y_train_predict_svm_default))\n",
        "\n",
        "print('')\n",
        "print('------Clasification Report svm Test-------')\n",
        "print(classification_report(y_test,y_test_predict_svm_default))"
      ]
    },
    {
      "cell_type": "code",
      "execution_count": 46,
      "metadata": {},
      "outputs": [
        {
          "data": {
            "text/html": [
              "<div>\n",
              "<style scoped>\n",
              "    .dataframe tbody tr th:only-of-type {\n",
              "        vertical-align: middle;\n",
              "    }\n",
              "\n",
              "    .dataframe tbody tr th {\n",
              "        vertical-align: top;\n",
              "    }\n",
              "\n",
              "    .dataframe thead th {\n",
              "        text-align: right;\n",
              "    }\n",
              "</style>\n",
              "<table border=\"1\" class=\"dataframe\">\n",
              "  <thead>\n",
              "    <tr style=\"text-align: right;\">\n",
              "      <th></th>\n",
              "      <th>Baseline KNN (Default Hyperparameter)</th>\n",
              "      <th>Baseline SVM (Default Hyperparameter)</th>\n",
              "    </tr>\n",
              "  </thead>\n",
              "  <tbody>\n",
              "    <tr>\n",
              "      <th>train - precision</th>\n",
              "      <td>0.982517</td>\n",
              "      <td>0.985765</td>\n",
              "    </tr>\n",
              "    <tr>\n",
              "      <th>train - recall</th>\n",
              "      <td>0.985965</td>\n",
              "      <td>0.971930</td>\n",
              "    </tr>\n",
              "    <tr>\n",
              "      <th>train - accuracy</th>\n",
              "      <td>0.984211</td>\n",
              "      <td>0.978947</td>\n",
              "    </tr>\n",
              "    <tr>\n",
              "      <th>train - f1_score</th>\n",
              "      <td>0.984238</td>\n",
              "      <td>0.978799</td>\n",
              "    </tr>\n",
              "    <tr>\n",
              "      <th>test - precision</th>\n",
              "      <td>0.795918</td>\n",
              "      <td>0.829787</td>\n",
              "    </tr>\n",
              "    <tr>\n",
              "      <th>test - recall</th>\n",
              "      <td>0.928571</td>\n",
              "      <td>0.928571</td>\n",
              "    </tr>\n",
              "    <tr>\n",
              "      <th>test - accuracy_score</th>\n",
              "      <td>0.885965</td>\n",
              "      <td>0.903509</td>\n",
              "    </tr>\n",
              "    <tr>\n",
              "      <th>test - f1_score</th>\n",
              "      <td>0.857143</td>\n",
              "      <td>0.876404</td>\n",
              "    </tr>\n",
              "  </tbody>\n",
              "</table>\n",
              "</div>"
            ],
            "text/plain": [
              "                       Baseline KNN (Default Hyperparameter)  \\\n",
              "train - precision                                   0.982517   \n",
              "train - recall                                      0.985965   \n",
              "train - accuracy                                    0.984211   \n",
              "train - f1_score                                    0.984238   \n",
              "test - precision                                    0.795918   \n",
              "test - recall                                       0.928571   \n",
              "test - accuracy_score                               0.885965   \n",
              "test - f1_score                                     0.857143   \n",
              "\n",
              "                       Baseline SVM (Default Hyperparameter)  \n",
              "train - precision                                   0.985765  \n",
              "train - recall                                      0.971930  \n",
              "train - accuracy                                    0.978947  \n",
              "train - f1_score                                    0.978799  \n",
              "test - precision                                    0.829787  \n",
              "test - recall                                       0.928571  \n",
              "test - accuracy_score                               0.903509  \n",
              "test - f1_score                                     0.876404  "
            ]
          },
          "execution_count": 46,
          "metadata": {},
          "output_type": "execute_result"
        }
      ],
      "source": [
        "\n",
        "all_reports = performance_report(all_reports, y_train, y_train_predict_svm_default, y_test, y_test_predict_svm_default, 'Baseline SVM (Default Hyperparameter)')\n",
        "pd.DataFrame(all_reports)"
      ]
    },
    {
      "cell_type": "markdown",
      "metadata": {},
      "source": [
        "## Decision Tree"
      ]
    },
    {
      "cell_type": "code",
      "execution_count": 47,
      "metadata": {},
      "outputs": [],
      "source": [
        "y_train_predict_dt_default = dt_default.predict(scaled_pca_train)\n",
        "y_test_predict_dt_default = dt_default.predict(scaled_pca_test)"
      ]
    },
    {
      "cell_type": "code",
      "execution_count": 48,
      "metadata": {},
      "outputs": [
        {
          "name": "stdout",
          "output_type": "stream",
          "text": [
            "------Clasification Report dt Train-------\n",
            "              precision    recall  f1-score   support\n",
            "\n",
            "           0       1.00      1.00      1.00       285\n",
            "           1       1.00      1.00      1.00       285\n",
            "\n",
            "    accuracy                           1.00       570\n",
            "   macro avg       1.00      1.00      1.00       570\n",
            "weighted avg       1.00      1.00      1.00       570\n",
            "\n",
            "\n",
            "------Clasification Report dt Test-------\n",
            "              precision    recall  f1-score   support\n",
            "\n",
            "           0       0.94      0.85      0.89        72\n",
            "           1       0.78      0.90      0.84        42\n",
            "\n",
            "    accuracy                           0.87       114\n",
            "   macro avg       0.86      0.88      0.86       114\n",
            "weighted avg       0.88      0.87      0.87       114\n",
            "\n"
          ]
        }
      ],
      "source": [
        "print('------Clasification Report dt Train-------')\n",
        "print(classification_report(y_train,y_train_predict_dt_default))\n",
        "\n",
        "print('')\n",
        "print('------Clasification Report dt Test-------')\n",
        "print(classification_report(y_test,y_test_predict_dt_default))"
      ]
    },
    {
      "cell_type": "code",
      "execution_count": 49,
      "metadata": {},
      "outputs": [
        {
          "data": {
            "text/html": [
              "<div>\n",
              "<style scoped>\n",
              "    .dataframe tbody tr th:only-of-type {\n",
              "        vertical-align: middle;\n",
              "    }\n",
              "\n",
              "    .dataframe tbody tr th {\n",
              "        vertical-align: top;\n",
              "    }\n",
              "\n",
              "    .dataframe thead th {\n",
              "        text-align: right;\n",
              "    }\n",
              "</style>\n",
              "<table border=\"1\" class=\"dataframe\">\n",
              "  <thead>\n",
              "    <tr style=\"text-align: right;\">\n",
              "      <th></th>\n",
              "      <th>Baseline KNN (Default Hyperparameter)</th>\n",
              "      <th>Baseline SVM (Default Hyperparameter)</th>\n",
              "      <th>Baseline Decision Tree (Default Hyperparameter)</th>\n",
              "    </tr>\n",
              "  </thead>\n",
              "  <tbody>\n",
              "    <tr>\n",
              "      <th>train - precision</th>\n",
              "      <td>0.982517</td>\n",
              "      <td>0.985765</td>\n",
              "      <td>1.000000</td>\n",
              "    </tr>\n",
              "    <tr>\n",
              "      <th>train - recall</th>\n",
              "      <td>0.985965</td>\n",
              "      <td>0.971930</td>\n",
              "      <td>1.000000</td>\n",
              "    </tr>\n",
              "    <tr>\n",
              "      <th>train - accuracy</th>\n",
              "      <td>0.984211</td>\n",
              "      <td>0.978947</td>\n",
              "      <td>1.000000</td>\n",
              "    </tr>\n",
              "    <tr>\n",
              "      <th>train - f1_score</th>\n",
              "      <td>0.984238</td>\n",
              "      <td>0.978799</td>\n",
              "      <td>1.000000</td>\n",
              "    </tr>\n",
              "    <tr>\n",
              "      <th>test - precision</th>\n",
              "      <td>0.795918</td>\n",
              "      <td>0.829787</td>\n",
              "      <td>0.775510</td>\n",
              "    </tr>\n",
              "    <tr>\n",
              "      <th>test - recall</th>\n",
              "      <td>0.928571</td>\n",
              "      <td>0.928571</td>\n",
              "      <td>0.904762</td>\n",
              "    </tr>\n",
              "    <tr>\n",
              "      <th>test - accuracy_score</th>\n",
              "      <td>0.885965</td>\n",
              "      <td>0.903509</td>\n",
              "      <td>0.868421</td>\n",
              "    </tr>\n",
              "    <tr>\n",
              "      <th>test - f1_score</th>\n",
              "      <td>0.857143</td>\n",
              "      <td>0.876404</td>\n",
              "      <td>0.835165</td>\n",
              "    </tr>\n",
              "  </tbody>\n",
              "</table>\n",
              "</div>"
            ],
            "text/plain": [
              "                       Baseline KNN (Default Hyperparameter)  \\\n",
              "train - precision                                   0.982517   \n",
              "train - recall                                      0.985965   \n",
              "train - accuracy                                    0.984211   \n",
              "train - f1_score                                    0.984238   \n",
              "test - precision                                    0.795918   \n",
              "test - recall                                       0.928571   \n",
              "test - accuracy_score                               0.885965   \n",
              "test - f1_score                                     0.857143   \n",
              "\n",
              "                       Baseline SVM (Default Hyperparameter)  \\\n",
              "train - precision                                   0.985765   \n",
              "train - recall                                      0.971930   \n",
              "train - accuracy                                    0.978947   \n",
              "train - f1_score                                    0.978799   \n",
              "test - precision                                    0.829787   \n",
              "test - recall                                       0.928571   \n",
              "test - accuracy_score                               0.903509   \n",
              "test - f1_score                                     0.876404   \n",
              "\n",
              "                       Baseline Decision Tree (Default Hyperparameter)  \n",
              "train - precision                                             1.000000  \n",
              "train - recall                                                1.000000  \n",
              "train - accuracy                                              1.000000  \n",
              "train - f1_score                                              1.000000  \n",
              "test - precision                                              0.775510  \n",
              "test - recall                                                 0.904762  \n",
              "test - accuracy_score                                         0.868421  \n",
              "test - f1_score                                               0.835165  "
            ]
          },
          "execution_count": 49,
          "metadata": {},
          "output_type": "execute_result"
        }
      ],
      "source": [
        "\n",
        "all_reports = performance_report(all_reports, y_train, y_train_predict_dt_default, y_test, y_test_predict_dt_default, 'Baseline Decision Tree (Default Hyperparameter)')\n",
        "pd.DataFrame(all_reports)"
      ]
    },
    {
      "cell_type": "markdown",
      "metadata": {},
      "source": [
        "## Random Forest"
      ]
    },
    {
      "cell_type": "code",
      "execution_count": 50,
      "metadata": {},
      "outputs": [],
      "source": [
        "y_train_predict_rf_default = rf_default.predict(scaled_pca_train)\n",
        "y_test_predict_rf_default = rf_default.predict(scaled_pca_test)"
      ]
    },
    {
      "cell_type": "code",
      "execution_count": 51,
      "metadata": {},
      "outputs": [
        {
          "name": "stdout",
          "output_type": "stream",
          "text": [
            "------Clasification Report rf Train-------\n",
            "              precision    recall  f1-score   support\n",
            "\n",
            "           0       1.00      1.00      1.00       285\n",
            "           1       1.00      1.00      1.00       285\n",
            "\n",
            "    accuracy                           1.00       570\n",
            "   macro avg       1.00      1.00      1.00       570\n",
            "weighted avg       1.00      1.00      1.00       570\n",
            "\n",
            "\n",
            "------Clasification Report rf Test-------\n",
            "              precision    recall  f1-score   support\n",
            "\n",
            "           0       0.95      0.88      0.91        72\n",
            "           1       0.81      0.93      0.87        42\n",
            "\n",
            "    accuracy                           0.89       114\n",
            "   macro avg       0.88      0.90      0.89       114\n",
            "weighted avg       0.90      0.89      0.90       114\n",
            "\n"
          ]
        }
      ],
      "source": [
        "print('------Clasification Report rf Train-------')\n",
        "print(classification_report(y_train,y_train_predict_rf_default))\n",
        "\n",
        "print('')\n",
        "print('------Clasification Report rf Test-------')\n",
        "print(classification_report(y_test,y_test_predict_rf_default))"
      ]
    },
    {
      "cell_type": "code",
      "execution_count": 52,
      "metadata": {},
      "outputs": [
        {
          "data": {
            "text/plain": [
              "<sklearn.metrics._plot.confusion_matrix.ConfusionMatrixDisplay at 0x28e5d751b20>"
            ]
          },
          "execution_count": 52,
          "metadata": {},
          "output_type": "execute_result"
        },
        {
          "data": {
            "image/png": "[encoded data removed]",
            "text/plain": [
              "<Figure size 640x480 with 2 Axes>"
            ]
          },
          "metadata": {},
          "output_type": "display_data"
        }
      ],
      "source": [
        "# Melihat plot ConfusionMatrix data test\n",
        "cm_test_rf_df = confusion_matrix(y_train, y_train_predict_rf_default)\n",
        "ConfusionMatrixDisplay(cm_test_rf_df).plot()"
      ]
    },
    {
      "cell_type": "code",
      "execution_count": 53,
      "metadata": {},
      "outputs": [
        {
          "data": {
            "text/plain": [
              "<sklearn.metrics._plot.confusion_matrix.ConfusionMatrixDisplay at 0x28e5cff8400>"
            ]
          },
          "execution_count": 53,
          "metadata": {},
          "output_type": "execute_result"
        },
        {
          "data": {
            "image/png": "[encoded data removed]",
            "text/plain": [
              "<Figure size 640x480 with 2 Axes>"
            ]
          },
          "metadata": {},
          "output_type": "display_data"
        }
      ],
      "source": [
        "# Melihat plot ConfusionMatrix data test\n",
        "cm_test_rf_df = confusion_matrix(y_test, y_test_predict_rf_default)\n",
        "ConfusionMatrixDisplay(cm_test_rf_df).plot()"
      ]
    },
    {
      "cell_type": "code",
      "execution_count": 54,
      "metadata": {},
      "outputs": [
        {
          "data": {
            "text/html": [
              "<div>\n",
              "<style scoped>\n",
              "    .dataframe tbody tr th:only-of-type {\n",
              "        vertical-align: middle;\n",
              "    }\n",
              "\n",
              "    .dataframe tbody tr th {\n",
              "        vertical-align: top;\n",
              "    }\n",
              "\n",
              "    .dataframe thead th {\n",
              "        text-align: right;\n",
              "    }\n",
              "</style>\n",
              "<table border=\"1\" class=\"dataframe\">\n",
              "  <thead>\n",
              "    <tr style=\"text-align: right;\">\n",
              "      <th></th>\n",
              "      <th>Baseline KNN (Default Hyperparameter)</th>\n",
              "      <th>Baseline SVM (Default Hyperparameter)</th>\n",
              "      <th>Baseline Decision Tree (Default Hyperparameter)</th>\n",
              "      <th>Baseline Random Forrest (Default Hyperparameter)</th>\n",
              "    </tr>\n",
              "  </thead>\n",
              "  <tbody>\n",
              "    <tr>\n",
              "      <th>train - precision</th>\n",
              "      <td>0.982517</td>\n",
              "      <td>0.985765</td>\n",
              "      <td>1.000000</td>\n",
              "      <td>1.000000</td>\n",
              "    </tr>\n",
              "    <tr>\n",
              "      <th>train - recall</th>\n",
              "      <td>0.985965</td>\n",
              "      <td>0.971930</td>\n",
              "      <td>1.000000</td>\n",
              "      <td>1.000000</td>\n",
              "    </tr>\n",
              "    <tr>\n",
              "      <th>train - accuracy</th>\n",
              "      <td>0.984211</td>\n",
              "      <td>0.978947</td>\n",
              "      <td>1.000000</td>\n",
              "      <td>1.000000</td>\n",
              "    </tr>\n",
              "    <tr>\n",
              "      <th>train - f1_score</th>\n",
              "      <td>0.984238</td>\n",
              "      <td>0.978799</td>\n",
              "      <td>1.000000</td>\n",
              "      <td>1.000000</td>\n",
              "    </tr>\n",
              "    <tr>\n",
              "      <th>test - precision</th>\n",
              "      <td>0.795918</td>\n",
              "      <td>0.829787</td>\n",
              "      <td>0.775510</td>\n",
              "      <td>0.812500</td>\n",
              "    </tr>\n",
              "    <tr>\n",
              "      <th>test - recall</th>\n",
              "      <td>0.928571</td>\n",
              "      <td>0.928571</td>\n",
              "      <td>0.904762</td>\n",
              "      <td>0.928571</td>\n",
              "    </tr>\n",
              "    <tr>\n",
              "      <th>test - accuracy_score</th>\n",
              "      <td>0.885965</td>\n",
              "      <td>0.903509</td>\n",
              "      <td>0.868421</td>\n",
              "      <td>0.894737</td>\n",
              "    </tr>\n",
              "    <tr>\n",
              "      <th>test - f1_score</th>\n",
              "      <td>0.857143</td>\n",
              "      <td>0.876404</td>\n",
              "      <td>0.835165</td>\n",
              "      <td>0.866667</td>\n",
              "    </tr>\n",
              "  </tbody>\n",
              "</table>\n",
              "</div>"
            ],
            "text/plain": [
              "                       Baseline KNN (Default Hyperparameter)  \\\n",
              "train - precision                                   0.982517   \n",
              "train - recall                                      0.985965   \n",
              "train - accuracy                                    0.984211   \n",
              "train - f1_score                                    0.984238   \n",
              "test - precision                                    0.795918   \n",
              "test - recall                                       0.928571   \n",
              "test - accuracy_score                               0.885965   \n",
              "test - f1_score                                     0.857143   \n",
              "\n",
              "                       Baseline SVM (Default Hyperparameter)  \\\n",
              "train - precision                                   0.985765   \n",
              "train - recall                                      0.971930   \n",
              "train - accuracy                                    0.978947   \n",
              "train - f1_score                                    0.978799   \n",
              "test - precision                                    0.829787   \n",
              "test - recall                                       0.928571   \n",
              "test - accuracy_score                               0.903509   \n",
              "test - f1_score                                     0.876404   \n",
              "\n",
              "                       Baseline Decision Tree (Default Hyperparameter)  \\\n",
              "train - precision                                             1.000000   \n",
              "train - recall                                                1.000000   \n",
              "train - accuracy                                              1.000000   \n",
              "train - f1_score                                              1.000000   \n",
              "test - precision                                              0.775510   \n",
              "test - recall                                                 0.904762   \n",
              "test - accuracy_score                                         0.868421   \n",
              "test - f1_score                                               0.835165   \n",
              "\n",
              "                       Baseline Random Forrest (Default Hyperparameter)  \n",
              "train - precision                                              1.000000  \n",
              "train - recall                                                 1.000000  \n",
              "train - accuracy                                               1.000000  \n",
              "train - f1_score                                               1.000000  \n",
              "test - precision                                               0.812500  \n",
              "test - recall                                                  0.928571  \n",
              "test - accuracy_score                                          0.894737  \n",
              "test - f1_score                                                0.866667  "
            ]
          },
          "execution_count": 54,
          "metadata": {},
          "output_type": "execute_result"
        }
      ],
      "source": [
        "\n",
        "all_reports = performance_report(all_reports, y_train, y_train_predict_rf_default, y_test, y_test_predict_rf_default, 'Baseline Random Forrest (Default Hyperparameter)')\n",
        "pd.DataFrame(all_reports)"
      ]
    },
    {
      "cell_type": "markdown",
      "metadata": {},
      "source": [
        "## AdaBoost"
      ]
    },
    {
      "cell_type": "code",
      "execution_count": 55,
      "metadata": {},
      "outputs": [],
      "source": [
        "y_train_predict_AdaBoost_default = AdaBoost_default.predict(scaled_pca_train)\n",
        "y_test_predict_AdaBoost_default = AdaBoost_default.predict(scaled_pca_test)"
      ]
    },
    {
      "cell_type": "code",
      "execution_count": 56,
      "metadata": {},
      "outputs": [
        {
          "name": "stdout",
          "output_type": "stream",
          "text": [
            "------Clasification Report rf Train-------\n",
            "              precision    recall  f1-score   support\n",
            "\n",
            "           0       1.00      1.00      1.00       285\n",
            "           1       1.00      1.00      1.00       285\n",
            "\n",
            "    accuracy                           1.00       570\n",
            "   macro avg       1.00      1.00      1.00       570\n",
            "weighted avg       1.00      1.00      1.00       570\n",
            "\n",
            "\n",
            "------Clasification Report rf Test-------\n",
            "              precision    recall  f1-score   support\n",
            "\n",
            "           0       0.96      0.92      0.94        72\n",
            "           1       0.87      0.93      0.90        42\n",
            "\n",
            "    accuracy                           0.92       114\n",
            "   macro avg       0.91      0.92      0.92       114\n",
            "weighted avg       0.92      0.92      0.92       114\n",
            "\n"
          ]
        }
      ],
      "source": [
        "print('------Clasification Report rf Train-------')\n",
        "print(classification_report(y_train,y_train_predict_AdaBoost_default))\n",
        "\n",
        "print('')\n",
        "print('------Clasification Report rf Test-------')\n",
        "print(classification_report(y_test,y_test_predict_AdaBoost_default))"
      ]
    },
    {
      "cell_type": "code",
      "execution_count": 57,
      "metadata": {},
      "outputs": [
        {
          "data": {
            "text/html": [
              "<div>\n",
              "<style scoped>\n",
              "    .dataframe tbody tr th:only-of-type {\n",
              "        vertical-align: middle;\n",
              "    }\n",
              "\n",
              "    .dataframe tbody tr th {\n",
              "        vertical-align: top;\n",
              "    }\n",
              "\n",
              "    .dataframe thead th {\n",
              "        text-align: right;\n",
              "    }\n",
              "</style>\n",
              "<table border=\"1\" class=\"dataframe\">\n",
              "  <thead>\n",
              "    <tr style=\"text-align: right;\">\n",
              "      <th></th>\n",
              "      <th>Baseline KNN (Default Hyperparameter)</th>\n",
              "      <th>Baseline SVM (Default Hyperparameter)</th>\n",
              "      <th>Baseline Decision Tree (Default Hyperparameter)</th>\n",
              "      <th>Baseline Random Forrest (Default Hyperparameter)</th>\n",
              "      <th>Baseline AdaBoost (Default Hyperparameter)</th>\n",
              "    </tr>\n",
              "  </thead>\n",
              "  <tbody>\n",
              "    <tr>\n",
              "      <th>train - precision</th>\n",
              "      <td>0.982517</td>\n",
              "      <td>0.985765</td>\n",
              "      <td>1.000000</td>\n",
              "      <td>1.000000</td>\n",
              "      <td>1.000000</td>\n",
              "    </tr>\n",
              "    <tr>\n",
              "      <th>train - recall</th>\n",
              "      <td>0.985965</td>\n",
              "      <td>0.971930</td>\n",
              "      <td>1.000000</td>\n",
              "      <td>1.000000</td>\n",
              "      <td>1.000000</td>\n",
              "    </tr>\n",
              "    <tr>\n",
              "      <th>train - accuracy</th>\n",
              "      <td>0.984211</td>\n",
              "      <td>0.978947</td>\n",
              "      <td>1.000000</td>\n",
              "      <td>1.000000</td>\n",
              "      <td>1.000000</td>\n",
              "    </tr>\n",
              "    <tr>\n",
              "      <th>train - f1_score</th>\n",
              "      <td>0.984238</td>\n",
              "      <td>0.978799</td>\n",
              "      <td>1.000000</td>\n",
              "      <td>1.000000</td>\n",
              "      <td>1.000000</td>\n",
              "    </tr>\n",
              "    <tr>\n",
              "      <th>test - precision</th>\n",
              "      <td>0.795918</td>\n",
              "      <td>0.829787</td>\n",
              "      <td>0.775510</td>\n",
              "      <td>0.812500</td>\n",
              "      <td>0.866667</td>\n",
              "    </tr>\n",
              "    <tr>\n",
              "      <th>test - recall</th>\n",
              "      <td>0.928571</td>\n",
              "      <td>0.928571</td>\n",
              "      <td>0.904762</td>\n",
              "      <td>0.928571</td>\n",
              "      <td>0.928571</td>\n",
              "    </tr>\n",
              "    <tr>\n",
              "      <th>test - accuracy_score</th>\n",
              "      <td>0.885965</td>\n",
              "      <td>0.903509</td>\n",
              "      <td>0.868421</td>\n",
              "      <td>0.894737</td>\n",
              "      <td>0.921053</td>\n",
              "    </tr>\n",
              "    <tr>\n",
              "      <th>test - f1_score</th>\n",
              "      <td>0.857143</td>\n",
              "      <td>0.876404</td>\n",
              "      <td>0.835165</td>\n",
              "      <td>0.866667</td>\n",
              "      <td>0.896552</td>\n",
              "    </tr>\n",
              "  </tbody>\n",
              "</table>\n",
              "</div>"
            ],
            "text/plain": [
              "                       Baseline KNN (Default Hyperparameter)  \\\n",
              "train - precision                                   0.982517   \n",
              "train - recall                                      0.985965   \n",
              "train - accuracy                                    0.984211   \n",
              "train - f1_score                                    0.984238   \n",
              "test - precision                                    0.795918   \n",
              "test - recall                                       0.928571   \n",
              "test - accuracy_score                               0.885965   \n",
              "test - f1_score                                     0.857143   \n",
              "\n",
              "                       Baseline SVM (Default Hyperparameter)  \\\n",
              "train - precision                                   0.985765   \n",
              "train - recall                                      0.971930   \n",
              "train - accuracy                                    0.978947   \n",
              "train - f1_score                                    0.978799   \n",
              "test - precision                                    0.829787   \n",
              "test - recall                                       0.928571   \n",
              "test - accuracy_score                               0.903509   \n",
              "test - f1_score                                     0.876404   \n",
              "\n",
              "                       Baseline Decision Tree (Default Hyperparameter)  \\\n",
              "train - precision                                             1.000000   \n",
              "train - recall                                                1.000000   \n",
              "train - accuracy                                              1.000000   \n",
              "train - f1_score                                              1.000000   \n",
              "test - precision                                              0.775510   \n",
              "test - recall                                                 0.904762   \n",
              "test - accuracy_score                                         0.868421   \n",
              "test - f1_score                                               0.835165   \n",
              "\n",
              "                       Baseline Random Forrest (Default Hyperparameter)  \\\n",
              "train - precision                                              1.000000   \n",
              "train - recall                                                 1.000000   \n",
              "train - accuracy                                               1.000000   \n",
              "train - f1_score                                               1.000000   \n",
              "test - precision                                               0.812500   \n",
              "test - recall                                                  0.928571   \n",
              "test - accuracy_score                                          0.894737   \n",
              "test - f1_score                                                0.866667   \n",
              "\n",
              "                       Baseline AdaBoost (Default Hyperparameter)  \n",
              "train - precision                                        1.000000  \n",
              "train - recall                                           1.000000  \n",
              "train - accuracy                                         1.000000  \n",
              "train - f1_score                                         1.000000  \n",
              "test - precision                                         0.866667  \n",
              "test - recall                                            0.928571  \n",
              "test - accuracy_score                                    0.921053  \n",
              "test - f1_score                                          0.896552  "
            ]
          },
          "execution_count": 57,
          "metadata": {},
          "output_type": "execute_result"
        }
      ],
      "source": [
        "\n",
        "all_reports = performance_report(all_reports, y_train, y_train_predict_AdaBoost_default, y_test, y_test_predict_AdaBoost_default, 'Baseline AdaBoost (Default Hyperparameter)')\n",
        "pd.DataFrame(all_reports)"
      ]
    },
    {
      "cell_type": "markdown",
      "metadata": {},
      "source": [
        "# Cross Validation "
      ]
    },
    {
      "cell_type": "code",
      "execution_count": 58,
      "metadata": {},
      "outputs": [],
      "source": [
        "def cross_val (model):\n",
        "\n",
        "    recall_train_cross_val = cross_val_score(model,\n",
        "                                        scaled_pca_train,\n",
        "                                        y_train,\n",
        "                                        cv=5,\n",
        "                                        scoring=\"recall\")\n",
        "\n",
        "    print('----Cross Validation',model,'---- ')\n",
        "    print('recall Score - All - Cross Validation  : ', recall_train_cross_val)\n",
        "    print('recall Score - Mean - Cross Validation : ', recall_train_cross_val.mean())\n",
        "    print('recall Score - Std - Cross Validation  : ', recall_train_cross_val.std())\n",
        "    print('recall Score - Range of Test-Set       : ', (recall_train_cross_val.mean()-recall_train_cross_val.std()) , '-', (recall_train_cross_val.mean()+recall_train_cross_val.std()))"
      ]
    },
    {
      "cell_type": "code",
      "execution_count": 59,
      "metadata": {},
      "outputs": [
        {
          "name": "stdout",
          "output_type": "stream",
          "text": [
            "----Cross Validation KNeighborsClassifier() ---- \n",
            "recall Score - All - Cross Validation  :  [0.96491228 0.98245614 0.98245614 1.         0.98245614]\n",
            "recall Score - Mean - Cross Validation :  0.982456140350877\n",
            "recall Score - Std - Cross Validation  :  0.011095711088310103\n",
            "recall Score - Range of Test-Set       :  0.9713604292625669 - 0.9935518514391871\n"
          ]
        }
      ],
      "source": [
        "cross_val(knn_default)"
      ]
    },
    {
      "cell_type": "code",
      "execution_count": 60,
      "metadata": {},
      "outputs": [
        {
          "name": "stdout",
          "output_type": "stream",
          "text": [
            "----Cross Validation SVC(probability=True, random_state=7) ---- \n",
            "recall Score - All - Cross Validation  :  [0.98245614 0.96491228 0.9122807  0.98245614 0.96491228]\n",
            "recall Score - Mean - Cross Validation :  0.9614035087719298\n",
            "recall Score - Std - Cross Validation  :  0.025784102555612403\n",
            "recall Score - Range of Test-Set       :  0.9356194062163175 - 0.9871876113275422\n"
          ]
        }
      ],
      "source": [
        "cross_val(svm_default)"
      ]
    },
    {
      "cell_type": "code",
      "execution_count": 61,
      "metadata": {},
      "outputs": [
        {
          "name": "stdout",
          "output_type": "stream",
          "text": [
            "----Cross Validation DecisionTreeClassifier() ---- \n",
            "recall Score - All - Cross Validation  :  [0.96491228 0.92982456 0.96491228 0.96491228 0.96491228]\n",
            "recall Score - Mean - Cross Validation :  0.9578947368421054\n",
            "recall Score - Std - Cross Validation  :  0.014035087719298246\n",
            "recall Score - Range of Test-Set       :  0.9438596491228071 - 0.9719298245614036\n"
          ]
        }
      ],
      "source": [
        "cross_val(dt_default)"
      ]
    },
    {
      "cell_type": "code",
      "execution_count": 62,
      "metadata": {},
      "outputs": [
        {
          "name": "stdout",
          "output_type": "stream",
          "text": [
            "----Cross Validation RandomForestClassifier() ---- \n",
            "recall Score - All - Cross Validation  :  [0.96491228 0.94736842 0.94736842 1.         0.96491228]\n",
            "recall Score - Mean - Cross Validation :  0.9649122807017545\n",
            "recall Score - Std - Cross Validation  :  0.01921833535105848\n",
            "recall Score - Range of Test-Set       :  0.9456939453506961 - 0.9841306160528129\n"
          ]
        }
      ],
      "source": [
        "cross_val(rf_default)"
      ]
    },
    {
      "cell_type": "code",
      "execution_count": 63,
      "metadata": {},
      "outputs": [
        {
          "name": "stdout",
          "output_type": "stream",
          "text": [
            "----Cross Validation AdaBoostClassifier() ---- \n",
            "recall Score - All - Cross Validation  :  [0.96491228 0.94736842 0.96491228 1.         0.98245614]\n",
            "recall Score - Mean - Cross Validation :  0.9719298245614034\n",
            "recall Score - Std - Cross Validation  :  0.01789129653892206\n",
            "recall Score - Range of Test-Set       :  0.9540385280224813 - 0.9898211211003255\n"
          ]
        }
      ],
      "source": [
        "cross_val(AdaBoost_default)"
      ]
    },
    {
      "cell_type": "markdown",
      "metadata": {},
      "source": [
        "# Hyperparameter tuning"
      ]
    },
    {
      "cell_type": "markdown",
      "metadata": {},
      "source": [
        "## SVC"
      ]
    },
    {
      "cell_type": "markdown",
      "metadata": {},
      "source": [
        "**Random Search**"
      ]
    },
    {
      "cell_type": "code",
      "execution_count": 64,
      "metadata": {},
      "outputs": [
        {
          "name": "stdout",
          "output_type": "stream",
          "text": [
            "Fitting 5 folds for each of 50 candidates, totalling 250 fits\n",
            "Best SVC Parameters from RandomCV: SVC(C=10, degree=5, gamma=10, probability=True, random_state=7)\n"
          ]
        }
      ],
      "source": [
        "# Tentukan parameter distribusi untuk RandomizedSearchCV pada model SVC\n",
        "param_dist_svc = {\n",
        "    'C': [0.1, 1, 10],  # Parameter regulasi\n",
        "    'kernel': ['linear', 'rbf', 'poly','sigmoid'],  # Fungsi kernel\n",
        "    'gamma': ['scale', 'auto'] + [0.001, 0.01, 0.1, 1, 10],  # Parameter kernel (hanya untuk 'rbf' dan 'poly')\n",
        "    'degree': [2, 3, 4, 5],  # Derajat (hanya untuk 'poly')\n",
        "}\n",
        "\n",
        "# Inisialisasi RandomizedSearchCV untuk model SVC\n",
        "random_search_svc = RandomizedSearchCV(\n",
        "    estimator=SVC(probability=True, random_state=7),  # probability=True untuk mengaktifkan predict_proba\n",
        "    param_distributions=param_dist_svc,\n",
        "    n_iter=50,\n",
        "    cv=5,\n",
        "    scoring='recall',\n",
        "    n_jobs=-1,\n",
        "    verbose=3,\n",
        "    random_state=7\n",
        ")\n",
        "\n",
        "# Lakukan pencarian parameter pada data pelatihan\n",
        "random_search_svc.fit(scaled_pca_train, y_train)\n",
        "\n",
        "# Dapatkan parameter terbaik dari RandomizedSearchCV\n",
        "best_params_random_svc = random_search_svc.best_estimator_\n",
        "\n",
        "print(\"Best SVC Parameters from RandomCV:\", best_params_random_svc)\n"
      ]
    },
    {
      "cell_type": "code",
      "execution_count": 65,
      "metadata": {},
      "outputs": [],
      "source": [
        "y_train_predict_svc_best_random = best_params_random_svc.predict(scaled_pca_train)\n",
        "y_test_predict_svc_best_random = best_params_random_svc.predict(scaled_pca_test)"
      ]
    },
    {
      "cell_type": "code",
      "execution_count": 66,
      "metadata": {},
      "outputs": [
        {
          "name": "stdout",
          "output_type": "stream",
          "text": [
            "------Clasification Report Random Forest Best Train-------\n",
            "              precision    recall  f1-score   support\n",
            "\n",
            "           0       1.00      1.00      1.00       285\n",
            "           1       1.00      1.00      1.00       285\n",
            "\n",
            "    accuracy                           1.00       570\n",
            "   macro avg       1.00      1.00      1.00       570\n",
            "weighted avg       1.00      1.00      1.00       570\n",
            "\n",
            "\n",
            "------Clasification Report Random Forest Best Test-------\n",
            "              precision    recall  f1-score   support\n",
            "\n",
            "           0       0.95      0.85      0.90        72\n",
            "           1       0.78      0.93      0.85        42\n",
            "\n",
            "    accuracy                           0.88       114\n",
            "   macro avg       0.87      0.89      0.87       114\n",
            "weighted avg       0.89      0.88      0.88       114\n",
            "\n"
          ]
        }
      ],
      "source": [
        "print('------Clasification Report Random Forest Best Train-------')\n",
        "print(classification_report(y_train,y_train_predict_svc_best_random))\n",
        "\n",
        "print('')\n",
        "print('------Clasification Report Random Forest Best Test-------')\n",
        "print(classification_report(y_test,y_test_predict_svc_best_random))\n"
      ]
    },
    {
      "cell_type": "markdown",
      "metadata": {},
      "source": [
        "**Grid Search**"
      ]
    },
    {
      "cell_type": "code",
      "execution_count": 67,
      "metadata": {},
      "outputs": [
        {
          "name": "stdout",
          "output_type": "stream",
          "text": [
            "Fitting 5 folds for each of 72 candidates, totalling 360 fits\n",
            "Best SVC Parameters from GridSearch: SVC(C=10, degree=2, probability=True, random_state=7)\n"
          ]
        }
      ],
      "source": [
        "from sklearn.model_selection import GridSearchCV\n",
        "from sklearn.svm import SVC\n",
        "\n",
        "# Tentukan parameter grid untuk GridSearchCV pada model SVC\n",
        "param_grid_svc = {\n",
        "    'C': [0.1, 1, 10],  # Parameter regulasi\n",
        "    'kernel': ['linear', 'rbf', 'sigmoid'],  # Fungsi kernel\n",
        "    'gamma': ['scale', 'auto'] ,  # Parameter kernel (hanya untuk 'rbf' dan 'poly')\n",
        "    'degree': [2, 3, 4, 5],  # Derajat (hanya untuk 'poly')\n",
        "}\n",
        "\n",
        "# Inisialisasi GridSearchCV untuk model SVC\n",
        "grid_search_svc = GridSearchCV(\n",
        "    estimator=SVC(probability=True, random_state=7),  # probability=True untuk mengaktifkan predict_proba\n",
        "    param_grid=param_grid_svc,\n",
        "    cv=5,\n",
        "    scoring='recall',\n",
        "    n_jobs=-1,\n",
        "    verbose=3\n",
        ")\n",
        "\n",
        "# Lakukan pencarian parameter pada data pelatihan\n",
        "grid_search_svc.fit(scaled_pca_train, y_train)\n",
        "\n",
        "# Dapatkan parameter terbaik dari GridSearchCV\n",
        "best_params_grid_svc = grid_search_svc.best_estimator_\n",
        "\n",
        "print(\"Best SVC Parameters from GridSearch:\", best_params_grid_svc)\n"
      ]
    },
    {
      "cell_type": "code",
      "execution_count": 68,
      "metadata": {},
      "outputs": [],
      "source": [
        "y_train_predict_svc_best_grid = best_params_grid_svc.predict(scaled_pca_train)\n",
        "y_test_predict_svc_best_grid = best_params_grid_svc.predict(scaled_pca_test)"
      ]
    },
    {
      "cell_type": "code",
      "execution_count": 69,
      "metadata": {},
      "outputs": [
        {
          "name": "stdout",
          "output_type": "stream",
          "text": [
            "------Clasification Report grid Forest Best Train-------\n",
            "              precision    recall  f1-score   support\n",
            "\n",
            "           0       0.99      0.99      0.99       285\n",
            "           1       0.99      0.99      0.99       285\n",
            "\n",
            "    accuracy                           0.99       570\n",
            "   macro avg       0.99      0.99      0.99       570\n",
            "weighted avg       0.99      0.99      0.99       570\n",
            "\n",
            "\n",
            "------Clasification Report grid Forest Best Test-------\n",
            "              precision    recall  f1-score   support\n",
            "\n",
            "           0       0.97      0.88      0.92        72\n",
            "           1       0.82      0.95      0.88        42\n",
            "\n",
            "    accuracy                           0.90       114\n",
            "   macro avg       0.89      0.91      0.90       114\n",
            "weighted avg       0.91      0.90      0.90       114\n",
            "\n"
          ]
        }
      ],
      "source": [
        "print('------Clasification Report grid Forest Best Train-------')\n",
        "print(classification_report(y_train,y_train_predict_svc_best_grid))\n",
        "\n",
        "print('')\n",
        "print('------Clasification Report grid Forest Best Test-------')\n",
        "print(classification_report(y_test,y_test_predict_svc_best_grid))\n"
      ]
    },
    {
      "cell_type": "markdown",
      "metadata": {},
      "source": [
        "Model ini yang saya pakai model SVC dengan parameter(C=0.1, degree=5, gamma=10, kernel='poly', probability=True, random_state=7)"
      ]
    },
    {
      "cell_type": "markdown",
      "metadata": {},
      "source": [
        "## KNN"
      ]
    },
    {
      "cell_type": "markdown",
      "metadata": {},
      "source": [
        "**Random Search**"
      ]
    },
    {
      "cell_type": "code",
      "execution_count": 70,
      "metadata": {},
      "outputs": [
        {
          "name": "stdout",
          "output_type": "stream",
          "text": [
            "Fitting 5 folds for each of 50 candidates, totalling 250 fits\n",
            "Best KNN Parameters from RandomCV: KNeighborsClassifier(algorithm='kd_tree', n_neighbors=3, p=1,\n",
            "                     weights='distance')\n"
          ]
        }
      ],
      "source": [
        "param_dist_knn = {\n",
        "    'n_neighbors': [3, 5, 7, 9, 11],\n",
        "    'weights': ['uniform', 'distance'],\n",
        "    'algorithm': ['auto', 'ball_tree', 'kd_tree', 'brute'],\n",
        "    'p': [1, 2]\n",
        "}\n",
        "\n",
        "random_search_knn = RandomizedSearchCV(\n",
        "    estimator=KNeighborsClassifier(),\n",
        "    param_distributions=param_dist_knn,\n",
        "    n_iter=50,\n",
        "    cv=5,\n",
        "    scoring='recall',\n",
        "    n_jobs=-1,\n",
        "    verbose=3,\n",
        "    random_state=7\n",
        ")\n",
        "\n",
        "# Lakukan pencarian parameter pada data pelatihan\n",
        "random_search_knn.fit(scaled_pca_train, y_train)\n",
        "\n",
        "# Dapatkan parameter terbaik dari RandomizedSearchCV\n",
        "best_params_random_knn = random_search_knn.best_estimator_\n",
        "\n",
        "print(\"Best KNN Parameters from RandomCV:\", best_params_random_knn)"
      ]
    },
    {
      "cell_type": "code",
      "execution_count": 71,
      "metadata": {},
      "outputs": [],
      "source": [
        "y_train_predict_knn_best_random = best_params_random_knn.predict(scaled_pca_train)\n",
        "y_test_predict_knn_best_random = best_params_random_knn.predict(scaled_pca_test)"
      ]
    },
    {
      "cell_type": "code",
      "execution_count": 72,
      "metadata": {},
      "outputs": [
        {
          "name": "stdout",
          "output_type": "stream",
          "text": [
            "------Clasification Report Random Forest Best Train-------\n",
            "              precision    recall  f1-score   support\n",
            "\n",
            "           0       1.00      1.00      1.00       285\n",
            "           1       1.00      1.00      1.00       285\n",
            "\n",
            "    accuracy                           1.00       570\n",
            "   macro avg       1.00      1.00      1.00       570\n",
            "weighted avg       1.00      1.00      1.00       570\n",
            "\n",
            "\n",
            "------Clasification Report Random Forest Best Test-------\n",
            "              precision    recall  f1-score   support\n",
            "\n",
            "           0       0.95      0.86      0.91        72\n",
            "           1       0.80      0.93      0.86        42\n",
            "\n",
            "    accuracy                           0.89       114\n",
            "   macro avg       0.87      0.89      0.88       114\n",
            "weighted avg       0.90      0.89      0.89       114\n",
            "\n"
          ]
        }
      ],
      "source": [
        "print('------Clasification Report Random Forest Best Train-------')\n",
        "print(classification_report(y_train,y_train_predict_knn_best_random))\n",
        "\n",
        "print('')\n",
        "print('------Clasification Report Random Forest Best Test-------')\n",
        "print(classification_report(y_test,y_test_predict_knn_best_random))\n"
      ]
    },
    {
      "cell_type": "markdown",
      "metadata": {},
      "source": [
        "**grid search**"
      ]
    },
    {
      "cell_type": "code",
      "execution_count": 73,
      "metadata": {},
      "outputs": [
        {
          "name": "stdout",
          "output_type": "stream",
          "text": [
            "Fitting 5 folds for each of 80 candidates, totalling 400 fits\n",
            "Best KNN Parameters from GridSearch: KNeighborsClassifier(n_neighbors=3, p=1, weights='distance')\n"
          ]
        }
      ],
      "source": [
        "from sklearn.model_selection import GridSearchCV\n",
        "\n",
        "param_grid_knn = {\n",
        "    'n_neighbors': [3, 5, 7, 9, 11],\n",
        "    'weights': ['uniform', 'distance'],\n",
        "    'algorithm': ['auto', 'ball_tree', 'kd_tree', 'brute'],\n",
        "    'p': [1, 2]\n",
        "}\n",
        "\n",
        "grid_search_knn = GridSearchCV(\n",
        "    estimator=KNeighborsClassifier(),\n",
        "    param_grid=param_grid_knn,\n",
        "    cv=5,\n",
        "    scoring='recall',\n",
        "    n_jobs=-1,\n",
        "    verbose=3\n",
        ")\n",
        "\n",
        "# Lakukan pencarian parameter pada data pelatihan\n",
        "grid_search_knn.fit(scaled_pca_train, y_train)\n",
        "\n",
        "# Dapatkan parameter terbaik dari GridSearchCV\n",
        "best_params_grid_knn = grid_search_knn.best_estimator_\n",
        "\n",
        "print(\"Best KNN Parameters from GridSearch:\", best_params_grid_knn)\n"
      ]
    },
    {
      "cell_type": "code",
      "execution_count": 74,
      "metadata": {},
      "outputs": [],
      "source": [
        "y_train_predict_knn_best_random = best_params_random_knn.predict(scaled_pca_train)\n",
        "y_test_predict_knn_best_random = best_params_random_knn.predict(scaled_pca_test)"
      ]
    },
    {
      "cell_type": "code",
      "execution_count": 75,
      "metadata": {},
      "outputs": [
        {
          "name": "stdout",
          "output_type": "stream",
          "text": [
            "------Clasification Report Random Forest Best Train-------\n",
            "              precision    recall  f1-score   support\n",
            "\n",
            "           0       1.00      1.00      1.00       285\n",
            "           1       1.00      1.00      1.00       285\n",
            "\n",
            "    accuracy                           1.00       570\n",
            "   macro avg       1.00      1.00      1.00       570\n",
            "weighted avg       1.00      1.00      1.00       570\n",
            "\n",
            "\n",
            "------Clasification Report Random Forest Best Test-------\n",
            "              precision    recall  f1-score   support\n",
            "\n",
            "           0       0.95      0.86      0.91        72\n",
            "           1       0.80      0.93      0.86        42\n",
            "\n",
            "    accuracy                           0.89       114\n",
            "   macro avg       0.87      0.89      0.88       114\n",
            "weighted avg       0.90      0.89      0.89       114\n",
            "\n"
          ]
        }
      ],
      "source": [
        "print('------Clasification Report Random Forest Best Train-------')\n",
        "print(classification_report(y_train,y_train_predict_knn_best_random))\n",
        "\n",
        "print('')\n",
        "print('------Clasification Report Random Forest Best Test-------')\n",
        "print(classification_report(y_test,y_test_predict_knn_best_random))\n"
      ]
    },
    {
      "cell_type": "markdown",
      "metadata": {},
      "source": [
        "## Random Forrest"
      ]
    },
    {
      "cell_type": "code",
      "execution_count": 76,
      "metadata": {},
      "outputs": [
        {
          "name": "stdout",
          "output_type": "stream",
          "text": [
            "Fitting 5 folds for each of 50 candidates, totalling 250 fits\n",
            "Best RF Parameters from RandomCV: RandomForestClassifier(bootstrap=False, max_depth=10, min_samples_split=5,\n",
            "                       n_estimators=350)\n"
          ]
        }
      ],
      "source": [
        "# Tentukan parameter distribusi untuk RandomizedSearchCV\n",
        "param_dist = {\n",
        "    'n_estimators': [150,250,350],  \n",
        "    'max_depth': [None, 1, 10, 20],\n",
        "    'min_samples_split': [2, 5, 10, 15],\n",
        "    'min_samples_leaf': [1, 2, 5, 10],\n",
        "    'bootstrap': [True, False]\n",
        "}\n",
        "\n",
        "# Inisialisasi RandomizedSearchCV\n",
        "random_search_rf = RandomizedSearchCV(estimator = RandomForestClassifier(), param_distributions=param_dist, n_iter=50, \n",
        "                                   cv=5, scoring='recall', n_jobs=-1, verbose=3, random_state=7)\n",
        "random_search_rf.fit(scaled_pca_train, y_train)\n",
        "\n",
        "# Dapatkan parameter terbaik dari RandomizedSearchCV\n",
        "best_params_random_rf = random_search_rf.best_estimator_\n",
        "\n",
        "print(\"Best RF Parameters from RandomCV:\", best_params_random_rf)"
      ]
    },
    {
      "cell_type": "code",
      "execution_count": 77,
      "metadata": {},
      "outputs": [],
      "source": [
        "y_train_predict_rf_best_random = best_params_random_rf.predict(scaled_pca_train)\n",
        "y_test_predict_rf_best_random = best_params_random_rf.predict(scaled_pca_test)"
      ]
    },
    {
      "cell_type": "code",
      "execution_count": 78,
      "metadata": {},
      "outputs": [
        {
          "name": "stdout",
          "output_type": "stream",
          "text": [
            "------Clasification Report Random Forest Best Train-------\n",
            "              precision    recall  f1-score   support\n",
            "\n",
            "           0       1.00      1.00      1.00       285\n",
            "           1       1.00      1.00      1.00       285\n",
            "\n",
            "    accuracy                           1.00       570\n",
            "   macro avg       1.00      1.00      1.00       570\n",
            "weighted avg       1.00      1.00      1.00       570\n",
            "\n",
            "\n",
            "------Clasification Report Random Forest Best Test-------\n",
            "              precision    recall  f1-score   support\n",
            "\n",
            "           0       0.96      0.92      0.94        72\n",
            "           1       0.87      0.93      0.90        42\n",
            "\n",
            "    accuracy                           0.92       114\n",
            "   macro avg       0.91      0.92      0.92       114\n",
            "weighted avg       0.92      0.92      0.92       114\n",
            "\n"
          ]
        }
      ],
      "source": [
        "print('------Clasification Report Random Forest Best Train-------')\n",
        "print(classification_report(y_train,y_train_predict_rf_best_random))\n",
        "\n",
        "print('')\n",
        "print('------Clasification Report Random Forest Best Test-------')\n",
        "print(classification_report(y_test,y_test_predict_rf_best_random))\n"
      ]
    },
    {
      "cell_type": "code",
      "execution_count": 79,
      "metadata": {},
      "outputs": [
        {
          "data": {
            "text/plain": [
              "<sklearn.metrics._plot.confusion_matrix.ConfusionMatrixDisplay at 0x28e5d0d6460>"
            ]
          },
          "execution_count": 79,
          "metadata": {},
          "output_type": "execute_result"
        },
        {
          "data": {
            "image/png": "[encoded data removed]",
            "text/plain": [
              "<Figure size 640x480 with 2 Axes>"
            ]
          },
          "metadata": {},
          "output_type": "display_data"
        }
      ],
      "source": [
        "# Melihat plot ConfusionMatrix data test\n",
        "cm_test_rf_grid = confusion_matrix(y_test, y_test_predict_knn_best_random)\n",
        "ConfusionMatrixDisplay(cm_test_rf_grid).plot()"
      ]
    },
    {
      "cell_type": "markdown",
      "metadata": {},
      "source": [
        "# Model Training Final"
      ]
    },
    {
      "cell_type": "code",
      "execution_count": 80,
      "metadata": {},
      "outputs": [
        {
          "data": {
            "text/html": [
              "<style>#sk-container-id-7 {color: black;}#sk-container-id-7 pre{padding: 0;}#sk-container-id-7 div.sk-toggleable {background-color: white;}#sk-container-id-7 label.sk-toggleable__label {cursor: pointer;display: block;width: 100%;margin-bottom: 0;padding: 0.3em;box-sizing: border-box;text-align: center;}#sk-container-id-7 label.sk-toggleable__label-arrow:before {content: \"▸\";float: left;margin-right: 0.25em;color: #696969;}#sk-container-id-7 label.sk-toggleable__label-arrow:hover:before {color: black;}#sk-container-id-7 div.sk-estimator:hover label.sk-toggleable__label-arrow:before {color: black;}#sk-container-id-7 div.sk-toggleable__content {max-height: 0;max-width: 0;overflow: hidden;text-align: left;background-color: #f0f8ff;}#sk-container-id-7 div.sk-toggleable__content pre {margin: 0.2em;color: black;border-radius: 0.25em;background-color: #f0f8ff;}#sk-container-id-7 input.sk-toggleable__control:checked~div.sk-toggleable__content {max-height: 200px;max-width: 100%;overflow: auto;}#sk-container-id-7 input.sk-toggleable__control:checked~label.sk-toggleable__label-arrow:before {content: \"▾\";}#sk-container-id-7 div.sk-estimator input.sk-toggleable__control:checked~label.sk-toggleable__label {background-color: #d4ebff;}#sk-container-id-7 div.sk-label input.sk-toggleable__control:checked~label.sk-toggleable__label {background-color: #d4ebff;}#sk-container-id-7 input.sk-hidden--visually {border: 0;clip: rect(1px 1px 1px 1px);clip: rect(1px, 1px, 1px, 1px);height: 1px;margin: -1px;overflow: hidden;padding: 0;position: absolute;width: 1px;}#sk-container-id-7 div.sk-estimator {font-family: monospace;background-color: #f0f8ff;border: 1px dotted black;border-radius: 0.25em;box-sizing: border-box;margin-bottom: 0.5em;}#sk-container-id-7 div.sk-estimator:hover {background-color: #d4ebff;}#sk-container-id-7 div.sk-parallel-item::after {content: \"\";width: 100%;border-bottom: 1px solid gray;flex-grow: 1;}#sk-container-id-7 div.sk-label:hover label.sk-toggleable__label {background-color: #d4ebff;}#sk-container-id-7 div.sk-serial::before {content: \"\";position: absolute;border-left: 1px solid gray;box-sizing: border-box;top: 0;bottom: 0;left: 50%;z-index: 0;}#sk-container-id-7 div.sk-serial {display: flex;flex-direction: column;align-items: center;background-color: white;padding-right: 0.2em;padding-left: 0.2em;position: relative;}#sk-container-id-7 div.sk-item {position: relative;z-index: 1;}#sk-container-id-7 div.sk-parallel {display: flex;align-items: stretch;justify-content: center;background-color: white;position: relative;}#sk-container-id-7 div.sk-item::before, #sk-container-id-7 div.sk-parallel-item::before {content: \"\";position: absolute;border-left: 1px solid gray;box-sizing: border-box;top: 0;bottom: 0;left: 50%;z-index: -1;}#sk-container-id-7 div.sk-parallel-item {display: flex;flex-direction: column;z-index: 1;position: relative;background-color: white;}#sk-container-id-7 div.sk-parallel-item:first-child::after {align-self: flex-end;width: 50%;}#sk-container-id-7 div.sk-parallel-item:last-child::after {align-self: flex-start;width: 50%;}#sk-container-id-7 div.sk-parallel-item:only-child::after {width: 0;}#sk-container-id-7 div.sk-dashed-wrapped {border: 1px dashed gray;margin: 0 0.4em 0.5em 0.4em;box-sizing: border-box;padding-bottom: 0.4em;background-color: white;}#sk-container-id-7 div.sk-label label {font-family: monospace;font-weight: bold;display: inline-block;line-height: 1.2em;}#sk-container-id-7 div.sk-label-container {text-align: center;}#sk-container-id-7 div.sk-container {/* jupyter's `normalize.less` sets `[hidden] { display: none; }` but bootstrap.min.css set `[hidden] { display: none !important; }` so we also need the `!important` here to be able to override the default hidden behavior on the sphinx rendered scikit-learn.org. See: https://github.com/scikit-learn/scikit-learn/issues/21755 */display: inline-block !important;position: relative;}#sk-container-id-7 div.sk-text-repr-fallback {display: none;}</style><div id=\"sk-container-id-7\" class=\"sk-top-container\"><div class=\"sk-text-repr-fallback\"><pre>SVC(C=10, degree=2, probability=True, random_state=7)</pre><b>In a Jupyter environment, please rerun this cell to show the HTML representation or trust the notebook. <br />On GitHub, the HTML representation is unable to render, please try loading this page with nbviewer.org.</b></div><div class=\"sk-container\" hidden><div class=\"sk-item\"><div class=\"sk-estimator sk-toggleable\"><input class=\"sk-toggleable__control sk-hidden--visually\" id=\"sk-estimator-id-7\" type=\"checkbox\" checked><label for=\"sk-estimator-id-7\" class=\"sk-toggleable__label sk-toggleable__label-arrow\">SVC</label><div class=\"sk-toggleable__content\"><pre>SVC(C=10, degree=2, probability=True, random_state=7)</pre></div></div></div></div></div>"
            ],
            "text/plain": [
              "SVC(C=10, degree=2, probability=True, random_state=7)"
            ]
          },
          "execution_count": 80,
          "metadata": {},
          "output_type": "execute_result"
        }
      ],
      "source": [
        "svm_best_param = SVC(C=10, degree=2, probability=True, random_state=7)\n",
        "svm_best_param.fit(scaled_pca_train,y_train)"
      ]
    },
    {
      "cell_type": "markdown",
      "metadata": {
        "id": "vPwBNr74WB22"
      },
      "source": [
        "# Model Evaluation final"
      ]
    },
    {
      "cell_type": "code",
      "execution_count": 81,
      "metadata": {},
      "outputs": [],
      "source": [
        "y_train_predict_svm_best = svm_best_param.predict(scaled_pca_train)\n",
        "y_test_predict_svm_best = svm_best_param.predict(scaled_pca_test)"
      ]
    },
    {
      "cell_type": "code",
      "execution_count": 82,
      "metadata": {},
      "outputs": [
        {
          "name": "stdout",
          "output_type": "stream",
          "text": [
            "svm Recall Score (Train): 0.9894736842105263\n",
            "\n",
            "svm Recall Score (Test): 0.9523809523809523\n"
          ]
        }
      ],
      "source": [
        "# Evaluate the model on the training set\n",
        "recall_train_svm = recall_score(y_train,y_train_predict_svm_best)\n",
        "print(\"svm Recall Score (Train):\", recall_train_svm)\n",
        "\n",
        "# Evaluate the model on the test set\n",
        "recall_test_svm = recall_score(y_test, y_test_predict_svm_best)\n",
        "print(\"\\nsvm Recall Score (Test):\", recall_test_svm)\n"
      ]
    },
    {
      "cell_type": "code",
      "execution_count": 83,
      "metadata": {},
      "outputs": [
        {
          "name": "stdout",
          "output_type": "stream",
          "text": [
            "\n",
            "Confusion Matrix: \n",
            "[[63  9]\n",
            " [ 2 40]]\n",
            "\n",
            "Classification Report (Test):\n",
            "               precision    recall  f1-score   support\n",
            "\n",
            "           0       0.97      0.88      0.92        72\n",
            "           1       0.82      0.95      0.88        42\n",
            "\n",
            "    accuracy                           0.90       114\n",
            "   macro avg       0.89      0.91      0.90       114\n",
            "weighted avg       0.91      0.90      0.90       114\n",
            "\n"
          ]
        }
      ],
      "source": [
        "# Confusion Matrix\n",
        "cm = confusion_matrix(y_test, y_test_predict_svm_best)\n",
        "print(f\"\\nConfusion Matrix: \\n{cm}\")\n",
        "\n",
        "# Classification report\n",
        "print(\"\\nClassification Report (Test):\\n\", classification_report(y_test, y_test_predict_svm_best))"
      ]
    },
    {
      "cell_type": "code",
      "execution_count": 84,
      "metadata": {},
      "outputs": [
        {
          "name": "stdout",
          "output_type": "stream",
          "text": [
            "Total Errors (Train): 6.0\n",
            "Error Percentage (Train): 1.05%\n",
            "\n",
            "Total Errors (Test): 5.428571428571431\n",
            "Error Percentage (Test): 4.76%\n"
          ]
        }
      ],
      "source": [
        "# Evaluate the model on the training set\n",
        "\n",
        "total_error_train_svm = len(y_train) - (len(y_train) * recall_train_svm)\n",
        "error_percentage_train_svm = (total_error_train_svm / len(y_train)) * 100\n",
        "\n",
        "print(\"Total Errors (Train):\", total_error_train_svm)\n",
        "print(\"Error Percentage (Train): {:.2f}%\".format(error_percentage_train_svm))\n",
        "\n",
        "# Evaluate the model on the test set\n",
        "total_error_test_svm = len(y_test) - (len(y_test) * recall_test_svm)\n",
        "error_percentage_test_svm = (total_error_test_svm / len(y_test)) * 100\n",
        "\n",
        "print(\"\\nTotal Errors (Test):\", total_error_test_svm)\n",
        "print(\"Error Percentage (Test): {:.2f}%\".format(error_percentage_test_svm))\n"
      ]
    },
    {
      "cell_type": "code",
      "execution_count": 85,
      "metadata": {},
      "outputs": [
        {
          "name": "stdout",
          "output_type": "stream",
          "text": [
            "Confusion Matrix (Train):\n",
            " [[281   4]\n",
            " [  3 282]]\n",
            "\n",
            "Confusion Matrix (Test):\n",
            " [[63  9]\n",
            " [ 2 40]]\n"
          ]
        },
        {
          "data": {
            "image/png": "[encoded data removed]",
            "text/plain": [
              "<Figure size 640x480 with 2 Axes>"
            ]
          },
          "metadata": {},
          "output_type": "display_data"
        }
      ],
      "source": [
        "# Matriks kebingungan untuk data pelatihan\n",
        "\n",
        "confusion_matrix_train_knn = confusion_matrix(y_train, y_train_predict_svm_best)\n",
        "print(\"Confusion Matrix (Train):\\n\", confusion_matrix_train_knn)\n",
        "\n",
        "# Matriks kebingungan untuk data pengujian\n",
        "\n",
        "confusion_matrix_test_knn = confusion_matrix(y_test, y_test_predict_svm_best)\n",
        "print(\"\\nConfusion Matrix (Test):\\n\", confusion_matrix_test_knn)\n",
        "\n",
        "# Calculate confusion matrix for test data\n",
        "confusion_matrix_test_knn = confusion_matrix(y_test, y_test_predict_svm_best)\n",
        "\n",
        "# Display the confusion matrix using ConfusionMatrixDisplay\n",
        "disp = ConfusionMatrixDisplay(confusion_matrix=confusion_matrix_test_knn, display_labels=['Class svm 0', 'Class svm 1'])\n",
        "disp.plot(cmap='viridis')\n",
        "plt.show()\n"
      ]
    },
    {
      "cell_type": "markdown",
      "metadata": {},
      "source": [
        "**Hasil Evaluasi Model SVC dengan paramter (C=10, degree=2)**\n",
        "\n",
        "**Skor Recall**:\n",
        "- Pada data pelatihan, model ini mencapai skor recall sebesar 0.9895, yang 1% lagi hampir mendekati sempurna. Hal ini menunjukkan bahwa hampir semua kelas positif dapat diidentifikasi dengan benar oleh model.\n",
        "- Pada data pengujian, skor recall adalah 0.9523, yang berarti 95.23% dari kelas positif berhasil diidentifikasi dengan benar oleh model.\n",
        "\n",
        "\n",
        "**Kesalahan**:\n",
        "\n",
        "- Total kesalahan yang dilakukan model pada data pelatihan adalah 1% dari total data pelatihan.\n",
        "  \n",
        "- Total kesalahan yang dilakukan model pada data pengujian adalah 5% total data pengujian."
      ]
    },
    {
      "cell_type": "markdown",
      "metadata": {},
      "source": [
        "# Penggabungan Pipeline"
      ]
    },
    {
      "cell_type": "code",
      "execution_count": 86,
      "metadata": {},
      "outputs": [
        {
          "data": {
            "text/html": [
              "<style>#sk-container-id-8 {color: black;}#sk-container-id-8 pre{padding: 0;}#sk-container-id-8 div.sk-toggleable {background-color: white;}#sk-container-id-8 label.sk-toggleable__label {cursor: pointer;display: block;width: 100%;margin-bottom: 0;padding: 0.3em;box-sizing: border-box;text-align: center;}#sk-container-id-8 label.sk-toggleable__label-arrow:before {content: \"▸\";float: left;margin-right: 0.25em;color: #696969;}#sk-container-id-8 label.sk-toggleable__label-arrow:hover:before {color: black;}#sk-container-id-8 div.sk-estimator:hover label.sk-toggleable__label-arrow:before {color: black;}#sk-container-id-8 div.sk-toggleable__content {max-height: 0;max-width: 0;overflow: hidden;text-align: left;background-color: #f0f8ff;}#sk-container-id-8 div.sk-toggleable__content pre {margin: 0.2em;color: black;border-radius: 0.25em;background-color: #f0f8ff;}#sk-container-id-8 input.sk-toggleable__control:checked~div.sk-toggleable__content {max-height: 200px;max-width: 100%;overflow: auto;}#sk-container-id-8 input.sk-toggleable__control:checked~label.sk-toggleable__label-arrow:before {content: \"▾\";}#sk-container-id-8 div.sk-estimator input.sk-toggleable__control:checked~label.sk-toggleable__label {background-color: #d4ebff;}#sk-container-id-8 div.sk-label input.sk-toggleable__control:checked~label.sk-toggleable__label {background-color: #d4ebff;}#sk-container-id-8 input.sk-hidden--visually {border: 0;clip: rect(1px 1px 1px 1px);clip: rect(1px, 1px, 1px, 1px);height: 1px;margin: -1px;overflow: hidden;padding: 0;position: absolute;width: 1px;}#sk-container-id-8 div.sk-estimator {font-family: monospace;background-color: #f0f8ff;border: 1px dotted black;border-radius: 0.25em;box-sizing: border-box;margin-bottom: 0.5em;}#sk-container-id-8 div.sk-estimator:hover {background-color: #d4ebff;}#sk-container-id-8 div.sk-parallel-item::after {content: \"\";width: 100%;border-bottom: 1px solid gray;flex-grow: 1;}#sk-container-id-8 div.sk-label:hover label.sk-toggleable__label {background-color: #d4ebff;}#sk-container-id-8 div.sk-serial::before {content: \"\";position: absolute;border-left: 1px solid gray;box-sizing: border-box;top: 0;bottom: 0;left: 50%;z-index: 0;}#sk-container-id-8 div.sk-serial {display: flex;flex-direction: column;align-items: center;background-color: white;padding-right: 0.2em;padding-left: 0.2em;position: relative;}#sk-container-id-8 div.sk-item {position: relative;z-index: 1;}#sk-container-id-8 div.sk-parallel {display: flex;align-items: stretch;justify-content: center;background-color: white;position: relative;}#sk-container-id-8 div.sk-item::before, #sk-container-id-8 div.sk-parallel-item::before {content: \"\";position: absolute;border-left: 1px solid gray;box-sizing: border-box;top: 0;bottom: 0;left: 50%;z-index: -1;}#sk-container-id-8 div.sk-parallel-item {display: flex;flex-direction: column;z-index: 1;position: relative;background-color: white;}#sk-container-id-8 div.sk-parallel-item:first-child::after {align-self: flex-end;width: 50%;}#sk-container-id-8 div.sk-parallel-item:last-child::after {align-self: flex-start;width: 50%;}#sk-container-id-8 div.sk-parallel-item:only-child::after {width: 0;}#sk-container-id-8 div.sk-dashed-wrapped {border: 1px dashed gray;margin: 0 0.4em 0.5em 0.4em;box-sizing: border-box;padding-bottom: 0.4em;background-color: white;}#sk-container-id-8 div.sk-label label {font-family: monospace;font-weight: bold;display: inline-block;line-height: 1.2em;}#sk-container-id-8 div.sk-label-container {text-align: center;}#sk-container-id-8 div.sk-container {/* jupyter's `normalize.less` sets `[hidden] { display: none; }` but bootstrap.min.css set `[hidden] { display: none !important; }` so we also need the `!important` here to be able to override the default hidden behavior on the sphinx rendered scikit-learn.org. See: https://github.com/scikit-learn/scikit-learn/issues/21755 */display: inline-block !important;position: relative;}#sk-container-id-8 div.sk-text-repr-fallback {display: none;}</style><div id=\"sk-container-id-8\" class=\"sk-top-container\"><div class=\"sk-text-repr-fallback\"><pre>Pipeline(steps=[(&#x27;preprocess2&#x27;,\n",
              "                 Pipeline(steps=[(&#x27;scaler&#x27;, MinMaxScaler()),\n",
              "                                 (&#x27;pca&#x27;, PCA(n_components=6))])),\n",
              "                (&#x27;classification&#x27;,\n",
              "                 SVC(C=10, degree=2, probability=True, random_state=7))])</pre><b>In a Jupyter environment, please rerun this cell to show the HTML representation or trust the notebook. <br />On GitHub, the HTML representation is unable to render, please try loading this page with nbviewer.org.</b></div><div class=\"sk-container\" hidden><div class=\"sk-item sk-dashed-wrapped\"><div class=\"sk-label-container\"><div class=\"sk-label sk-toggleable\"><input class=\"sk-toggleable__control sk-hidden--visually\" id=\"sk-estimator-id-8\" type=\"checkbox\" ><label for=\"sk-estimator-id-8\" class=\"sk-toggleable__label sk-toggleable__label-arrow\">Pipeline</label><div class=\"sk-toggleable__content\"><pre>Pipeline(steps=[(&#x27;preprocess2&#x27;,\n",
              "                 Pipeline(steps=[(&#x27;scaler&#x27;, MinMaxScaler()),\n",
              "                                 (&#x27;pca&#x27;, PCA(n_components=6))])),\n",
              "                (&#x27;classification&#x27;,\n",
              "                 SVC(C=10, degree=2, probability=True, random_state=7))])</pre></div></div></div><div class=\"sk-serial\"><div class=\"sk-item\"><div class=\"sk-label-container\"><div class=\"sk-label sk-toggleable\"><input class=\"sk-toggleable__control sk-hidden--visually\" id=\"sk-estimator-id-9\" type=\"checkbox\" ><label for=\"sk-estimator-id-9\" class=\"sk-toggleable__label sk-toggleable__label-arrow\">preprocess2: Pipeline</label><div class=\"sk-toggleable__content\"><pre>Pipeline(steps=[(&#x27;scaler&#x27;, MinMaxScaler()), (&#x27;pca&#x27;, PCA(n_components=6))])</pre></div></div></div><div class=\"sk-serial\"><div class=\"sk-item\"><div class=\"sk-estimator sk-toggleable\"><input class=\"sk-toggleable__control sk-hidden--visually\" id=\"sk-estimator-id-10\" type=\"checkbox\" ><label for=\"sk-estimator-id-10\" class=\"sk-toggleable__label sk-toggleable__label-arrow\">MinMaxScaler</label><div class=\"sk-toggleable__content\"><pre>MinMaxScaler()</pre></div></div></div><div class=\"sk-item\"><div class=\"sk-estimator sk-toggleable\"><input class=\"sk-toggleable__control sk-hidden--visually\" id=\"sk-estimator-id-11\" type=\"checkbox\" ><label for=\"sk-estimator-id-11\" class=\"sk-toggleable__label sk-toggleable__label-arrow\">PCA</label><div class=\"sk-toggleable__content\"><pre>PCA(n_components=6)</pre></div></div></div></div></div><div class=\"sk-item\"><div class=\"sk-estimator sk-toggleable\"><input class=\"sk-toggleable__control sk-hidden--visually\" id=\"sk-estimator-id-12\" type=\"checkbox\" ><label for=\"sk-estimator-id-12\" class=\"sk-toggleable__label sk-toggleable__label-arrow\">SVC</label><div class=\"sk-toggleable__content\"><pre>SVC(C=10, degree=2, probability=True, random_state=7)</pre></div></div></div></div></div></div></div>"
            ],
            "text/plain": [
              "Pipeline(steps=[('preprocess2',\n",
              "                 Pipeline(steps=[('scaler', MinMaxScaler()),\n",
              "                                 ('pca', PCA(n_components=6))])),\n",
              "                ('classification',\n",
              "                 SVC(C=10, degree=2, probability=True, random_state=7))])"
            ]
          },
          "execution_count": 86,
          "metadata": {},
          "output_type": "execute_result"
        }
      ],
      "source": [
        "all_process_aditpramna = Pipeline([\n",
        "    (\"preprocess2\", pipeline_preprocess),\n",
        "    (\"classification\", svm_best_param)\n",
        "])\n",
        "\n",
        "all_process_aditpramna\n"
      ]
    },
    {
      "cell_type": "code",
      "execution_count": 87,
      "metadata": {},
      "outputs": [
        {
          "data": {
            "image/png": "[encoded data removed]",
            "text/plain": [
              "<Figure size 640x480 with 1 Axes>"
            ]
          },
          "metadata": {},
          "output_type": "display_data"
        },
        {
          "name": "stdout",
          "output_type": "stream",
          "text": [
            "AUC Score: 0.9897486772486772\n"
          ]
        }
      ],
      "source": [
        "# Menghitung probabilitas prediksi positif untuk kelas 1 (Bankrupt)\n",
        "y_test_prob = all_process_aditpramna.predict_proba(X_test)[:, 1]\n",
        "\n",
        "# Menghitung FPR, TPR, dan ambang batas\n",
        "fpr, tpr, thresholds = roc_curve(y_test, y_test_prob)\n",
        "\n",
        "plt.plot([0, 1], [0, 1], 'k--', label=\"Random\")\n",
        "plt.plot(fpr, tpr, label=\"ROC Curve\")\n",
        "plt.xlabel('False Positive Rate')\n",
        "plt.ylabel('True Positive Rate')\n",
        "plt.legend()\n",
        "plt.show()\n",
        "\n",
        "# Hitung AUC\n",
        "auc = roc_auc_score(y_test, y_test_prob)\n",
        "print(f\"AUC Score: {auc}\")"
      ]
    },
    {
      "cell_type": "code",
      "execution_count": 88,
      "metadata": {},
      "outputs": [
        {
          "data": {
            "image/png": "[encoded data removed]",
            "text/plain": [
              "<Figure size 640x480 with 1 Axes>"
            ]
          },
          "metadata": {},
          "output_type": "display_data"
        }
      ],
      "source": [
        "# Membuat fungsi untuk plot Learning Curve\n",
        "def plot_learning_curve(estimator, title, X, y, ylim=None, cv=None,\n",
        "                        n_jobs=None, train_sizes=np.linspace(.1, 1.0, 5)):\n",
        "    plt.figure()\n",
        "    plt.title(title)\n",
        "    if ylim is not None:\n",
        "        plt.ylim(*ylim)\n",
        "    plt.xlabel(\"Training examples\")\n",
        "    plt.ylabel(\"Score\")\n",
        "    train_sizes, train_scores, test_scores = learning_curve(\n",
        "        estimator, X, y, cv=cv, n_jobs=n_jobs, train_sizes=train_sizes)\n",
        "    train_scores_mean = np.mean(train_scores, axis=1)\n",
        "    train_scores_std = np.std(train_scores, axis=1)\n",
        "    test_scores_mean = np.mean(test_scores, axis=1)\n",
        "    test_scores_std = np.std(test_scores, axis=1)\n",
        "    plt.grid()\n",
        "\n",
        "    plt.fill_between(train_sizes, train_scores_mean - train_scores_std,\n",
        "                     train_scores_mean + train_scores_std, alpha=0.1,\n",
        "                     color=\"r\")\n",
        "    plt.fill_between(train_sizes, test_scores_mean - test_scores_std,\n",
        "                     test_scores_mean + test_scores_std, alpha=0.1, color=\"g\")\n",
        "    plt.plot(train_sizes, train_scores_mean, 'o-', color=\"r\",\n",
        "             label=\"Training score\")\n",
        "    plt.plot(train_sizes, test_scores_mean, 'o-', color=\"g\",\n",
        "             label=\"Cross-validation score\")\n",
        "\n",
        "    plt.legend(loc=\"best\")\n",
        "    return plt\n",
        "\n",
        "# Plot Learning Curve\n",
        "title = \"Learning Curve (RandomForest)\"\n",
        "plot_learning_curve(all_process_aditpramna, title, X_train, y_train, cv=5, n_jobs=-1)\n",
        "plt.show()\n"
      ]
    },
    {
      "cell_type": "markdown",
      "metadata": {},
      "source": [
        "# Pipeline Saving"
      ]
    },
    {
      "cell_type": "code",
      "execution_count": 89,
      "metadata": {
        "id": "y9m3UlhlQjsj"
      },
      "outputs": [],
      "source": [
        "# Untuk menyimpan model kita menggunakan module pickle\n",
        "\n",
        "with open('all_process_aditpram.pkl', 'wb') as file_1:\n",
        "  pickle.dump(all_process_aditpramna, file_1)\n"
      ]
    },
    {
      "cell_type": "markdown",
      "metadata": {},
      "source": [
        "# Conceptual Problems\n"
      ]
    },
    {
      "cell_type": "markdown",
      "metadata": {},
      "source": [
        "Jawaban :\n",
        "\n",
        "\n",
        "Latar Belakang Bagging:\n",
        "Bagging (Bootstrap Aggregating) adalah teknik ensemble yang digunakan dalam pembelajaran mesin untuk meningkatkan kinerja model dengan menggabungkan hasil beberapa model prediksi. Latar belakangnya adalah untuk mengatasi masalah overfitting yang mungkin terjadi dalam model tunggal. Bagging memanfaatkan prinsip bahwa agregasi dari beberapa model yang dikenakan pada subset data yang diambil secara acak dapat menghasilkan hasil yang lebih baik daripada model tunggal.\n",
        "\n",
        "Cara Kerja Bagging:\n",
        "Cara kerja bagging adalah sebagai berikut:\n",
        "\n",
        "Data dibagi menjadi beberapa subset acak dengan penggantian (bootstrap samples).\n",
        "Model dasar (biasanya pohon keputusan dalam kasus Random Forest) dilatih pada setiap subset.\n",
        "Prediksi dari setiap model dasar digabungkan dengan cara agregasi, seperti voting untuk klasifikasi atau rata-rata untuk regresi.\n",
        "Hasil prediksi agregat inilah yang digunakan sebagai output model bagging.\n",
        "Perbedaan dengan Random Forest:\n",
        "Random Forest adalah variasi dari Bagging yang khusus digunakan untuk pohon keputusan. Perbedan utama antara Random Forest dan Bagging biasa adalah bahwa Random Forest secara tambahan menerapkan konsep pemilihan fitur acak. Artinya, setiap pohon dalam Random Forest hanya memiliki akses ke subset acak dari fitur-fitur yang ada dalam data. Hal ini membantu mengurangi korelasi antara pohon-pohon dalam ensemble, sehingga menghasilkan model yang lebih kuat.\n",
        "\n",
        "Algoritma Boosting:\n",
        "Boosting adalah teknik ensemble lainnya yang bekerja dengan cara menggabungkan beberapa model prediksi yang lemah (weak learner) menjadi model yang lebih kuat. Ini dilakukan dengan memberikan \"berat\" lebih pada kasus yang salah diklasifikasikan pada iterasi sebelumnya. Perbedaan utama dengan Bagging adalah bahwa Boosting fokus pada mengurangi bias (underfitting) daripada varian (overfitting).\n",
        "\n",
        "Cross Validation:\n",
        "Cross Validation adalah metode yang digunakan untuk mengukur sejauh mana model yang dibangun dari suatu dataset dapat diterapkan pada data yang belum pernah dilihat sebelumnya. Cara kerjanya adalah dengan membagi data menjadi beberapa bagian (fold), melatih model pada sebagian data, dan menguji model pada bagian lainnya. Proses ini dilakukan beberapa kali dengan variasi pengaturan data latih dan uji. Tujuannya adalah untuk mendapatkan estimasi yang lebih akurat tentang kinerja model. Salah satu metrik umum yang digunakan dalam Cross Validation adalah akurasi, F1-score, atau area di bawah kurva ROC (AUC). Cross Validation membantu menghindari overfitting dan memastikan bahwa model dapat menggeneralisasi dengan baik ke data yang belum pernah dilihat sebelumnya.\n"
      ]
    },
    {
      "cell_type": "markdown",
      "metadata": {},
      "source": [
        "# Kesimpulan model"
      ]
    },
    {
      "cell_type": "markdown",
      "metadata": {},
      "source": [
        "**Kesimpulan**:\n",
        "\n",
        "Model SVC yang saya kembangkan menunjukkan kinerja yang sangat baik dengan akurasi sebesar 90% pada data pengujian. Meskipun skor recall yang sangat tinggi pada data pelatihan mungkin mengindikasikan potensi overfitting, performa yang tetap tinggi pada data pengujian menunjukkan bahwa model ini memiliki kapasitas yang baik dalam menggeneralisasi dan efektif dalam mengklasifikasikan data yang belum dikenal."
      ]
    }
  ],
  "metadata": {
    "colab": {
      "provenance": []
    },
    "kernelspec": {
      "display_name": "Python 3",
      "name": "python3"
    },
    "language_info": {
      "codemirror_mode": {
        "name": "ipython",
        "version": 3
      },
      "file_extension": ".py",
      "mimetype": "text/x-python",
      "name": "python",
      "nbconvert_exporter": "python",
      "pygments_lexer": "ipython3",
      "version": "3.8.17"
    }
  },
  "nbformat": 4,
  "nbformat_minor": 0
}
